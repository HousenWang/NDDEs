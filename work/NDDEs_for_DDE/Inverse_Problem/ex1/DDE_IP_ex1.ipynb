{
 "cells": [
  {
   "cell_type": "markdown",
   "id": "e028d568-7bec-4809-a817-ca81294d98a5",
   "metadata": {},
   "source": [
    "## Importing required libraries"
   ]
  },
  {
   "cell_type": "code",
   "execution_count": 1,
   "id": "c0b6f3eb-3244-4412-812e-3728ea8ce634",
   "metadata": {
    "execution": {
     "iopub.execute_input": "2024-08-17T12:29:49.651863Z",
     "iopub.status.busy": "2024-08-17T12:29:49.651593Z",
     "iopub.status.idle": "2024-08-17T12:29:51.358517Z",
     "shell.execute_reply": "2024-08-17T12:29:51.357475Z",
     "shell.execute_reply.started": "2024-08-17T12:29:49.651837Z"
    },
    "scrolled": true,
    "tags": []
   },
   "outputs": [],
   "source": [
    "import sys \n",
    "sys.path.append('/home/aistudio/external-libraries')\n",
    "\n",
    "import jax \n",
    "import jax.numpy as jnp\n",
    "import optax\n",
    "import jaxopt\n",
    "from jax import device_put\n",
    "\n",
    "jax.config.update(\"jax_enable_x64\", True)\n",
    "\n",
    "import math\n",
    "import numpy as np\n",
    "import pandas as pd\n",
    "import matplotlib.pyplot as plt\n",
    "from matplotlib import font_manager\n",
    "\n",
    "font_path = '/home/aistudio/Times_New_Roman.ttf'\n",
    "prop = font_manager.FontProperties(fname=font_path)"
   ]
  },
  {
   "cell_type": "markdown",
   "id": "12eb28bb-a12d-462c-9f7d-d86347522c8b",
   "metadata": {},
   "source": [
    "## Data Loading and Generating"
   ]
  },
  {
   "cell_type": "code",
   "execution_count": 2,
   "id": "30d12e5a-33b1-4661-ade3-48beed60e129",
   "metadata": {
    "execution": {
     "iopub.execute_input": "2024-08-17T12:29:51.361350Z",
     "iopub.status.busy": "2024-08-17T12:29:51.360810Z",
     "iopub.status.idle": "2024-08-17T12:29:54.278942Z",
     "shell.execute_reply": "2024-08-17T12:29:54.277607Z",
     "shell.execute_reply.started": "2024-08-17T12:29:51.361319Z"
    },
    "scrolled": true
   },
   "outputs": [],
   "source": [
    "# Define the real time lag for the model\n",
    "real_lag = 0.5\n",
    "# real_lag = 1.0\n",
    "# real_lag = 1.5\n",
    "\n",
    "# Load the dataset with the given real lag value\n",
    "data_path = f\"/home/aistudio/work/NDDEs_for_DDE/Inverse_Problem/ex1/points_tau_{real_lag}.csv\"\n",
    "data = pd.read_csv(data_path)\n",
    "\n",
    "# Extract given data points from the dataset and convert to JAX-compatible numpy array\n",
    "init_data = jnp.array(data.iloc[:, [0, 1]].to_numpy())\n",
    "\n",
    "# N_i represents the number of boundary conditions, conds represents the initial condition y(0) = 1\n",
    "N_i = 1\n",
    "t0 = jnp.ones([N_i, 1], dtype='float64') * 0.0\n",
    "u0 = jnp.ones_like(t0)\n",
    "conds = jnp.concatenate([t0, u0], axis=1)\n",
    "\n",
    "# Initial key for random number generator\n",
    "ik = 0\n",
    "\n",
    "# Number of internal random points\n",
    "N_f = 5000\n",
    "\n",
    "# Range for sampling points\n",
    "tmin, tmax = 0.0, 10.\n",
    "\n",
    "# Generate random points within the specified range\n",
    "jaxKey = jax.random.PRNGKey(ik)\n",
    "inPoints = jax.random.uniform(jaxKey, minval=tmin, maxval=tmax, shape=(N_f,1), dtype='float64')"
   ]
  },
  {
   "cell_type": "markdown",
   "id": "7e1ff377-0d05-47c0-946a-ca699b5d905b",
   "metadata": {},
   "source": [
    "## Defining the Delay Differential Equation\n",
    "\n",
    "Consider the delay differential equation with a single unknown time delay on the solution interval $[0,10]$:\n",
    "\n",
    "\\begin{equation}\n",
    "\\begin{cases}\n",
    "\\begin{aligned}\n",
    "        y'(t) = {}& -y(t-\\tau),\\qquad & t \\geq 0\\\\\n",
    "        y(t) = {}& 1, & t \\leq 0\n",
    "\\end{aligned}\n",
    "\\end{cases}.\n",
    "\\end{equation}"
   ]
  },
  {
   "cell_type": "code",
   "execution_count": 3,
   "id": "a25e8943-598a-4760-af02-540bcf5533f1",
   "metadata": {
    "execution": {
     "iopub.execute_input": "2024-08-17T12:29:54.280957Z",
     "iopub.status.busy": "2024-08-17T12:29:54.280489Z",
     "iopub.status.idle": "2024-08-17T12:29:54.286412Z",
     "shell.execute_reply": "2024-08-17T12:29:54.285662Z",
     "shell.execute_reply.started": "2024-08-17T12:29:54.280925Z"
    },
    "scrolled": true,
    "tags": []
   },
   "outputs": [],
   "source": [
    "# Define the differential equation\n",
    "def DDE(t, u, lag):\n",
    "    # Define u'(t)\n",
    "    u_t = lambda t: jax.grad(lambda t: jnp.sum(u(t)))(t)\n",
    "\n",
    "    # Define the right-hand side of the DDE\n",
    "    rhs = jnp.where(t > lag, u(t - lag), 1)\n",
    "    return u_t(t) + rhs"
   ]
  },
  {
   "cell_type": "markdown",
   "id": "a169b6b8-c352-4d12-b0f0-debcc6963c7f",
   "metadata": {},
   "source": [
    "## DNNs Model Definition and Parameter Initialization"
   ]
  },
  {
   "cell_type": "code",
   "execution_count": 4,
   "id": "a09de630-866b-470e-b7ce-7357556f1e9c",
   "metadata": {
    "execution": {
     "iopub.execute_input": "2024-08-17T12:29:54.287763Z",
     "iopub.status.busy": "2024-08-17T12:29:54.287426Z",
     "iopub.status.idle": "2024-08-17T12:29:54.295854Z",
     "shell.execute_reply": "2024-08-17T12:29:54.295033Z",
     "shell.execute_reply.started": "2024-08-17T12:29:54.287739Z"
    },
    "scrolled": true,
    "tags": []
   },
   "outputs": [],
   "source": [
    "# Define the DNNs model\n",
    "def DNNs(params, x):\n",
    "    for w, b in params[:-2]:\n",
    "        x = jnp.dot(x, w) + b\n",
    "        x = jnp.tanh(x)\n",
    "        \n",
    "    w, b = params[-2]\n",
    "    x = jnp.dot(x, w) + b\n",
    "    return x\n",
    "\n",
    "# Xavier initialization for the layer parameters\n",
    "def random_layer_params_xavier(m, n, key):\n",
    "    # Define lower and upper bounds for Xavier initialization\n",
    "    lb, ub = -(1/jnp.sqrt(m)), (1/jnp.sqrt(n)) \n",
    "\n",
    "    w_key, b_key = jax.random.split(key)\n",
    "    return lb + (ub-lb) * jax.random.uniform(w_key, (m, n)), jax.random.uniform(b_key, (n,))\n",
    "\n",
    "# Initialize parameters for all layers in a fully-connected neural network with the specified sizes\n",
    "def init_network_params(sizes, key):\n",
    "    keys = jax.random.split(key, len(sizes))\n",
    "    return [random_layer_params_xavier(m, n, k) for m, n, k in zip(sizes[:-1], sizes[1:], keys)]"
   ]
  },
  {
   "cell_type": "markdown",
   "id": "b2de89bf-d965-458d-9591-f5110884967d",
   "metadata": {},
   "source": [
    "## Defining the loss function"
   ]
  },
  {
   "cell_type": "code",
   "execution_count": 5,
   "id": "59021372-b99d-458d-a9e9-cc39341c3101",
   "metadata": {
    "execution": {
     "iopub.execute_input": "2024-08-17T12:29:54.297290Z",
     "iopub.status.busy": "2024-08-17T12:29:54.296947Z",
     "iopub.status.idle": "2024-08-17T12:29:54.305289Z",
     "shell.execute_reply": "2024-08-17T12:29:54.304310Z",
     "shell.execute_reply.started": "2024-08-17T12:29:54.297267Z"
    },
    "scrolled": true
   },
   "outputs": [],
   "source": [
    "@jax.jit\n",
    "def loss_fun(params, inPoints, conds, init_data):\n",
    "    # Retrieve the time delay (lag) from parameters\n",
    "    lag = params[-1][0]\n",
    "    t_f = inPoints[:, [0]]\n",
    "    # Define the neural network function using current parameters\n",
    "    ufunc = lambda t: DNNs(params, t)\n",
    "\n",
    "    # Calculate the loss due to the differential equation\n",
    "    loss_f = jnp.mean(DDE(t_f, ufunc, lag)**2)\n",
    "\n",
    "    # Calculate the loss due to the initial conditions\n",
    "    t_0, u_0 = conds[:, [0]], conds[:, [1]]\n",
    "    loss_i = jnp.mean((ufunc(t_0) - u_0)**2)\n",
    "\n",
    "    # Calculate the loss due to known data points\n",
    "    t_i, u_i = init_data[:, [0]], init_data[:, [1]]\n",
    "    loss_g = jnp.mean((u_i - ufunc(t_i))**2)\n",
    "\n",
    "    # Compute the sum of loss from all components\n",
    "    loss_sum = loss_f + loss_i + loss_g\n",
    "\n",
    "    # Calculate the weighted contribution of each loss component to the total loss\n",
    "    w_f = loss_f / loss_sum\n",
    "    w_i = loss_i / loss_sum\n",
    "    w_g = loss_g / loss_sum\n",
    "\n",
    "    # Compute the weighted average of the losses to form the total loss\n",
    "    loss_total = w_f * loss_f + w_i * loss_i + w_g * loss_g\n",
    "\n",
    "    return loss_total"
   ]
  },
  {
   "cell_type": "markdown",
   "id": "614370e5-c8a2-41c2-9e40-9c54b2a31b25",
   "metadata": {},
   "source": [
    "## DNNs initialization"
   ]
  },
  {
   "cell_type": "code",
   "execution_count": 6,
   "id": "6110d15d-1d29-4348-a466-8126e4903ce0",
   "metadata": {
    "execution": {
     "iopub.execute_input": "2024-08-17T12:29:54.306725Z",
     "iopub.status.busy": "2024-08-17T12:29:54.306410Z",
     "iopub.status.idle": "2024-08-17T12:29:59.526611Z",
     "shell.execute_reply": "2024-08-17T12:29:59.525418Z",
     "shell.execute_reply.started": "2024-08-17T12:29:54.306701Z"
    },
    "scrolled": true,
    "tags": []
   },
   "outputs": [],
   "source": [
    "# Define the architecture of the neural network\n",
    "netLayers = [1, 20, 40, 20, 1]\n",
    "\n",
    "# Initialize network parameters using a predefined random key\n",
    "key1 = jax.random.PRNGKey(ik)\n",
    "params = init_network_params(netLayers, key1)\n",
    "\n",
    "# Append the parameter for the inverse problem (time delay 'lag') to the network parameters\n",
    "lag_params = jnp.array([0.], dtype=jnp.float64)\n",
    "params.append(lag_params)"
   ]
  },
  {
   "cell_type": "code",
   "execution_count": 7,
   "id": "871e806c-3952-4597-8e6a-a61fff6103a9",
   "metadata": {
    "execution": {
     "iopub.execute_input": "2024-08-17T12:29:59.528757Z",
     "iopub.status.busy": "2024-08-17T12:29:59.528206Z",
     "iopub.status.idle": "2024-08-17T12:31:06.950674Z",
     "shell.execute_reply": "2024-08-17T12:31:06.949412Z",
     "shell.execute_reply.started": "2024-08-17T12:29:59.528707Z"
    },
    "scrolled": true,
    "tags": []
   },
   "outputs": [
    {
     "name": "stdout",
     "output_type": "stream",
     "text": [
      "Epoch 0, Loss: 71.26576863267358\r\n",
      "Epoch 2000, Loss: 0.0005629027461038123\r\n",
      "Epoch 4000, Loss: 0.00022322609460214294\r\n",
      "Epoch 6000, Loss: 3.0263527462461263e-05\r\n",
      "Epoch 8000, Loss: 2.054505120451556e-05\r\n",
      "Epoch 10000, Loss: 1.906220172942606e-05\r\n",
      "Epoch 12000, Loss: 1.9733398728162845e-05\r\n",
      "Epoch 14000, Loss: 1.631789092724228e-05\r\n",
      "Epoch 16000, Loss: 1.4381266230203907e-05\r\n",
      "Epoch 18000, Loss: 1.089194983732754e-05\r\n",
      "Epoch 20000, Loss: 0.003810031313121242\r\n",
      "Epoch 22000, Loss: 3.6182374146409726e-06\r\n",
      "Epoch 24000, Loss: 3.5836156536656224e-06\r\n",
      "Epoch 26000, Loss: 3.450836066008265e-06\r\n",
      "Epoch 28000, Loss: 4.917832126714808e-06\r\n",
      "Epoch 30000, Loss: 3.3764931127969345e-06\r\n",
      "Epoch 32000, Loss: 3.180813678772001e-06\r\n",
      "Epoch 34000, Loss: 3.225197474351673e-06\r\n",
      "Epoch 36000, Loss: 2.8230957230474986e-06\r\n",
      "Epoch 38000, Loss: 2.909769032171885e-06\r\n",
      "Epoch 40000, Loss: 2.686877608629919e-06\r\n",
      "Epoch 42000, Loss: 2.467849566165529e-06\r\n",
      "Epoch 44000, Loss: 2.1416883629641193e-06\r\n",
      "Epoch 46000, Loss: 1.6979604488887916e-06\r\n",
      "Epoch 48000, Loss: 1.6822140886048984e-06\r\n",
      "Epoch 50000, Loss: 1.6857068122511954e-06\r\n",
      "Epoch 52000, Loss: 4.791220384344817e-06\r\n",
      "Epoch 54000, Loss: 1.456128906840887e-06\r\n",
      "Epoch 56000, Loss: 1.4380636478967135e-06\r\n",
      "Epoch 58000, Loss: 1.397493858650585e-06\r\n",
      "Epoch 60000, Loss: 1.3590525731055387e-06\r\n",
      "Epoch 62000, Loss: 1.2018461630312912e-06\r\n",
      "Epoch 64000, Loss: 1.1831579622934922e-06\r\n",
      "Epoch 66000, Loss: 1.1676564161375767e-06\r\n",
      "Epoch 68000, Loss: 9.70230700697303e-07\r\n",
      "Epoch 70000, Loss: 8.932816152930771e-07\r\n",
      "Epoch 72000, Loss: 8.155997869033636e-07\r\n",
      "Epoch 74000, Loss: 6.872847461193587e-07\r\n",
      "Epoch 76000, Loss: 5.937223493019919e-07\r\n",
      "Epoch 78000, Loss: 3.6718960742131424e-07\r\n",
      "Epoch 80000, Loss: 3.410672575016038e-07\r\n"
     ]
    }
   ],
   "source": [
    "# Define the number of training epochs\n",
    "epochs = 80001\n",
    "\n",
    "# Lists to store the history of parameters and loss values during training\n",
    "params_history = []\n",
    "loss_history = []\n",
    "\n",
    "# Define the ADAM optimizer with an exponential decay learning rate scheduler\n",
    "scheduler = optax.exponential_decay(init_value=1e-3, transition_steps=10000, decay_rate=0.9)\n",
    "optimizer = optax.adam(learning_rate=scheduler)\n",
    "\n",
    "# Initialize the optimizer state\n",
    "opt_state = optimizer.init(params)\n",
    "\n",
    "# Define the update function, decorated with 'jax.jit' for enhanced performance\n",
    "@jax.jit\n",
    "def update(params, opt_state, inPoints, conds, init_data):\n",
    "    # Calculate loss and gradients\n",
    "    loss, grads = jax.value_and_grad(loss_fun)(params, inPoints, conds, init_data)\n",
    "    # Update parameters based on gradients\n",
    "    updates, opt_state = optimizer.update(grads, opt_state, params)\n",
    "    params = optax.apply_updates(params, updates)\n",
    "    return params, opt_state, loss\n",
    "\n",
    "# Execute the training loop\n",
    "for epoch in range(epochs):\n",
    "    # Perform a single update step\n",
    "    params, opt_state, loss = update(params, opt_state, inPoints, conds, init_data)\n",
    "    # Append the last parameter set and the corresponding loss to their histories\n",
    "    params_history.append(params[-1])\n",
    "    loss_history.append(loss)\n",
    "    # Output loss information every 2000 epochs\n",
    "    if epoch % 2000 == 0:\n",
    "        print(f'Epoch {epoch}, Loss: {loss}')"
   ]
  },
  {
   "cell_type": "markdown",
   "id": "8260879f-8297-4980-9534-0d9db422b735",
   "metadata": {},
   "source": [
    "## Result visualization"
   ]
  },
  {
   "cell_type": "code",
   "execution_count": 8,
   "id": "03ad3ac1-e10b-49c3-bb9c-0575cbce28e8",
   "metadata": {
    "execution": {
     "iopub.execute_input": "2024-08-17T12:31:06.952680Z",
     "iopub.status.busy": "2024-08-17T12:31:06.952186Z",
     "iopub.status.idle": "2024-08-17T12:31:11.639189Z",
     "shell.execute_reply": "2024-08-17T12:31:11.638153Z",
     "shell.execute_reply.started": "2024-08-17T12:31:06.952645Z"
    },
    "scrolled": true,
    "tags": []
   },
   "outputs": [
    {
     "data": {
      "image/png": "[encoded data removed]",
      "text/plain": [
       "<Figure size 629.921x472.441 with 1 Axes>"
      ]
     },
     "metadata": {},
     "output_type": "display_data"
    }
   ],
   "source": [
    "# Generate a linearly spaced array of time points\n",
    "T = np.linspace(tmin, tmax, 10000).reshape(-1,1) \n",
    "# Evaluate the neural network at these time points\n",
    "nn_sol1 = DNNs(params, T)\n",
    "\n",
    "# Extract time points and real data from the dataset\n",
    "t_points = data.iloc[:, 0]\n",
    "y_real = data.iloc[:, 1]\n",
    "\n",
    "# Set the figure size in centimeters (4:3 aspect ratio)\n",
    "plt.figure(figsize=(16 / 2.54, 12 / 2.54))\n",
    "\n",
    "# Plot the given data as scatter points\n",
    "plt.scatter(t_points, y_real, label='Given Data of $y(t)$', color='blue', marker='x')\n",
    "# Plot the neural network's predictions as a line\n",
    "plt.plot(T, nn_sol1, 'k', label='Predicted Values: $\\hat{y}(t)$')\n",
    "\n",
    "# Add a legend with custom font properties\n",
    "plt.legend(prop=prop)\n",
    "\n",
    "# Set the labels for the axes with custom font properties\n",
    "plt.xlabel('$t$', fontproperties=prop)\n",
    "plt.ylabel('$y(t)$', fontproperties=prop)\n",
    "\n",
    "# Get the current axes, set the font properties for ticks\n",
    "ax = plt.gca()\n",
    "for label in ax.get_xticklabels() + ax.get_yticklabels():\n",
    "    label.set_fontproperties(prop)\n",
    "\n",
    "# Add grid lines major only, with specific style and linewidth\n",
    "plt.grid(True, which='major', axis='both', linestyle='--', linewidth=0.5)\n",
    "\n",
    "# Save the figure with high resolution\n",
    "# plt.savefig(f'DDE_IP_ex1_lag_{real_lag}.png', dpi=600, bbox_inches='tight')\n",
    "\n",
    "# Display the plot\n",
    "plt.show()"
   ]
  },
  {
   "cell_type": "code",
   "execution_count": 9,
   "id": "a7761564-a24c-4bf5-92f2-78f388c40d16",
   "metadata": {
    "execution": {
     "iopub.execute_input": "2024-08-17T12:31:11.641236Z",
     "iopub.status.busy": "2024-08-17T12:31:11.640782Z",
     "iopub.status.idle": "2024-08-17T12:31:20.345326Z",
     "shell.execute_reply": "2024-08-17T12:31:20.344391Z",
     "shell.execute_reply.started": "2024-08-17T12:31:11.641194Z"
    },
    "scrolled": true,
    "tags": []
   },
   "outputs": [
    {
     "data": {
      "image/png": "[encoded data removed]",
      "text/plain": [
       "<Figure size 629.921x472.441 with 1 Axes>"
      ]
     },
     "metadata": {},
     "output_type": "display_data"
    }
   ],
   "source": [
    "# Define a function to compute the moving average of data\n",
    "def moving_average(data, window_size):\n",
    "    \"\"\" Calculate moving average using a convolution approach. \"\"\"\n",
    "    return np.convolve(data, np.ones(window_size) / window_size, mode='valid')\n",
    "\n",
    "# Define a function to compute relative error bounds\n",
    "def relative_error_lines(real_value, error_percentage):\n",
    "    \"\"\" Calculate the lower and upper bounds of real_value considering a percentage error. \"\"\"\n",
    "    lower_bound = real_value * (1 - error_percentage / 100)\n",
    "    upper_bound = real_value * (1 + error_percentage / 100)\n",
    "    return lower_bound, upper_bound, error_percentage\n",
    "\n",
    "# Set the size of the moving average window\n",
    "window_size = 100\n",
    "\n",
    "# Calculate the smoothed loss history using the moving average function\n",
    "smoothed_loss_history = moving_average(loss_history, window_size)\n",
    "# Adjust the length of the parameters history to match the smoothed loss\n",
    "smoothed_params_history = params_history[:len(smoothed_loss_history)]\n",
    "\n",
    "# Calculate error bounds for the given real_lag with a 3% error margin\n",
    "lower_bound, upper_bound, error_percentage = relative_error_lines(real_lag, 3)\n",
    "\n",
    "# Set the figure size in a 4:3 aspect ratio\n",
    "plt.figure(figsize=(16 / 2.54, 12 / 2.54))\n",
    "\n",
    "# Plot the smoothed loss history\n",
    "plt.plot(smoothed_params_history, smoothed_loss_history, 'k', label='Smoothed Loss')\n",
    "\n",
    "# Draw vertical lines representing the 3% error range\n",
    "plt.axvline(x=lower_bound, color='red', linestyle='--', linewidth=1, label=f'{error_percentage}% Relative Error Line')\n",
    "plt.axvline(x=upper_bound, color='red', linestyle='--', linewidth=1)\n",
    "\n",
    "# Set the y-axis to logarithmic scale for better visualization of differences\n",
    "plt.yscale('log')\n",
    "\n",
    "# Add labels to the axes\n",
    "plt.xlabel('$\\\\tau$', fontproperties=prop)\n",
    "plt.ylabel('Loss', fontproperties=prop)\n",
    "\n",
    "# Customize the tick labels using font properties\n",
    "ax = plt.gca()\n",
    "for label in ax.get_xticklabels() + ax.get_yticklabels():\n",
    "    label.set_fontproperties(prop)\n",
    "\n",
    "# Add grid lines, major only, with specific style\n",
    "plt.grid(True, which='major', axis='both', linestyle='--', linewidth=0.5)\n",
    "\n",
    "# Display the legend with custom font properties\n",
    "plt.legend(prop=prop)\n",
    "\n",
    "# Save the figure with high resolution\n",
    "# plt.savefig(f'DDE_IP_ex1_{real_lag}_loss.png', dpi=600, bbox_inches='tight')\n",
    "\n",
    "# Display the plot\n",
    "plt.show()"
   ]
  },
  {
   "cell_type": "markdown",
   "id": "772653e1-2532-494b-84e3-ab26549c9a45",
   "metadata": {},
   "source": [
    "## Calculating Relative Error"
   ]
  },
  {
   "cell_type": "code",
   "execution_count": 10,
   "id": "f86e4454-3031-47e8-abc0-94101454c31e",
   "metadata": {
    "execution": {
     "iopub.execute_input": "2024-08-17T12:31:20.347231Z",
     "iopub.status.busy": "2024-08-17T12:31:20.346546Z",
     "iopub.status.idle": "2024-08-17T12:31:21.268737Z",
     "shell.execute_reply": "2024-08-17T12:31:21.267633Z",
     "shell.execute_reply.started": "2024-08-17T12:31:20.347200Z"
    },
    "scrolled": true,
    "tags": []
   },
   "outputs": [
    {
     "name": "stdout",
     "output_type": "stream",
     "text": [
      "Relative Error: [0.00300265]\r\n",
      "lag: [0.49849868]\r\n"
     ]
    }
   ],
   "source": [
    "print(f\"Relative Error: {abs(params[-1]-real_lag)/real_lag}\")\n",
    "print(f\"lag: {params[-1]}\")"
   ]
  }
 ],
 "metadata": {
  "kernelspec": {
   "display_name": "Python 3",
   "language": "python",
   "name": "py35-paddle1.2.0"
  },
  "language_info": {
   "codemirror_mode": {
    "name": "ipython",
    "version": 3
   },
   "file_extension": ".py",
   "mimetype": "text/x-python",
   "name": "python",
   "nbconvert_exporter": "python",
   "pygments_lexer": "ipython3",
   "version": "3.7.4"
  }
 },
 "nbformat": 4,
 "nbformat_minor": 5
}
