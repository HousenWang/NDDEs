{
 "cells": [
  {
   "cell_type": "markdown",
   "id": "e028d568-7bec-4809-a817-ca81294d98a5",
   "metadata": {},
   "source": [
    "## Importing required libraries"
   ]
  },
  {
   "cell_type": "code",
   "execution_count": 1,
   "id": "c0b6f3eb-3244-4412-812e-3728ea8ce634",
   "metadata": {
    "execution": {
     "iopub.execute_input": "2024-08-17T06:20:01.977960Z",
     "iopub.status.busy": "2024-08-17T06:20:01.977597Z",
     "iopub.status.idle": "2024-08-17T06:20:03.743235Z",
     "shell.execute_reply": "2024-08-17T06:20:03.742086Z",
     "shell.execute_reply.started": "2024-08-17T06:20:01.977932Z"
    },
    "scrolled": true,
    "tags": []
   },
   "outputs": [],
   "source": [
    "import sys \n",
    "sys.path.append('/home/aistudio/external-libraries')\n",
    "\n",
    "import jax \n",
    "import jax.numpy as jnp\n",
    "import optax\n",
    "import jaxopt\n",
    "from jax import device_put\n",
    "\n",
    "jax.config.update(\"jax_enable_x64\", True)\n",
    "\n",
    "import math\n",
    "import numpy as np\n",
    "import pandas as pd\n",
    "import matplotlib.pyplot as plt\n",
    "from matplotlib import font_manager\n",
    "\n",
    "font_path = '/home/aistudio/Times_New_Roman.ttf'\n",
    "prop = font_manager.FontProperties(fname=font_path)"
   ]
  },
  {
   "cell_type": "markdown",
   "id": "4fadf9db-dc08-4596-b7a6-2057e7a811e3",
   "metadata": {},
   "source": [
    "## Data Loading and Generating"
   ]
  },
  {
   "cell_type": "code",
   "execution_count": 2,
   "id": "d86b5a3b-2e46-4650-a42c-31f761d84391",
   "metadata": {
    "execution": {
     "iopub.execute_input": "2024-08-17T06:20:03.746278Z",
     "iopub.status.busy": "2024-08-17T06:20:03.745676Z",
     "iopub.status.idle": "2024-08-17T06:20:06.565174Z",
     "shell.execute_reply": "2024-08-17T06:20:06.563827Z",
     "shell.execute_reply.started": "2024-08-17T06:20:03.746244Z"
    },
    "scrolled": true
   },
   "outputs": [],
   "source": [
    "# Define the true time delay parameter for the model\n",
    "real_lag = 0.5\n",
    "\n",
    "# Define the true growth rate 'r' and carrying capacity 'k' for the system\n",
    "real_r = 0.6\n",
    "real_k = 100\n",
    "\n",
    "# Define derived parameters 'a' and 'b' based on the biological interpretation:\n",
    "# 'a' corresponds to the growth rate 'r'\n",
    "# 'b' corresponds to the growth rate divided by the carrying capacity (r/k)\n",
    "real_a = 0.6\n",
    "real_b = 0.006\n",
    "\n",
    "# Load the dataset with the given real lag value\n",
    "data_path = f\"/home/aistudio/work/NDDEs_for_DDE/Inverse_Problem/ex2/points_tau_{real_lag}.csv\"\n",
    "data = pd.read_csv(data_path)\n",
    "\n",
    "# Extract given data points from the dataset and convert to JAX-compatible numpy array\n",
    "init_data = jnp.array(data.iloc[:, [0, 1]].to_numpy())\n",
    "\n",
    "# N_i represents the number of boundary conditions, conds represents the initial condition y(0) = 1\n",
    "N_i = 1\n",
    "t0 = jnp.ones([N_i, 1], dtype='float64') * 0.0\n",
    "u0 = jnp.ones_like(t0)\n",
    "conds = jnp.concatenate([t0, u0], axis=1)\n",
    "\n",
    "# Initial key for random number generator\n",
    "ik = 0\n",
    "\n",
    "# Number of internal random points\n",
    "N_f = 5000\n",
    "\n",
    "# Range for sampling points\n",
    "tmin, tmax = 0.0, 20.\n",
    "\n",
    "# Generate random points within the specified range\n",
    "jaxKey = jax.random.PRNGKey(ik)\n",
    "inPoints = jax.random.uniform(jaxKey, minval=tmin, maxval=tmax, shape=(N_f,1), dtype='float64')"
   ]
  },
  {
   "cell_type": "markdown",
   "id": "62970ece-d6b5-4e0e-a6c9-c0042341528c",
   "metadata": {},
   "source": [
    "## Defining the Delay Differential Equation\n",
    "\n",
    "Consider the delay differential equation with a single unknown time delay on the solution interval $[0,20]$:\n",
    "\n",
    "\\begin{equation}\n",
    "\\begin{cases}\n",
    "\\begin{aligned}\n",
    "        y'(t) = {}& a \\cdot y(t) - b \\cdot y(t) \\cdot y(t-\\tau),,\\qquad & t \\geq 0\\\\\n",
    "        y(t) = {}& 1, & t \\leq 0\n",
    "\\end{aligned}\n",
    "\\end{cases}.\n",
    "\\end{equation}"
   ]
  },
  {
   "cell_type": "code",
   "execution_count": 3,
   "id": "a25e8943-598a-4760-af02-540bcf5533f1",
   "metadata": {
    "execution": {
     "iopub.execute_input": "2024-08-17T06:20:06.567283Z",
     "iopub.status.busy": "2024-08-17T06:20:06.566832Z",
     "iopub.status.idle": "2024-08-17T06:20:06.573551Z",
     "shell.execute_reply": "2024-08-17T06:20:06.572775Z",
     "shell.execute_reply.started": "2024-08-17T06:20:06.567251Z"
    },
    "scrolled": true,
    "tags": []
   },
   "outputs": [],
   "source": [
    "# Define the differential equation\n",
    "def DDE(t, u, lag, a, b):\n",
    "    # Define u'(t)\n",
    "    u_t = lambda t: jax.grad(lambda t: jnp.sum(u(t)))(t)\n",
    "\n",
    "    # Define the right-hand side of the DDE\n",
    "    rhs = a*u(t) - b*u(t)*jnp.where(t>lag, u(t-lag), 1)\n",
    "    return u_t(t) - rhs"
   ]
  },
  {
   "cell_type": "markdown",
   "id": "5900b0c0-93c4-4bd9-be72-19fcbd1cd57e",
   "metadata": {},
   "source": [
    "## DNNs Model Definition and Parameter Initialization"
   ]
  },
  {
   "cell_type": "code",
   "execution_count": 4,
   "id": "cbb25817-674e-4fc2-87b5-6c31ab9098fa",
   "metadata": {
    "execution": {
     "iopub.execute_input": "2024-08-17T06:20:06.575108Z",
     "iopub.status.busy": "2024-08-17T06:20:06.574626Z",
     "iopub.status.idle": "2024-08-17T06:20:06.587043Z",
     "shell.execute_reply": "2024-08-17T06:20:06.586204Z",
     "shell.execute_reply.started": "2024-08-17T06:20:06.575082Z"
    },
    "scrolled": true,
    "tags": []
   },
   "outputs": [],
   "source": [
    "# Define the DNNs model\n",
    "def DNNs(params, x):\n",
    "    for w, b in params[:-2]:\n",
    "        x = jnp.dot(x, w) + b\n",
    "        x = jnp.tanh(x)\n",
    "        \n",
    "    w, b = params[-2]\n",
    "    x = jnp.dot(x, w) + b\n",
    "    return x\n",
    "\n",
    "# Xavier initialization for the layer parameters\n",
    "def random_layer_params_xavier(m, n, key):\n",
    "    # Define lower and upper bounds for Xavier initialization\n",
    "    lb, ub = -(1/jnp.sqrt(m)), (1/jnp.sqrt(n)) \n",
    "\n",
    "    w_key, b_key = jax.random.split(key)\n",
    "    return lb + (ub-lb) * jax.random.uniform(w_key, (m, n)), jax.random.uniform(b_key, (n,))\n",
    "\n",
    "# Initialize parameters for all layers in a fully-connected neural network with the specified sizes\n",
    "def init_network_params(sizes, key):\n",
    "    keys = jax.random.split(key, len(sizes))\n",
    "    return [random_layer_params_xavier(m, n, k) for m, n, k in zip(sizes[:-1], sizes[1:], keys)]"
   ]
  },
  {
   "cell_type": "markdown",
   "id": "2b6083ed-270b-4276-9810-c3681f38943c",
   "metadata": {},
   "source": [
    "## Defining the loss function"
   ]
  },
  {
   "cell_type": "code",
   "execution_count": 4,
   "id": "5d0c9ab3-31e9-4193-8d05-33773312da94",
   "metadata": {
    "execution": {
     "iopub.execute_input": "2024-08-17T06:20:06.575108Z",
     "iopub.status.busy": "2024-08-17T06:20:06.574626Z",
     "iopub.status.idle": "2024-08-17T06:20:06.587043Z",
     "shell.execute_reply": "2024-08-17T06:20:06.586204Z",
     "shell.execute_reply.started": "2024-08-17T06:20:06.575082Z"
    },
    "scrolled": true,
    "tags": []
   },
   "outputs": [],
   "source": [
    "@jax.jit\n",
    "def loss_fun(params, inPoints, conds, init_data):\n",
    "    lag, a, b = params[-1][0], params[-1][1], params[-1][2]\n",
    "    t_f = inPoints[:, [0]]\n",
    "    ufunc = lambda t: DNNs(params, t)\n",
    "\n",
    "    # Calculate the loss due to the differential equation\n",
    "    loss_f = jnp.mean(DDE(t_f, ufunc, lag, a, b)**2)\n",
    "\n",
    "    # Calculate the loss due to the initial conditions\n",
    "    t_0, u_0 = conds[:, [0]], conds[:, [1]]\n",
    "    loss_i = jnp.mean((ufunc(t_0) - u_0)**2)\n",
    "\n",
    "    # Calculate the loss due to known data points\n",
    "    t_i, u_i = init_data[:, [0]], init_data[:, [1]]\n",
    "    loss_g = jnp.mean((u_i - ufunc(t_i))**2)\n",
    "\n",
    "    # Compute the sum loss from all components\n",
    "    loss_sum = loss_f + loss_i + loss_g\n",
    "\n",
    "    # Calculate the weighted contribution of each loss component to the total loss\n",
    "    w_f = loss_f / loss_sum\n",
    "    w_i = loss_i / loss_sum\n",
    "    w_g = loss_g / loss_sum\n",
    "\n",
    "    # Compute the weighted average of the losses to form the total loss\n",
    "    loss_total = w_f * loss_f + w_i * loss_i + w_g * loss_g\n",
    "\n",
    "    return loss_total"
   ]
  },
  {
   "cell_type": "markdown",
   "id": "00ecae85-e591-4585-94d3-c868df663435",
   "metadata": {},
   "source": [
    "## DNNs initialization"
   ]
  },
  {
   "cell_type": "code",
   "execution_count": 5,
   "id": "6110d15d-1d29-4348-a466-8126e4903ce0",
   "metadata": {
    "execution": {
     "iopub.execute_input": "2024-08-17T06:20:06.588424Z",
     "iopub.status.busy": "2024-08-17T06:20:06.588099Z",
     "iopub.status.idle": "2024-08-17T06:20:11.070908Z",
     "shell.execute_reply": "2024-08-17T06:20:11.069642Z",
     "shell.execute_reply.started": "2024-08-17T06:20:06.588401Z"
    },
    "scrolled": true,
    "tags": []
   },
   "outputs": [],
   "source": [
    "# Define the architecture of the neural network\n",
    "netLayers = [1, 20, 40, 20, 1]\n",
    "\n",
    "# Initialize network parameters using a predefined random key\n",
    "key1 = jax.random.PRNGKey(ik)\n",
    "params = init_network_params(netLayers, key1)\n",
    "\n",
    "# Append the parameter for the inverse problem (time delay 'lag' and system parameters 'a' and 'b') to the network parameters\n",
    "lag_and_system_params = jnp.array([0., 0., 0.], dtype=jnp.float64)\n",
    "params.append(lag_and_system_params)"
   ]
  },
  {
   "cell_type": "code",
   "execution_count": 6,
   "id": "871e806c-3952-4597-8e6a-a61fff6103a9",
   "metadata": {
    "execution": {
     "iopub.execute_input": "2024-08-17T06:20:11.072911Z",
     "iopub.status.busy": "2024-08-17T06:20:11.072460Z",
     "iopub.status.idle": "2024-08-17T06:23:49.572370Z",
     "shell.execute_reply": "2024-08-17T06:23:49.570669Z",
     "shell.execute_reply.started": "2024-08-17T06:20:11.072878Z"
    },
    "scrolled": true,
    "tags": []
   },
   "outputs": [
    {
     "name": "stdout",
     "output_type": "stream",
     "text": [
      "Epoch 0, Loss: 4722.1418927421955\r\n",
      "Epoch 1000, Loss: 2183.9170316900154\r\n",
      "Epoch 2000, Loss: 1363.890853596373\r\n",
      "Epoch 3000, Loss: 681.2237387253128\r\n",
      "Epoch 4000, Loss: 286.4690651035963\r\n",
      "Epoch 5000, Loss: 91.71204464599099\r\n",
      "Epoch 6000, Loss: 21.084640276670243\r\n",
      "Epoch 7000, Loss: 3.4894568850165166\r\n",
      "Epoch 8000, Loss: 0.27670704426927806\r\n",
      "Epoch 9000, Loss: 0.05056892068286175\r\n",
      "Epoch 10000, Loss: 0.1345542341749795\r\n",
      "Epoch 11000, Loss: 0.01225270028103514\r\n",
      "Epoch 12000, Loss: 0.009159682727657045\r\n",
      "Epoch 13000, Loss: 4.971600995877151\r\n",
      "Epoch 14000, Loss: 0.007026738267678775\r\n",
      "Epoch 15000, Loss: 0.005862402534527391\r\n",
      "Epoch 16000, Loss: 0.004972465155413103\r\n",
      "Epoch 17000, Loss: 0.003974542002493498\r\n",
      "Epoch 18000, Loss: 0.004610752195629198\r\n",
      "Epoch 19000, Loss: 0.003483244271634843\r\n",
      "Epoch 20000, Loss: 0.0028233251289580302\r\n",
      "Epoch 21000, Loss: 0.002170094507150816\r\n",
      "Epoch 22000, Loss: 0.0029945066592116376\r\n",
      "Epoch 23000, Loss: 0.0022564157183655453\r\n",
      "Epoch 24000, Loss: 0.001802056972617311\r\n",
      "Epoch 25000, Loss: 1.4421080189685986\r\n",
      "Epoch 26000, Loss: 0.0011547740583376757\r\n",
      "Epoch 27000, Loss: 0.0010200761408237387\r\n",
      "Epoch 28000, Loss: 0.0008657267045351889\r\n",
      "Epoch 29000, Loss: 0.0006776277786205515\r\n",
      "Epoch 30000, Loss: 0.000908102545102591\r\n",
      "Epoch 31000, Loss: 0.0006030435414523361\r\n",
      "Epoch 32000, Loss: 0.0004983304852508592\r\n",
      "Epoch 33000, Loss: 0.0005688808118064237\r\n",
      "Epoch 34000, Loss: 0.0004605314635685887\r\n",
      "Epoch 35000, Loss: 0.00040409926654122534\r\n",
      "Epoch 36000, Loss: 0.0003322771289844458\r\n",
      "Epoch 37000, Loss: 0.0003386975403427162\r\n",
      "Epoch 38000, Loss: 0.00029563690932583647\r\n",
      "Epoch 39000, Loss: 0.00025468512150068516\r\n",
      "Epoch 40000, Loss: 0.0003489973578287437\r\n",
      "Epoch 41000, Loss: 0.0002293796308411876\r\n",
      "Epoch 42000, Loss: 0.00019833671016486422\r\n",
      "Epoch 43000, Loss: 0.00016216544412447226\r\n",
      "Epoch 44000, Loss: 0.0002131516075593661\r\n",
      "Epoch 45000, Loss: 0.00016732434097553486\r\n",
      "Epoch 46000, Loss: 0.00013938057108520174\r\n",
      "Epoch 47000, Loss: 0.0001577835748272599\r\n",
      "Epoch 48000, Loss: 0.00013068604435010568\r\n",
      "Epoch 49000, Loss: 0.0001134796694471892\r\n",
      "Epoch 50000, Loss: 9.346627776092171e-05\r\n",
      "Epoch 51000, Loss: 0.0001275005411052354\r\n",
      "Epoch 52000, Loss: 0.00010748921522856891\r\n",
      "Epoch 53000, Loss: 0.0006708713170479439\r\n",
      "Epoch 54000, Loss: 8.653492405840023e-05\r\n",
      "Epoch 55000, Loss: 7.281022068080562e-05\r\n",
      "Epoch 56000, Loss: 9.097396842461372e-05\r\n",
      "Epoch 57000, Loss: 7.858933288405293e-05\r\n",
      "Epoch 58000, Loss: 6.961913484902134e-05\r\n",
      "Epoch 59000, Loss: 5.8643422461629394e-05\r\n",
      "Epoch 60000, Loss: 8.084020950542339e-05\r\n",
      "Epoch 61000, Loss: 6.682167834012367e-05\r\n",
      "Epoch 62000, Loss: 5.5772844949879955e-05\r\n",
      "Epoch 63000, Loss: 5.922182642626714e-05\r\n",
      "Epoch 64000, Loss: 4.3959495228155295e-05\r\n",
      "Epoch 65000, Loss: 6.373700059115179e-05\r\n",
      "Epoch 66000, Loss: 5.4442541227710576e-05\r\n",
      "Epoch 67000, Loss: 4.7404232905695444e-05\r\n",
      "Epoch 68000, Loss: 0.4292771879133231\r\n",
      "Epoch 69000, Loss: 4.278889909430377e-05\r\n",
      "Epoch 70000, Loss: 3.961485268883933e-05\r\n",
      "Epoch 71000, Loss: 3.559223683475e-05\r\n",
      "Epoch 72000, Loss: 2.9832969023527667e-05\r\n",
      "Epoch 73000, Loss: 3.4945708786106384e-05\r\n",
      "Epoch 74000, Loss: 2.9035580212274963e-05\r\n",
      "Epoch 75000, Loss: 2.5300388484593576e-05\r\n",
      "Epoch 76000, Loss: 2.1743625637109307e-05\r\n",
      "Epoch 77000, Loss: 1.869198936577315e-05\r\n",
      "Epoch 78000, Loss: 1.4415981468956627e-05\r\n",
      "Epoch 79000, Loss: 1.9362141756338244e-05\r\n",
      "Epoch 80000, Loss: 1.6759129841953707e-05\r\n",
      "Epoch 81000, Loss: 1.4824068067847317e-05\r\n",
      "Epoch 82000, Loss: 1.2376186759698018e-05\r\n",
      "Epoch 83000, Loss: 2.7117636055569682e-05\r\n",
      "Epoch 84000, Loss: 1.5833261318572784e-05\r\n",
      "Epoch 85000, Loss: 1.3724173164538294e-05\r\n",
      "Epoch 86000, Loss: 1.1640567458705458e-05\r\n",
      "Epoch 87000, Loss: 1.7207257544908898e-05\r\n",
      "Epoch 88000, Loss: 1.2892610699383686e-05\r\n",
      "Epoch 89000, Loss: 1.0722910649084908e-05\r\n",
      "Epoch 90000, Loss: 1.606276024643354e-05\r\n",
      "Epoch 91000, Loss: 1.2478906983248401e-05\r\n",
      "Epoch 92000, Loss: 1.1016530547922924e-05\r\n",
      "Epoch 93000, Loss: 9.38715534327921e-06\r\n",
      "Epoch 94000, Loss: 1.2468950575326333e-05\r\n",
      "Epoch 95000, Loss: 1.0168963388999587e-05\r\n",
      "Epoch 96000, Loss: 8.965653825389298e-06\r\n",
      "Epoch 97000, Loss: 7.610443528710971e-06\r\n",
      "Epoch 98000, Loss: 8.500227933927776e-06\r\n",
      "Epoch 99000, Loss: 7.496060115172624e-06\r\n",
      "Epoch 100000, Loss: 6.4740243015206976e-06\r\n",
      "Epoch 101000, Loss: 1.14328653961607e-05\r\n",
      "Epoch 102000, Loss: 7.705273106178451e-06\r\n",
      "Epoch 103000, Loss: 6.7349387859304226e-06\r\n",
      "Epoch 104000, Loss: 8.828304149350544e-06\r\n",
      "Epoch 105000, Loss: 7.039268304431613e-06\r\n",
      "Epoch 106000, Loss: 6.068711470040983e-06\r\n",
      "Epoch 107000, Loss: 2.324759300589044e-05\r\n",
      "Epoch 108000, Loss: 6.671423253337639e-06\r\n",
      "Epoch 109000, Loss: 6.096679419812876e-06\r\n",
      "Epoch 110000, Loss: 5.483315168749305e-06\r\n",
      "Epoch 111000, Loss: 4.398376331894278e-05\r\n",
      "Epoch 112000, Loss: 6.848414226431623e-06\r\n",
      "Epoch 113000, Loss: 6.042225167012613e-06\r\n",
      "Epoch 114000, Loss: 5.365286937521311e-06\r\n",
      "Epoch 115000, Loss: 7.271930296522591e-05\r\n",
      "Epoch 116000, Loss: 6.195595129233495e-06\r\n",
      "Epoch 117000, Loss: 5.508040940990983e-06\r\n",
      "Epoch 118000, Loss: 3.36356534380037e-05\r\n",
      "Epoch 119000, Loss: 6.500507716721852e-06\r\n",
      "Epoch 120000, Loss: 5.766483881533175e-06\r\n",
      "Epoch 121000, Loss: 5.092711072420912e-06\r\n",
      "Epoch 122000, Loss: 7.50290301423197e-06\r\n",
      "Epoch 123000, Loss: 5.057118318162188e-06\r\n",
      "Epoch 124000, Loss: 4.687780982269063e-06\r\n",
      "Epoch 125000, Loss: 4.243703637185537e-06\r\n",
      "Epoch 126000, Loss: 6.482364475105197e-06\r\n",
      "Epoch 127000, Loss: 4.232358233578873e-06\r\n",
      "Epoch 128000, Loss: 3.958649380822196e-06\r\n",
      "Epoch 129000, Loss: 3.6273806826837273e-06\r\n",
      "Epoch 130000, Loss: 9.670467807963291e-06\r\n",
      "Epoch 131000, Loss: 3.2566506676063955e-06\r\n",
      "Epoch 132000, Loss: 3.0018805640250165e-06\r\n",
      "Epoch 133000, Loss: 2.7599214497468643e-06\r\n",
      "Epoch 134000, Loss: 3.8758847103844634e-06\r\n",
      "Epoch 135000, Loss: 3.0648545138774555e-06\r\n",
      "Epoch 136000, Loss: 2.83597187413891e-06\r\n",
      "Epoch 137000, Loss: 2.6150047529948853e-06\r\n",
      "Epoch 138000, Loss: 4.097132720788403e-06\r\n",
      "Epoch 139000, Loss: 3.5096294206268804e-06\r\n",
      "Epoch 140000, Loss: 3.2162184178579372e-06\r\n",
      "Epoch 141000, Loss: 9.513070380108422\r\n",
      "Epoch 142000, Loss: 2.9034658869028435e-06\r\n",
      "Epoch 143000, Loss: 2.556587872257614e-06\r\n",
      "Epoch 144000, Loss: 2.4036153671588315e-06\r\n",
      "Epoch 145000, Loss: 2.2440184170579127e-06\r\n",
      "Epoch 146000, Loss: 2.693949713889321e-06\r\n",
      "Epoch 147000, Loss: 2.4358171919020497e-06\r\n",
      "Epoch 148000, Loss: 2.2825684730339324e-06\r\n",
      "Epoch 149000, Loss: 3.003003239248558e-06\r\n",
      "Epoch 150000, Loss: 2.471695373900524e-06\r\n",
      "Epoch 151000, Loss: 2.252129132709592e-06\r\n",
      "Epoch 152000, Loss: 5.308273143391125e-06\r\n",
      "Epoch 153000, Loss: 2.593941178868467e-06\r\n",
      "Epoch 154000, Loss: 2.356289233057519e-06\r\n",
      "Epoch 155000, Loss: 2.191240261916048e-06\r\n",
      "Epoch 156000, Loss: 2.986416071598694e-06\r\n",
      "Epoch 157000, Loss: 2.2220002170450184e-06\r\n",
      "Epoch 158000, Loss: 2.0857611318957553e-06\r\n",
      "Epoch 159000, Loss: 0.0010259799767599787\r\n",
      "Epoch 160000, Loss: 2.269111255762787e-06\r\n"
     ]
    }
   ],
   "source": [
    "# Set the total number of training epochs\n",
    "epochs = 160001\n",
    "\n",
    "# Initialize lists to store parameter sets and loss values for each training iteration\n",
    "params_history = []\n",
    "loss_history = []\n",
    "\n",
    "# Define the ADAM optimizer with an exponential decay learning rate scheduler\n",
    "scheduler = optax.exponential_decay(init_value=1e-3, transition_steps=10000, decay_rate=0.9)\n",
    "optimizer = optax.adam(learning_rate=scheduler)\n",
    "\n",
    "# Initialize the optimizer state with the initial parameters\n",
    "opt_state = optimizer.init(params)\n",
    "\n",
    "# Decorate the update function with 'jax.jit' for just-in-time compilation to improve performance\n",
    "@jax.jit\n",
    "def update(params, opt_state, inPoints, conds, init_data):\n",
    "    # Calculate the loss and gradients\n",
    "    loss, grads = jax.value_and_grad(loss_fun)(params, inPoints, conds, init_data)\n",
    "    # Update the parameters and optimizer state based on the calculated gradients\n",
    "    updates, opt_state = optimizer.update(grads, opt_state, params)\n",
    "    params = optax.apply_updates(params, updates)\n",
    "    return params, opt_state, loss\n",
    "\n",
    "# Execute the training loop over the specified number of epochs\n",
    "for epoch in range(epochs):\n",
    "    # Perform an update step and record the new parameters and loss\n",
    "    params, opt_state, loss = update(params, opt_state, inPoints, conds, init_data)\n",
    "    params_history.append(params[-1])  # Append the last parameter set\n",
    "    loss_history.append(loss)          # Append the loss value\n",
    "    # Periodically print the epoch number and the current loss\n",
    "    if epoch % 1000 == 0:\n",
    "        print(f'Epoch {epoch}, Loss: {loss}')"
   ]
  },
  {
   "cell_type": "markdown",
   "id": "f9e5708a-d1f5-4086-83e2-397568ab58a7",
   "metadata": {},
   "source": [
    "## Result visualization"
   ]
  },
  {
   "cell_type": "code",
   "execution_count": 7,
   "id": "acd6a755-a3b3-4491-84e7-afcdfa2b05a7",
   "metadata": {
    "execution": {
     "iopub.execute_input": "2024-08-17T06:23:49.574735Z",
     "iopub.status.busy": "2024-08-17T06:23:49.574122Z",
     "iopub.status.idle": "2024-08-17T06:24:36.313109Z",
     "shell.execute_reply": "2024-08-17T06:24:36.311217Z",
     "shell.execute_reply.started": "2024-08-17T06:23:49.574694Z"
    },
    "scrolled": true,
    "tags": []
   },
   "outputs": [],
   "source": [
    "# Convert each tuple in the params_history list to a standard Python list\n",
    "# Each DeviceArray element is converted to float\n",
    "params_data = [[float(x) for x in tup] for tup in params_history]\n",
    "\n",
    "# Convert the loss_history DeviceArray elements to floats\n",
    "loss_data = [float(x) for x in loss_history]\n",
    "\n",
    "# Create DataFrames from the lists for parameters and loss data\n",
    "df_params = pd.DataFrame(params_data, columns=['lag', 'a', 'b'])\n",
    "df_loss = pd.DataFrame(loss_data, columns=['loss'])\n",
    "\n",
    "# Concatenate the parameter and loss data into a single DataFrame\n",
    "df_combined = pd.concat([df_params, df_loss], axis=1)\n",
    "\n",
    "# Save the combined DataFrame to a CSV file, without the index column\n",
    "# df_combined.to_csv('training_data.csv', index=False)"
   ]
  },
  {
   "cell_type": "code",
   "execution_count": 8,
   "id": "03ad3ac1-e10b-49c3-bb9c-0575cbce28e8",
   "metadata": {
    "execution": {
     "iopub.execute_input": "2024-08-17T06:24:36.315197Z",
     "iopub.status.busy": "2024-08-17T06:24:36.314735Z",
     "iopub.status.idle": "2024-08-17T06:24:46.222322Z",
     "shell.execute_reply": "2024-08-17T06:24:46.220121Z",
     "shell.execute_reply.started": "2024-08-17T06:24:36.315158Z"
    },
    "scrolled": true,
    "tags": []
   },
   "outputs": [
    {
     "data": {
      "image/png": "[encoded data removed]",
      "text/plain": [
       "<Figure size 629.921x472.441 with 1 Axes>"
      ]
     },
     "metadata": {},
     "output_type": "display_data"
    }
   ],
   "source": [
    "# Generate a set of time points linearly spaced between tmin and tmax\n",
    "T = np.linspace(tmin, tmax, 10000).reshape(-1,1) \n",
    "# Evaluate the neural network at these time points to get predictions\n",
    "nn_sol1 = DNNs(params, T)\n",
    "\n",
    "# Extract time points and corresponding real data values from the dataset\n",
    "t_points = data.iloc[:,0]\n",
    "y_real = data.iloc[:,1]\n",
    "\n",
    "# Set the figure size according to a 4:3 ratio, with width 16 cm and height 12 cm\n",
    "plt.figure(figsize=(16 / 2.54, 12 / 2.54))\n",
    "\n",
    "# Scatter plot for given data points\n",
    "plt.scatter(t_points, y_real, label='Given Data of  $y(t)$', color='blue', marker='x')\n",
    "# Line plot for the predicted values from the neural network\n",
    "plt.plot(T, nn_sol1, 'k', label='Predicted Values: $\\hat{y}(t)$')\n",
    "\n",
    "# Add a legend with custom font properties\n",
    "plt.legend(prop=prop)\n",
    "\n",
    "# Set labels for the axes with custom font properties\n",
    "plt.xlabel('$t$', fontproperties=prop)\n",
    "plt.ylabel('$y(t)$', fontproperties=prop)\n",
    "\n",
    "# Get the current axes to adjust tick labels and grid\n",
    "ax = plt.gca()\n",
    "# Set font properties for axis tick labels\n",
    "for label in ax.get_xticklabels() + ax.get_yticklabels():\n",
    "    label.set_fontproperties(prop)\n",
    "\n",
    "# Enable grid lines on major ticks only, styled with dashes\n",
    "plt.grid(True, which='major', axis='both', linestyle='--', linewidth=0.5)\n",
    "\n",
    "# Save the plot as a high-resolution image\n",
    "plt.savefig(f'DDE_IP_ex2_lag_{real_lag}_r_{real_r}_k_{real_k}.png', dpi=600, bbox_inches='tight')\n",
    "\n",
    "# Display the plot\n",
    "plt.show()"
   ]
  },
  {
   "cell_type": "code",
   "execution_count": 9,
   "id": "c9ce1690-1d7b-4689-a3e9-aef5fbd5fec0",
   "metadata": {
    "execution": {
     "iopub.execute_input": "2024-08-17T06:24:46.224676Z",
     "iopub.status.busy": "2024-08-17T06:24:46.224053Z",
     "iopub.status.idle": "2024-08-17T06:24:46.231246Z",
     "shell.execute_reply": "2024-08-17T06:24:46.230436Z",
     "shell.execute_reply.started": "2024-08-17T06:24:46.224631Z"
    },
    "scrolled": true,
    "tags": []
   },
   "outputs": [
    {
     "data": {
      "text/plain": [
       "DeviceArray([0.50363444, 0.59892097, 0.00598908], dtype=float64)"
      ]
     },
     "execution_count": 9,
     "metadata": {},
     "output_type": "execute_result"
    }
   ],
   "source": [
    "params[-1]"
   ]
  }
 ],
 "metadata": {
  "kernelspec": {
   "display_name": "Python 3",
   "language": "python",
   "name": "py35-paddle1.2.0"
  },
  "language_info": {
   "codemirror_mode": {
    "name": "ipython",
    "version": 3
   },
   "file_extension": ".py",
   "mimetype": "text/x-python",
   "name": "python",
   "nbconvert_exporter": "python",
   "pygments_lexer": "ipython3",
   "version": "3.7.4"
  }
 },
 "nbformat": 4,
 "nbformat_minor": 5
}
