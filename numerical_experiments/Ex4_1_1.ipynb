{
 "cells": [
  {
   "cell_type": "markdown",
   "id": "71733e7a-68c7-4c36-856f-6bf53574b809",
   "metadata": {},
   "source": [
    "## Importing required libraries"
   ]
  },
  {
   "cell_type": "code",
   "execution_count": 1,
   "id": "7c09f2af-2600-404c-8fdb-d5d4f0adcdf4",
   "metadata": {
    "execution": {
     "iopub.execute_input": "2025-09-18T07:04:49.556127Z",
     "iopub.status.busy": "2025-09-18T07:04:49.555714Z",
     "iopub.status.idle": "2025-09-18T07:04:51.550863Z",
     "shell.execute_reply": "2025-09-18T07:04:51.550244Z",
     "shell.execute_reply.started": "2025-09-18T07:04:49.556105Z"
    },
    "scrolled": true,
    "tags": []
   },
   "outputs": [],
   "source": [
    "import sys\n",
    "sys.path.append('/home/aistudio/external-libraries')\n",
    "\n",
    "import jax\n",
    "import jax.numpy as jnp\n",
    "import jax.random as random\n",
    "\n",
    "import time\n",
    "import math\n",
    "import numpy as np\n",
    "import pandas as pd\n",
    "\n",
    "import optax\n",
    "import jaxopt\n",
    "import matplotlib.pyplot as plt\n",
    "from matplotlib import font_manager\n",
    "import matplotlib.gridspec as gridspec\n",
    "from typing import Tuple\n",
    "import spectral_method_1 as sm\n",
    "\n",
    "import scipy.io\n",
    "from scipy.stats import qmc\n",
    "from scipy.special import factorial\n",
    "jax.config.update(\"jax_enable_x64\", True)\n",
    "\n",
    "font_path = '/home/aistudio/Times_New_Roman.ttf'\n",
    "prop = font_manager.FontProperties(fname=font_path)"
   ]
  },
  {
   "cell_type": "markdown",
   "id": "358dd82c-4570-4805-8902-bec646de7b4a",
   "metadata": {},
   "source": [
    "## Config for solving DDE"
   ]
  },
  {
   "cell_type": "code",
   "execution_count": 2,
   "id": "7818d1d3-95e3-4700-8f2d-9c9c25b200a8",
   "metadata": {
    "execution": {
     "iopub.execute_input": "2025-09-18T07:04:51.552261Z",
     "iopub.status.busy": "2025-09-18T07:04:51.551910Z",
     "iopub.status.idle": "2025-09-18T07:04:51.555448Z",
     "shell.execute_reply": "2025-09-18T07:04:51.554952Z",
     "shell.execute_reply.started": "2025-09-18T07:04:51.552242Z"
    },
    "scrolled": true,
    "tags": []
   },
   "outputs": [],
   "source": [
    "config = {\n",
    "    \"real_lag\": 1.0,\n",
    "    \"tmin\": 0.,\n",
    "    \"tmax\": 10.,\n",
    "    \"conds\": [0., 1.],\n",
    "    \"initial_key\": 0,\n",
    "    \"netLayers\": [1, 20,40, 20, 1],\n",
    "    \"record_info\": False,\n",
    "    \"gap\": 100,\n",
    "    \"N_f\": 5000,\n",
    "    \"step_epochs\": [2000, 1000],\n",
    "    \"initial_lr\" : 1e-3,\n",
    "    \"cosine_decay_steps\": 1000,\n",
    "    \"cosine_alpha\": 0.01,\n",
    "    \"DDE23_data_root_path\": \"/home/aistudio/DDE_2rd_revision/data/ex4.1.1\",\n",
    "    \"result_save_path\": \"/home/aistudio/DDE_2rd_revision/result/ex4.1.1\"\n",
    "}"
   ]
  },
  {
   "cell_type": "code",
   "execution_count": 3,
   "id": "762c2dfd-dfc3-4f86-9401-b3ffee9debaa",
   "metadata": {
    "execution": {
     "iopub.execute_input": "2025-09-18T07:04:51.556115Z",
     "iopub.status.busy": "2025-09-18T07:04:51.555947Z",
     "iopub.status.idle": "2025-09-18T07:04:51.559386Z",
     "shell.execute_reply": "2025-09-18T07:04:51.558921Z",
     "shell.execute_reply.started": "2025-09-18T07:04:51.556099Z"
    },
    "scrolled": true
   },
   "outputs": [],
   "source": [
    "# Retrieve the variable 'config' from IPython's storage space\n",
    "# %store -r config"
   ]
  },
  {
   "cell_type": "markdown",
   "id": "724b2d0a-aff7-4a54-9a35-2e2b1f0f685b",
   "metadata": {},
   "source": [
    "## Defining the Delay Differential Equation\n",
    "Let $ y'(t) = -y(t-\\tau) $, for $ t \\leq 0 $, where $ y(t) = 1 $."
   ]
  },
  {
   "cell_type": "code",
   "execution_count": 4,
   "id": "1e287f32-2af2-4945-a7fe-8de8473ffd8e",
   "metadata": {
    "execution": {
     "iopub.execute_input": "2025-09-18T07:04:51.560126Z",
     "iopub.status.busy": "2025-09-18T07:04:51.559975Z",
     "iopub.status.idle": "2025-09-18T07:04:51.563043Z",
     "shell.execute_reply": "2025-09-18T07:04:51.562560Z",
     "shell.execute_reply.started": "2025-09-18T07:04:51.560112Z"
    },
    "scrolled": true,
    "tags": []
   },
   "outputs": [],
   "source": [
    "# Define the differential equation\n",
    "def DDE(t, u, lag):\n",
    "    # Define u'(t)\n",
    "    u_t = lambda t: jax.grad(lambda t: jnp.sum(u(t)))(t)\n",
    "\n",
    "    # Define the right-hand side of the DDE\n",
    "    rhs = -jnp.where(t > lag, u(t - lag), 1)\n",
    "    return u_t(t) - rhs"
   ]
  },
  {
   "cell_type": "markdown",
   "id": "08fd805a-49c2-46a1-984d-871a6a8308f8",
   "metadata": {},
   "source": [
    "## Construct the DNNs and initialize parameters"
   ]
  },
  {
   "cell_type": "code",
   "execution_count": 5,
   "id": "dc01c2c3-6edc-46c1-a5ed-7fe66796d7ed",
   "metadata": {
    "execution": {
     "iopub.execute_input": "2025-09-18T07:04:51.564515Z",
     "iopub.status.busy": "2025-09-18T07:04:51.564244Z",
     "iopub.status.idle": "2025-09-18T07:04:51.569054Z",
     "shell.execute_reply": "2025-09-18T07:04:51.568591Z",
     "shell.execute_reply.started": "2025-09-18T07:04:51.564500Z"
    },
    "scrolled": true,
    "tags": []
   },
   "outputs": [],
   "source": [
    "# Define the DNNs model\n",
    "def DNNs(params, x):\n",
    "    for w, b in params[:-1]:\n",
    "        x = jnp.dot(x, w) + b\n",
    "        x = jnp.tanh(x)\n",
    "\n",
    "    w, b = params[-1]\n",
    "    x = jnp.dot(x, w) + b\n",
    "    return x\n",
    "\n",
    "# Xavier initialization for the layer parameters\n",
    "def random_layer_params_xavier(m, n, key):\n",
    "    xavier_stddev = jnp.sqrt(2.0 / (m + n))\n",
    "\n",
    "    w_key, b_key = jax.random.split(key)\n",
    "\n",
    "    weights = xavier_stddev * jax.random.truncated_normal(\n",
    "        w_key, lower=-2.0, upper=2.0, shape=(m, n)\n",
    "    )\n",
    "    biases = jnp.zeros((n,))\n",
    "\n",
    "    return weights, biases\n",
    "\n",
    "# Initialize parameters for all layers in a fully-connected neural network with the specified sizes\n",
    "def init_network_params(sizes, key):\n",
    "    keys = jax.random.split(key, len(sizes))\n",
    "    return [random_layer_params_xavier(m, n, k) for m, n, k in zip(sizes[:-1], sizes[1:], keys)]"
   ]
  },
  {
   "cell_type": "markdown",
   "id": "267af29b-4991-4e5a-9e85-2aeb03831ef5",
   "metadata": {},
   "source": [
    "## Define the loss function"
   ]
  },
  {
   "cell_type": "code",
   "execution_count": 6,
   "id": "89bd118f-9faf-42db-a88d-0393187e63a5",
   "metadata": {
    "execution": {
     "iopub.execute_input": "2025-09-18T07:04:51.569834Z",
     "iopub.status.busy": "2025-09-18T07:04:51.569577Z",
     "iopub.status.idle": "2025-09-18T07:04:51.575111Z",
     "shell.execute_reply": "2025-09-18T07:04:51.574644Z",
     "shell.execute_reply.started": "2025-09-18T07:04:51.569819Z"
    },
    "scrolled": true,
    "tags": []
   },
   "outputs": [],
   "source": [
    "@jax.jit\n",
    "def loss_fun1(params, lag, inPoints, conds):\n",
    "    t_c = inPoints[:, [0]]\n",
    "    ufunc = lambda t: DNNs(params, t)\n",
    "\n",
    "    # Compute the loss from the differential equation\n",
    "    loss_f = jnp.mean(DDE(t_c, ufunc, lag)**2)\n",
    "\n",
    "    # Compute the loss from the initial conditions\n",
    "    t_0, u_0 = conds[:, [0]], conds[:, [1]]\n",
    "    loss_init = jnp.mean((ufunc(t_0) - u_0)**2)\n",
    "\n",
    "    # Total loss\n",
    "    loss_total = loss_f + loss_init\n",
    "\n",
    "    w_f = loss_f / loss_total\n",
    "    w_init = loss_init / loss_total\n",
    "\n",
    "    loss_weighted = loss_f * w_f + loss_init * w_init\n",
    "\n",
    "    return loss_weighted, (loss_f, loss_init)\n",
    "\n",
    "@jax.jit\n",
    "def loss_fun2(params, lag, inPoints, conds, initial_weights):\n",
    "    t_c = inPoints[:, [0]]\n",
    "    ufunc = lambda t: DNNs(params, t)\n",
    "\n",
    "    # Compute the loss from the differential equation\n",
    "    loss_f = jnp.mean(DDE(t_c, ufunc, lag)**2)\n",
    "\n",
    "    # Compute the loss from the initial conditions\n",
    "    t_0, u_0 = conds[:, [0]], conds[:, [1]]\n",
    "    loss_init = jnp.mean((ufunc(t_0) - u_0)**2)\n",
    "\n",
    "    w_f, w_init = initial_weights[0], initial_weights[1]\n",
    "\n",
    "    loss_weighted = loss_f * w_f + loss_init * w_init\n",
    "\n",
    "    return loss_weighted, (loss_f, loss_init)"
   ]
  },
  {
   "cell_type": "markdown",
   "id": "11aa6c1c-3e51-448c-bcad-8af6c66a617d",
   "metadata": {},
   "source": [
    "## Two-step neural network training"
   ]
  },
  {
   "cell_type": "code",
   "execution_count": 7,
   "id": "359daebb-e2a0-4cf4-aca7-a9fd3888d142",
   "metadata": {
    "execution": {
     "iopub.execute_input": "2025-09-18T07:04:51.575898Z",
     "iopub.status.busy": "2025-09-18T07:04:51.575749Z",
     "iopub.status.idle": "2025-09-18T07:04:51.585661Z",
     "shell.execute_reply": "2025-09-18T07:04:51.585199Z",
     "shell.execute_reply.started": "2025-09-18T07:04:51.575884Z"
    },
    "scrolled": true,
    "tags": []
   },
   "outputs": [],
   "source": [
    "# First Step：Adam Optimizer\n",
    "def train_adam(params, lag, inPoints, conds, record_info, num_epochs, start_epoch=0, log_interval=100, print_interval=1000):\n",
    "    phase_epochs = []\n",
    "    phase_losses = []\n",
    "    phase_loss_f = []\n",
    "    phase_loss_init = []\n",
    "\n",
    "    scheduler = optax.cosine_decay_schedule(\n",
    "        init_value=config['initial_lr'],\n",
    "        decay_steps=config['cosine_decay_steps'],\n",
    "        alpha=config['cosine_alpha']\n",
    "    )\n",
    "    optimizer = optax.adam(learning_rate=scheduler)\n",
    "    opt_state = optimizer.init(params)\n",
    "\n",
    "    @jax.jit\n",
    "    def update_adam(params, lag, inPoints, conds, opt_state):\n",
    "        (loss, (loss_f, loss_init)), grads = jax.value_and_grad(loss_fun1, has_aux=True)(\n",
    "            params, lag, inPoints, conds\n",
    "        )\n",
    "        updates, opt_state = optimizer.update(grads, opt_state, params)\n",
    "        params = optax.apply_updates(params, updates)\n",
    "        return params, opt_state, (loss, (loss_f, loss_init))\n",
    "\n",
    "    if record_info:\n",
    "        for epoch in range(num_epochs):\n",
    "            params, opt_state, (loss, (loss_f, loss_init)) = update_adam(\n",
    "                params, lag, inPoints, conds, opt_state\n",
    "            )\n",
    "            current_epoch = start_epoch + epoch\n",
    "\n",
    "            if record_info and current_epoch % log_interval == 0:\n",
    "                phase_epochs.append(current_epoch)\n",
    "                phase_losses.append(loss)\n",
    "                phase_loss_f.append(loss_f)\n",
    "                phase_loss_init.append(loss_init)\n",
    "\n",
    "            if record_info and current_epoch % print_interval == 0:\n",
    "                print(f\"Epoch {current_epoch}, Total Loss: {loss:.3e}, DDE Loss: {loss_f:.3e}, IC Loss: {loss_init:.3e}\")\n",
    "        \n",
    "        return params, phase_epochs, phase_losses, phase_loss_f, phase_loss_init, (loss_f, loss_init)\n",
    "    else:\n",
    "        now_epoch = 0\n",
    "        while now_epoch < num_epochs:\n",
    "            params, opt_state, (loss, (loss_f, loss_init)) = update_adam(\n",
    "                params, lag, inPoints, conds, opt_state\n",
    "            )\n",
    "            now_epoch += 1\n",
    "        return params, None, None, None, None, (loss_f, loss_init)\n",
    "\n",
    "\n",
    "# Second Step：L-BFGS Optimizer\n",
    "def train_lbfgs(params, lag, inPoints, conds, initial_weights,\n",
    "                record_info, num_epochs=10000, gap=100, start_epoch=0):\n",
    "\n",
    "    phase_epochs = []\n",
    "    phase_losses = []\n",
    "    phase_loss_f = []\n",
    "    phase_loss_init = []\n",
    "\n",
    "    current_params = params\n",
    "\n",
    "    if record_info:\n",
    "        solver = jaxopt.BFGS(\n",
    "            fun=loss_fun2,\n",
    "            tol=1e-16,\n",
    "            maxiter=gap,\n",
    "            has_aux=True,\n",
    "            verbose=False\n",
    "        )\n",
    "\n",
    "        for epoch in range(start_epoch, start_epoch + num_epochs + 1, gap):\n",
    "            sol = solver.run(current_params, lag, inPoints, conds, initial_weights)\n",
    "            current_params = sol.params\n",
    "            loss, (loss_f, loss_init) = sol.state.value, sol.state.aux\n",
    "\n",
    "            phase_losses.append(loss)\n",
    "            phase_loss_f.append(loss_f)\n",
    "            phase_loss_init.append(loss_init)\n",
    "            phase_epochs.append(epoch + gap)\n",
    "\n",
    "            print(f\"Epoch {epoch+gap}, Total Loss: {loss:.3e}, DDE Loss: {loss_f:.3e}, IC Loss: {loss_init:.3e}\")\n",
    "\n",
    "        return current_params, phase_epochs, phase_losses, phase_loss_f, phase_loss_init, (loss_f, loss_init)\n",
    "\n",
    "    else:\n",
    "        solver = jaxopt.BFGS(\n",
    "            fun=loss_fun2,\n",
    "            tol=1e-16,\n",
    "            maxiter=num_epochs,\n",
    "            has_aux=True,\n",
    "            verbose=False\n",
    "        )\n",
    "        sol = solver.run(current_params, lag, inPoints, conds, initial_weights)\n",
    "        current_params = sol.params\n",
    "        return current_params, None, None, None, None, sol.state.aux\n",
    "\n",
    "\n",
    "# Get the weights from the fist step\n",
    "def get_fixed_weights(loss_tuple):\n",
    "    losses = jnp.array([jax.lax.stop_gradient(l) for l in loss_tuple])\n",
    "    return losses / jnp.sum(losses)"
   ]
  },
  {
   "cell_type": "markdown",
   "id": "e29047f1-9d6d-4eb9-9b3a-3048cd81fd25",
   "metadata": {},
   "source": [
    "## Boundary Condition Initialization and Random Sampling Strategy for Solving DDE"
   ]
  },
  {
   "cell_type": "code",
   "execution_count": 8,
   "id": "ca92374e-f27a-4ffb-a8b5-44e838892726",
   "metadata": {
    "execution": {
     "iopub.execute_input": "2025-09-18T07:04:51.586451Z",
     "iopub.status.busy": "2025-09-18T07:04:51.586180Z",
     "iopub.status.idle": "2025-09-18T07:04:52.696401Z",
     "shell.execute_reply": "2025-09-18T07:04:52.695753Z",
     "shell.execute_reply.started": "2025-09-18T07:04:51.586436Z"
    },
    "scrolled": true,
    "tags": []
   },
   "outputs": [],
   "source": [
    "lag = config[\"real_lag\"]\n",
    "\n",
    "# conds represents the initial condition y(0) = 1\n",
    "conds = jnp.array(config['conds']).reshape(1,-1)\n",
    "\n",
    "# Initial key for random number generator\n",
    "ik = config['initial_key']\n",
    "\n",
    "# Number of internal random points\n",
    "N_f = config['N_f']\n",
    "\n",
    "# Range for sampling points\n",
    "tmin, tmax = config['tmin'], config['tmax']\n",
    "\n",
    "# Generate random points within the specified range\n",
    "jaxKey = jax.random.PRNGKey(ik)\n",
    "\n",
    "sampler = qmc.LatinHypercube(d=1)\n",
    "\n",
    "sample = sampler.random(n=N_f)\n",
    "Inn_T = qmc.scale(sample, tmin, tmax)\n",
    "inPoints = jnp.array(Inn_T)\n",
    "\n",
    "# Network architecture\n",
    "netLayers = config['netLayers']\n",
    "\n",
    "# Initialize network parameters\n",
    "params = init_network_params(netLayers, jaxKey)"
   ]
  },
  {
   "cell_type": "markdown",
   "id": "bf4eaa5b-e4ca-4cea-844f-da64c95bcd56",
   "metadata": {},
   "source": [
    "## Training"
   ]
  },
  {
   "cell_type": "code",
   "execution_count": 9,
   "id": "3c4c8c83-7a76-41d7-af24-374cf1c99160",
   "metadata": {
    "execution": {
     "iopub.execute_input": "2025-09-18T07:04:52.697390Z",
     "iopub.status.busy": "2025-09-18T07:04:52.697211Z",
     "iopub.status.idle": "2025-09-18T07:06:23.671649Z",
     "shell.execute_reply": "2025-09-18T07:06:23.575228Z",
     "shell.execute_reply.started": "2025-09-18T07:04:52.697372Z"
    },
    "scrolled": true,
    "tags": []
   },
   "outputs": [],
   "source": [
    "epoch_history = []\n",
    "loss_history = []\n",
    "loss_f_history = []\n",
    "loss_init_history = []\n",
    "\n",
    "adam_epochs = config[\"step_epochs\"][0]\n",
    "lbfgs_epochs = config[\"step_epochs\"][1]\n",
    "stage1_epochs = adam_epochs + lbfgs_epochs\n",
    "\n",
    "record_info = config['record_info']\n",
    "gap = config['gap']\n",
    "\n",
    "start_time_nn = time.time()\n",
    "\n",
    "# 第一阶段adam训练\n",
    "params, hist1_epoch, hist1_loss, hist1_loss_f, hist1_loss_init, loss_components = train_adam(params, lag, inPoints, conds, record_info, adam_epochs, start_epoch=0, log_interval=100, print_interval=1000)\n",
    "\n",
    "initial_weights = get_fixed_weights(loss_components)\n",
    "\n",
    "# 第二阶段lbfgs训练\n",
    "params, hist2_epoch, hist2_loss, hist2_loss_f, hist2_loss_init, _ = train_lbfgs(params, lag, inPoints, conds, initial_weights, record_info, num_epochs=lbfgs_epochs, gap=gap, start_epoch=adam_epochs)\n",
    "\n",
    "end_time_nn = time.time()\n",
    "time_nn = end_time_nn - start_time_nn\n",
    "\n",
    "# 合并训练记录\n",
    "if record_info:\n",
    "    epoch_history.extend(hist1_epoch + hist2_epoch)\n",
    "    loss_history.extend(hist1_loss + hist2_loss)"
   ]
  },
  {
   "cell_type": "markdown",
   "id": "424d542f-c599-41b7-916f-7268231a94a3",
   "metadata": {},
   "source": [
    "## Result visualization"
   ]
  },
  {
   "cell_type": "code",
   "execution_count": 10,
   "id": "5266a53e-52aa-4f46-babd-8d17feb8d22f",
   "metadata": {
    "execution": {
     "iopub.execute_input": "2025-09-18T07:06:23.673682Z",
     "iopub.status.busy": "2025-09-18T07:06:23.673441Z",
     "iopub.status.idle": "2025-09-18T07:06:24.171102Z",
     "shell.execute_reply": "2025-09-18T07:06:23.872346Z",
     "shell.execute_reply.started": "2025-09-18T07:06:23.673661Z"
    },
    "scrolled": true,
    "tags": []
   },
   "outputs": [],
   "source": [
    "# save path\n",
    "result_save_root_path = os.path.join(config['result_save_path'],f\"tau_{config['real_lag']}\")\n",
    "os.makedirs(result_save_root_path, exist_ok=True)"
   ]
  },
  {
   "cell_type": "markdown",
   "id": "f7cc7e0d-0855-455a-a397-189ff749dd86",
   "metadata": {},
   "source": [
    "### DDE23 solution"
   ]
  },
  {
   "cell_type": "code",
   "execution_count": 11,
   "id": "8de0ed87-c20e-498a-bfa8-db2db1afa4fc",
   "metadata": {
    "execution": {
     "iopub.execute_input": "2025-09-18T07:06:24.172508Z",
     "iopub.status.busy": "2025-09-18T07:06:24.172159Z",
     "iopub.status.idle": "2025-09-18T07:06:24.271007Z",
     "shell.execute_reply": "2025-09-18T07:06:24.184100Z",
     "shell.execute_reply.started": "2025-09-18T07:06:24.172488Z"
    },
    "scrolled": true,
    "tags": []
   },
   "outputs": [],
   "source": [
    "# MATLAB solution\n",
    "dde_solve_path = os.path.join(config['DDE23_data_root_path'], f\"DDE23_ex4.1.1_tau_{config['real_lag']}.csv\")\n",
    "data = pd.read_csv(dde_solve_path)\n",
    "data_sorted = data.sort_values(by=data.columns[0])\n",
    "\n",
    "T = data_sorted.iloc[:, 0].to_numpy().reshape(-1, 1)\n",
    "dde_sol = data_sorted.iloc[:, 1].to_numpy().reshape(-1, 1)"
   ]
  },
  {
   "cell_type": "markdown",
   "id": "8bb0d893-3b15-45ed-ab94-e4fe1265bd41",
   "metadata": {},
   "source": [
    "### Analytical solution\n",
    "The delay differential equation has an explicit analytical solution, which can be specifically expressed as\n",
    "\\begin{equation}  \n",
    "    y(t) = 1 + \\sum_{k=1}^{n} (-1)^k \\dfrac{\\left[t - (k-1)\\tau \\right]^k}{k!}, \\quad t \\in [(n-1)\\tau, n\\tau], \\quad n \\in \\mathbb{N}.\n",
    "\\end{equation}"
   ]
  },
  {
   "cell_type": "code",
   "execution_count": 12,
   "id": "65c0fb36-c420-46ee-bed3-99afe1857dc6",
   "metadata": {
    "execution": {
     "iopub.execute_input": "2025-09-18T07:06:24.272984Z",
     "iopub.status.busy": "2025-09-18T07:06:24.272472Z",
     "iopub.status.idle": "2025-09-18T07:06:24.572468Z",
     "shell.execute_reply": "2025-09-18T07:06:24.571516Z",
     "shell.execute_reply.started": "2025-09-18T07:06:24.272948Z"
    },
    "scrolled": true,
    "tags": []
   },
   "outputs": [],
   "source": [
    "n_values  = np.floor(T / lag).astype(np.int32) + 1\n",
    "rr_sol = np.ones_like(T)\n",
    "\n",
    "for k in range(1, np.max(n_values) + 1):\n",
    "    mask = n_values >= k\n",
    "    rr_sol[mask] += (-1) ** k * ((T[mask] - (k - 1) * lag) ** k) / factorial(k)\n",
    "\n",
    "rr_sol[np.isnan(rr_sol)] = 0"
   ]
  },
  {
   "cell_type": "markdown",
   "id": "91c11692-06b1-4375-a934-860c42c553fc",
   "metadata": {},
   "source": [
    "### spectral solution"
   ]
  },
  {
   "cell_type": "code",
   "execution_count": 13,
   "id": "fa7977cc-b0a4-4415-9280-76a29e6b0f3b",
   "metadata": {
    "execution": {
     "iopub.execute_input": "2025-09-18T07:06:24.574336Z",
     "iopub.status.busy": "2025-09-18T07:06:24.573965Z",
     "iopub.status.idle": "2025-09-18T07:06:26.373285Z",
     "shell.execute_reply": "2025-09-18T07:06:26.372377Z",
     "shell.execute_reply.started": "2025-09-18T07:06:24.574315Z"
    },
    "scrolled": true,
    "tags": []
   },
   "outputs": [],
   "source": [
    "start_time_sm = time.time()\n",
    "_, _, subintervals = sm.main(config['real_lag'], config['tmax'], 4)\n",
    "sm_sol = sm.get_interpolated_y(T, subintervals, config['real_lag'])\n",
    "end_time_sm = time.time()\n",
    "time_sm = end_time_sm - start_time_sm"
   ]
  },
  {
   "cell_type": "markdown",
   "id": "f67120b2-3326-400f-982b-603a29fd93ec",
   "metadata": {},
   "source": [
    "### Sol"
   ]
  },
  {
   "cell_type": "code",
   "execution_count": null,
   "id": "4e9941c9-be15-4a35-810f-8d3b2b4f7dbd",
   "metadata": {
    "execution": {
     "iopub.execute_input": "2025-09-18T07:06:26.376409Z",
     "iopub.status.busy": "2025-09-18T07:06:26.376162Z"
    },
    "scrolled": true,
    "tags": []
   },
   "outputs": [],
   "source": [
    "# Neural network solution\n",
    "T1 = jnp.linspace(0,100,1000)\n",
    "nn_sol = DNNs(params, T1.reshape(-1, 1))\n",
    "\n",
    "# # Absolute and relative errors between nn_sol and rr_sol\n",
    "# abs_error_nn_rr = np.abs(nn_sol - rr_sol)\n",
    "# rel_error_nn_rr = np.linalg.norm(nn_sol - rr_sol, ord=2) / np.linalg.norm(rr_sol, ord=2)\n",
    "# mae_nn_rr = np.mean(abs_error_nn_rr)  # Calculate Mean Absolute Error (MAE)\n",
    "\n",
    "# # Absolute and relative errors between rr_sol and dde_sol\n",
    "# abs_error_dde_rr = np.abs(dde_sol - rr_sol)\n",
    "# rel_error_dde_rr = np.linalg.norm(dde_sol - rr_sol, ord=2) / np.linalg.norm(rr_sol, ord=2)\n",
    "# mae_dde_rr = np.mean(abs_error_dde_rr)  # Calculate Mean Absolute Error (MAE)\n",
    "\n",
    "# # Absolute and relative errors between sm_sol and rr_sol\n",
    "# abs_error_sm_rr = np.abs(sm_sol - rr_sol)\n",
    "# rel_error_sm_rr = np.linalg.norm(sm_sol - rr_sol, ord=2) / np.linalg.norm(rr_sol, ord=2)\n",
    "# mae_sm_rr = np.mean(abs_error_sm_rr)  # Calculate Mean Absolute Error (MAE)\n",
    "\n",
    "# # Save results to a txt file\n",
    "# save_path = os.path.join(result_save_root_path, f\"Results_ex4.1.1_tau_{config['real_lag']}.txt\")\n",
    "# results_path = os.path.join(os.getcwd(), save_path)\n",
    "# with open(results_path, \"w\") as file:\n",
    "#     file.write(f\"Real Lag: {config['real_lag']}\\n\")\n",
    "#     file.write(\"Relative and Mean Absolute Errors\\n\")\n",
    "#     file.write(\"=================================\\n\")\n",
    "#     file.write(f\"Relative error between nn_sol and rr_sol: {rel_error_nn_rr}\\n\")\n",
    "#     file.write(f\"Mean Absolute Error (MAE) between nn_sol and rr_sol: {mae_nn_rr}\\n\")\n",
    "#     file.write(f\"Running time: {time_nn}\\n\")\n",
    "#     file.write(\"\\n\")\n",
    "#     file.write(f\"Relative error between sm_sol and rr_sol: {rel_error_sm_rr}\\n\")\n",
    "#     file.write(f\"Mean Absolute Error (MAE) between sm_sol and rr_sol: {mae_sm_rr}\\n\")\n",
    "#     file.write(f\"Running time: {time_sm}\\n\")\n",
    "\n",
    "# print(f\"Results have been saved to {results_path}\")"
   ]
  },
  {
   "cell_type": "code",
   "execution_count": null,
   "id": "171f482c-7945-44fd-a298-56f825977b41",
   "metadata": {
    "scrolled": true,
    "tags": []
   },
   "outputs": [],
   "source": [
    "plt.figure(figsize=(16 / 2.54, 12 / 2.54))\n",
    "\n",
    "plt.plot(T,rr_sol,'-r',label='Analytical Solution: $y(t)$')\n",
    "plt.plot(T,dde_sol,'-.b',label='DDE23 Solution: $\\\\tilde{y}(t)$')\n",
    "plt.plot(T1,nn_sol,'--k',label='PINN-DDEs Solution: $\\hat{y}(t)$')\n",
    "plt.plot(T,sm_sol,':g',label='Spectral Method Solution: $\\dot{y}(t)$')\n",
    "\n",
    "plt.legend(prop=prop, loc='best')\n",
    "\n",
    "plt.xlabel('$t$', fontproperties=prop)\n",
    "plt.ylabel('$y(t)$', fontproperties=prop)\n",
    "\n",
    "ax = plt.gca()\n",
    "\n",
    "for label in ax.get_xticklabels() + ax.get_yticklabels():\n",
    "    label.set_fontproperties(prop)\n",
    "\n",
    "plt.grid(True, which='major', axis='both', linestyle='--', linewidth=0.5)\n",
    "\n",
    "save_path = os.path.join(result_save_root_path, f\"Sol_ex4.1.1_tau_{config['real_lag']}.png\")\n",
    "\n",
    "plt.savefig(save_path, dpi=600, bbox_inches='tight')\n",
    "\n",
    "plt.show()"
   ]
  },
  {
   "cell_type": "markdown",
   "id": "2b31c540-547c-4f41-9306-31daa7007345",
   "metadata": {},
   "source": [
    "## Loss"
   ]
  },
  {
   "cell_type": "code",
   "execution_count": null,
   "id": "a3d99a00-4532-46e1-908d-70354adbe2fc",
   "metadata": {
    "scrolled": true,
    "tags": []
   },
   "outputs": [],
   "source": [
    "# # Set up the figure with a specific size (converted from cm to inches)\n",
    "# plt.figure(figsize=(16 / 2.54, 12 / 2.54))\n",
    "\n",
    "# # Plot the loss history over epochs\n",
    "# plt.plot(epoch_history, loss_history, 'k', label='Loss')\n",
    "\n",
    "# # Set the y-axis to a logarithmic scale\n",
    "# plt.yscale('log')\n",
    "\n",
    "# # Add a legend with a specific font\n",
    "# plt.legend(prop=prop, loc='upper right')\n",
    "\n",
    "# # Add axis labels with the specified font\n",
    "# # plt.xlabel('Epoch', fontproperties=prop)\n",
    "# # plt.ylabel('Loss', fontproperties=prop)\n",
    "\n",
    "# # Get the current axis for further customizationa\n",
    "# ax = plt.gca()\n",
    "\n",
    "# # Set font properties for tick labels on both axes\n",
    "# for label in ax.get_xticklabels() + ax.get_yticklabels():\n",
    "#     label.set_fontproperties(prop)\n",
    "\n",
    "# # Add a grid to the plot with dashed lines for major ticks on both axes\n",
    "# plt.grid(True, which='major', axis='both', linestyle='--', linewidth=0.5)\n",
    "\n",
    "# # Export the plot to a file with a DPI of 600 and tight bounding box\n",
    "# save_path = os.path.join(result_save_root_path, f\"Loss_ex4.1.1_tau_{config['real_lag']}.png\")\n",
    "\n",
    "# # plt.savefig(save_path, dpi=600, bbox_inches='tight')\n",
    "\n",
    "# # Display the plot\n",
    "# plt.show()"
   ]
  }
 ],
 "metadata": {
  "kernelspec": {
   "display_name": "Python 3",
   "language": "python",
   "name": "py35-paddle1.2.0"
  },
  "language_info": {
   "codemirror_mode": {
    "name": "ipython",
    "version": 3
   },
   "file_extension": ".py",
   "mimetype": "text/x-python",
   "name": "python",
   "nbconvert_exporter": "python",
   "pygments_lexer": "ipython3",
   "version": "3.10.10"
  }
 },
 "nbformat": 4,
 "nbformat_minor": 5
}
