{
 "cells": [
  {
   "cell_type": "markdown",
   "id": "71733e7a-68c7-4c36-856f-6bf53574b809",
   "metadata": {},
   "source": [
    "## Importing required libraries"
   ]
  },
  {
   "cell_type": "code",
   "execution_count": 1,
   "id": "7c09f2af-2600-404c-8fdb-d5d4f0adcdf4",
   "metadata": {
    "execution": {
     "iopub.execute_input": "2025-05-20T14:39:38.180661Z",
     "iopub.status.busy": "2025-05-20T14:39:38.180407Z",
     "iopub.status.idle": "2025-05-20T14:39:42.185160Z",
     "shell.execute_reply": "2025-05-20T14:39:42.184318Z",
     "shell.execute_reply.started": "2025-05-20T14:39:38.180641Z"
    },
    "scrolled": true,
    "tags": []
   },
   "outputs": [],
   "source": [
    "import sys\n",
    "sys.path.append('/home/aistudio/external-libraries')\n",
    "\n",
    "import jax\n",
    "import jax.numpy as jnp\n",
    "import jax.random as random\n",
    "\n",
    "import time\n",
    "import math\n",
    "import numpy as np\n",
    "import pandas as pd\n",
    "\n",
    "import optax\n",
    "import jaxopt\n",
    "import matplotlib.pyplot as plt\n",
    "from matplotlib import font_manager\n",
    "import matplotlib.gridspec as gridspec\n",
    "from mpl_toolkits.axes_grid1.inset_locator import inset_axes\n",
    "from typing import Tuple\n",
    "\n",
    "import process_log\n",
    "\n",
    "import scipy.io\n",
    "from scipy.stats import qmc\n",
    "from scipy.special import factorial\n",
    "jax.config.update(\"jax_enable_x64\", True)\n",
    "\n",
    "font_path = '/home/aistudio/Times_New_Roman.ttf'\n",
    "prop = font_manager.FontProperties(fname=font_path)"
   ]
  },
  {
   "cell_type": "markdown",
   "id": "358dd82c-4570-4805-8902-bec646de7b4a",
   "metadata": {},
   "source": [
    "## Config for solving DDE"
   ]
  },
  {
   "cell_type": "code",
   "execution_count": 2,
   "id": "7818d1d3-95e3-4700-8f2d-9c9c25b200a8",
   "metadata": {
    "execution": {
     "iopub.execute_input": "2025-05-20T14:39:42.186764Z",
     "iopub.status.busy": "2025-05-20T14:39:42.186208Z",
     "iopub.status.idle": "2025-05-20T14:39:42.190937Z",
     "shell.execute_reply": "2025-05-20T14:39:42.190298Z",
     "shell.execute_reply.started": "2025-05-20T14:39:42.186737Z"
    },
    "scrolled": true,
    "tags": []
   },
   "outputs": [],
   "source": [
    "config = {\n",
    "    \"real_lag\": 0.5,\n",
    "    \"real_a\": 0.6,\n",
    "    \"real_b\": 0.006,\n",
    "    \"noise_level\": 0.0,\n",
    "    \"tmin\": 0.,\n",
    "    \"tmax\": 20.,\n",
    "    \"conds\": [0., 1.],\n",
    "    \"initial_key\": 0,\n",
    "    \"netLayers\": [1, 10, 20, 10, 1],\n",
    "    \"record_info\": True,\n",
    "    \"N_f\": 5000,\n",
    "    \"step_epochs\": [10000, 3000],\n",
    "    \"initial_lr\" : 1e-3,\n",
    "    \"cosine_decay_steps\": 1000,\n",
    "    \"cosine_alpha\": 0.01,\n",
    "    \"given_data_root_path\": \"/home/aistudio/DDE_2rd_revision/data/ex4.2.2\",\n",
    "    \"result_save_path\": \"/home/aistudio/DDE_2rd_revision/result/ex4.2.2\"\n",
    "}"
   ]
  },
  {
   "cell_type": "code",
   "execution_count": 3,
   "id": "dc7d7059-6682-4931-89da-89aff3b2bd3c",
   "metadata": {
    "execution": {
     "iopub.execute_input": "2025-05-20T14:39:42.192113Z",
     "iopub.status.busy": "2025-05-20T14:39:42.191652Z",
     "iopub.status.idle": "2025-05-20T14:39:42.195885Z",
     "shell.execute_reply": "2025-05-20T14:39:42.195310Z",
     "shell.execute_reply.started": "2025-05-20T14:39:42.192092Z"
    },
    "scrolled": true
   },
   "outputs": [],
   "source": [
    "# Retrieve the variable 'config' from IPython's storage space\n",
    "# %store -r config"
   ]
  },
  {
   "cell_type": "markdown",
   "id": "724b2d0a-aff7-4a54-9a35-2e2b1f0f685b",
   "metadata": {},
   "source": [
    "## Defining the Delay Differential Equation\n",
    "\n",
    "Consider the delay differential equation with a single unknown time delay on the solution interval $[0,20]$:\n",
    "\n",
    "\\begin{equation}\n",
    "\\begin{cases}\n",
    "\\begin{aligned}\n",
    "        y'(t) = {}& a \\cdot y(t) - b \\cdot y(t) \\cdot y(t-\\tau),,\\qquad & t \\geq 0\\\\\n",
    "        y(t) = {}& 1, & t \\leq 0\n",
    "\\end{aligned}\n",
    "\\end{cases}.\n",
    "\\end{equation}"
   ]
  },
  {
   "cell_type": "code",
   "execution_count": 4,
   "id": "1e287f32-2af2-4945-a7fe-8de8473ffd8e",
   "metadata": {
    "execution": {
     "iopub.execute_input": "2025-05-20T14:39:42.197011Z",
     "iopub.status.busy": "2025-05-20T14:39:42.196586Z",
     "iopub.status.idle": "2025-05-20T14:39:42.201381Z",
     "shell.execute_reply": "2025-05-20T14:39:42.200717Z",
     "shell.execute_reply.started": "2025-05-20T14:39:42.196991Z"
    },
    "scrolled": true,
    "tags": []
   },
   "outputs": [],
   "source": [
    "# Define the differential equation\n",
    "def DDE(t, u, lag, a, b):\n",
    "    # Define u'(t)\n",
    "    u_t = lambda t: jax.grad(lambda t: jnp.sum(u(t)))(t)\n",
    "\n",
    "    # Define the right-hand side of the DDE\n",
    "    rhs = a*u(t) - b*u(t)*jnp.where(t>lag, u(t-lag), 1)\n",
    "    return u_t(t) - rhs"
   ]
  },
  {
   "cell_type": "markdown",
   "id": "08fd805a-49c2-46a1-984d-871a6a8308f8",
   "metadata": {},
   "source": [
    "## Construct the DNNs and initialize parameters"
   ]
  },
  {
   "cell_type": "code",
   "execution_count": 5,
   "id": "dc01c2c3-6edc-46c1-a5ed-7fe66796d7ed",
   "metadata": {
    "execution": {
     "iopub.execute_input": "2025-05-20T14:39:42.202276Z",
     "iopub.status.busy": "2025-05-20T14:39:42.202094Z",
     "iopub.status.idle": "2025-05-20T14:39:42.339991Z",
     "shell.execute_reply": "2025-05-20T14:39:42.339217Z",
     "shell.execute_reply.started": "2025-05-20T14:39:42.202259Z"
    },
    "scrolled": true,
    "tags": []
   },
   "outputs": [],
   "source": [
    "# Define the DNNs model\n",
    "def DNNs(params, x):\n",
    "    for w, b in params[:-2]:\n",
    "        x = jnp.dot(x, w) + b\n",
    "        x = jnp.tanh(x)\n",
    "\n",
    "    w, b = params[-2]\n",
    "    x = jnp.dot(x, w) + b\n",
    "    return x\n",
    "\n",
    "# Xavier initialization for the layer parameters\n",
    "def random_layer_params_xavier(m, n, key):\n",
    "    xavier_stddev = jnp.sqrt(2.0 / (m + n))\n",
    "\n",
    "    w_key, b_key = jax.random.split(key)\n",
    "\n",
    "    weights = xavier_stddev * jax.random.truncated_normal(\n",
    "        w_key, lower=-2.0, upper=2.0, shape=(m, n)\n",
    "    )\n",
    "    biases = jnp.zeros((n,))\n",
    "\n",
    "    return weights, biases\n",
    "\n",
    "# Initialize parameters for all layers in a fully-connected neural network with the specified sizes\n",
    "def init_network_params(sizes, key):\n",
    "    keys = jax.random.split(key, len(sizes))\n",
    "    return [random_layer_params_xavier(m, n, k) for m, n, k in zip(sizes[:-1], sizes[1:], keys)]"
   ]
  },
  {
   "cell_type": "markdown",
   "id": "267af29b-4991-4e5a-9e85-2aeb03831ef5",
   "metadata": {},
   "source": [
    "## Define the loss function"
   ]
  },
  {
   "cell_type": "code",
   "execution_count": 6,
   "id": "89bd118f-9faf-42db-a88d-0393187e63a5",
   "metadata": {
    "execution": {
     "iopub.execute_input": "2025-05-20T14:39:42.341340Z",
     "iopub.status.busy": "2025-05-20T14:39:42.340953Z",
     "iopub.status.idle": "2025-05-20T14:39:42.350504Z",
     "shell.execute_reply": "2025-05-20T14:39:42.349744Z",
     "shell.execute_reply.started": "2025-05-20T14:39:42.341313Z"
    },
    "scrolled": true,
    "tags": []
   },
   "outputs": [],
   "source": [
    "@jax.jit\n",
    "def loss_fun1(params, inPoints, conds, init_data):\n",
    "    lag, a, b = params[-1][0], params[-1][1], params[-1][2]\n",
    "    t_c = inPoints[:, [0]]\n",
    "    ufunc = lambda t: DNNs(params, t)\n",
    "\n",
    "    # Compute the loss from the differential equation\n",
    "    loss_f = jnp.mean(DDE(t_c, ufunc, lag, a, b)**2)\n",
    "\n",
    "    # Compute the loss from the initial conditions\n",
    "    t_0, u_0 = conds[:, [0]], conds[:, [1]]\n",
    "    loss_init = jnp.mean((ufunc(t_0) - u_0)**2)\n",
    "\n",
    "    # Compute the loss from the gaven data\n",
    "    t_g, u_g = init_data[:,0].reshape(-1,1), init_data[:,1].reshape(-1,1)\n",
    "    loss_g = jnp.mean((u_g - ufunc(t_g))**2)\n",
    "\n",
    "    # Compute the sum of loss from all components\n",
    "    loss_sum = loss_f + loss_g + loss_init\n",
    "\n",
    "    # Gather all loss terms\n",
    "    all_losses = jnp.array([loss_f, loss_g, loss_init])\n",
    "    total_loss = jnp.sum(all_losses)\n",
    "\n",
    "    # Dynamic weights\n",
    "    weights = all_losses / total_loss\n",
    "\n",
    "    # Weighted total loss\n",
    "    loss_weighted = jnp.sum(all_losses * weights)\n",
    "\n",
    "    return loss_weighted, all_losses\n",
    "\n",
    "\n",
    "@jax.jit\n",
    "def loss_fun2(params, inPoints, conds, init_data, initial_weights):\n",
    "    lag, a, b = params[-1][0], params[-1][1], params[-1][2]\n",
    "    t_c = inPoints[:, [0]]\n",
    "    ufunc = lambda t: DNNs(params, t)\n",
    "\n",
    "    # Compute the loss from the differential equation\n",
    "    loss_f = jnp.mean(DDE(t_c, ufunc, lag, a, b)**2)\n",
    "\n",
    "    # Compute the loss from the initial conditions\n",
    "    t_0, u_0 = conds[:, [0]], conds[:, [1]]\n",
    "    loss_init = jnp.mean((ufunc(t_0) - u_0)**2)\n",
    "\n",
    "    # Compute the loss from the gaven data\n",
    "    t_g, u_g = init_data[:,0].reshape(-1,1), init_data[:,1].reshape(-1,1)\n",
    "    loss_g = jnp.mean((u_g - ufunc(t_g))**2)\n",
    "\n",
    "    # Gather all loss terms\n",
    "    all_losses = jnp.array([loss_f, loss_g, loss_init])\n",
    "\n",
    "    # Weighted total loss\n",
    "    loss_weighted = jnp.sum(all_losses * initial_weights)\n",
    "\n",
    "    return loss_weighted, all_losses"
   ]
  },
  {
   "cell_type": "markdown",
   "id": "11aa6c1c-3e51-448c-bcad-8af6c66a617d",
   "metadata": {},
   "source": [
    "## Two-step neural network training"
   ]
  },
  {
   "cell_type": "code",
   "execution_count": 7,
   "id": "359daebb-e2a0-4cf4-aca7-a9fd3888d142",
   "metadata": {
    "execution": {
     "iopub.execute_input": "2025-05-20T14:39:42.351833Z",
     "iopub.status.busy": "2025-05-20T14:39:42.351573Z",
     "iopub.status.idle": "2025-05-20T14:39:42.360875Z",
     "shell.execute_reply": "2025-05-20T14:39:42.360141Z",
     "shell.execute_reply.started": "2025-05-20T14:39:42.351811Z"
    },
    "scrolled": true,
    "tags": []
   },
   "outputs": [],
   "source": [
    "# First Step：Adam Optimizer\n",
    "def train_adam(params, inPoints, conds, init_data, record_info, num_epochs, start_epoch=0, log_interval=100, print_interval=1000):\n",
    "    phase_epochs = []\n",
    "    phase_losses = []\n",
    "    phase_loss_terms = []\n",
    "    phase_lag = []\n",
    "\n",
    "    scheduler = optax.cosine_decay_schedule(\n",
    "        init_value=config['initial_lr'],\n",
    "        decay_steps=config['cosine_decay_steps'],\n",
    "        alpha=config['cosine_alpha']\n",
    "    )\n",
    "    optimizer = optax.adam(learning_rate=scheduler)\n",
    "    opt_state = optimizer.init(params)\n",
    "\n",
    "    @jax.jit\n",
    "    def update_adam(params, inPoints, conds, init_data, opt_state):\n",
    "        (loss, all_losses), grads = jax.value_and_grad(loss_fun1, has_aux=True)(\n",
    "            params, inPoints, conds, init_data\n",
    "        )\n",
    "        updates, opt_state = optimizer.update(grads, opt_state, params)\n",
    "        params = optax.apply_updates(params, updates)\n",
    "        return params, opt_state, (loss, all_losses)\n",
    "\n",
    "    if record_info:\n",
    "        for epoch in range(num_epochs):\n",
    "            params, opt_state, (loss, all_losses) = update_adam(\n",
    "                params, inPoints, conds, init_data, opt_state\n",
    "            )\n",
    "            current_epoch = start_epoch + epoch\n",
    "\n",
    "            if record_info and current_epoch % log_interval == 0:\n",
    "                phase_epochs.append(current_epoch)\n",
    "                phase_losses.append(loss)\n",
    "                phase_loss_terms.append(all_losses)\n",
    "                phase_lag.append(params[-1])\n",
    "\n",
    "            if record_info and current_epoch % print_interval == 0:\n",
    "                print(f\"Epoch {current_epoch}, Total Loss: {loss:.3e}\")\n",
    "        \n",
    "        return params, phase_epochs, phase_losses, phase_loss_terms, phase_lag, all_losses\n",
    "    else:\n",
    "        now_epoch = 0\n",
    "        while now_epoch < num_epochs:\n",
    "            params, opt_state, (loss, all_losses) = update_adam(\n",
    "                params, inPoints, conds, init_data, opt_state\n",
    "            )\n",
    "            now_epoch += 1\n",
    "        return params, None, None, None, None, all_losses\n",
    "\n",
    "\n",
    "# Second Step：BFGS Optimizer\n",
    "def train_lbfgs(params, inPoints, conds, init_data, initial_weights,\n",
    "                record_info, num_epochs=10000):\n",
    "    current_params = params\n",
    "\n",
    "    solver = jaxopt.My_BFGS(\n",
    "        fun=loss_fun2,\n",
    "        tol=1e-16,\n",
    "        maxiter=num_epochs,\n",
    "        has_aux=True,\n",
    "        verbose=record_info\n",
    "    )\n",
    "\n",
    "    sol = solver.run(current_params, inPoints, conds, init_data, initial_weights)\n",
    "    current_params = sol.params\n",
    "    return current_params, sol.state.aux\n",
    "\n",
    "def get_fixed_weights(loss_jnp):\n",
    "    losses = jax.lax.stop_gradient(loss_jnp)\n",
    "    return losses / jnp.sum(losses)"
   ]
  },
  {
   "cell_type": "markdown",
   "id": "e29047f1-9d6d-4eb9-9b3a-3048cd81fd25",
   "metadata": {},
   "source": [
    "## Boundary Condition Initialization and Random Sampling Strategy for Solving DDE"
   ]
  },
  {
   "cell_type": "code",
   "execution_count": 8,
   "id": "ca92374e-f27a-4ffb-a8b5-44e838892726",
   "metadata": {
    "execution": {
     "iopub.execute_input": "2025-05-20T14:39:42.362200Z",
     "iopub.status.busy": "2025-05-20T14:39:42.361718Z",
     "iopub.status.idle": "2025-05-20T14:39:47.521007Z",
     "shell.execute_reply": "2025-05-20T14:39:47.519613Z",
     "shell.execute_reply.started": "2025-05-20T14:39:42.362179Z"
    },
    "scrolled": true,
    "tags": []
   },
   "outputs": [],
   "source": [
    "lag = config[\"real_lag\"]\n",
    "a = config[\"real_a\"]\n",
    "b = config[\"real_b\"]\n",
    "\n",
    "# conds represents the initial condition y(0) = 1\n",
    "conds = jnp.array(config['conds']).reshape(1,-1)\n",
    "\n",
    "# Initial key for random number generator\n",
    "ik = config['initial_key']\n",
    "\n",
    "# Number of internal random points\n",
    "N_f = config['N_f']\n",
    "\n",
    "# Range for sampling points\n",
    "tmin, tmax = config['tmin'], config['tmax']\n",
    "\n",
    "# Generate random points within the specified range\n",
    "jaxKey = jax.random.PRNGKey(ik)\n",
    "\n",
    "sampler = qmc.LatinHypercube(d=1)\n",
    "\n",
    "sample = sampler.random(n=N_f)\n",
    "Inn_T = qmc.scale(sample, tmin, tmax)\n",
    "inPoints = jnp.array(Inn_T)\n",
    "\n",
    "# Load the dataset with the given real lag value\n",
    "given_data_path = os.path.join(config['given_data_root_path'], f\"DDE23_ex4.2.2_tau_{lag}.csv\")\n",
    "given_data = pd.read_csv(given_data_path)\n",
    "\n",
    "t_g_data = jnp.array(given_data.iloc[:, [0]].to_numpy())\n",
    "y_g_data = jnp.array(given_data.iloc[:, [1]].to_numpy())\n",
    "\n",
    "noise = config[\"noise_level\"] * jax.random.normal(jaxKey, shape=t_g_data.shape)\n",
    "y_g_noise_data = y_g_data*(1+noise)\n",
    "\n",
    "# Extract given data points from the dataset and convert to JAX-compatible numpy array\n",
    "init_data = jnp.column_stack((t_g_data, y_g_noise_data))\n",
    "\n",
    "# Network architecture\n",
    "netLayers = config['netLayers']\n",
    "\n",
    "# Initialize network parameters\n",
    "params = init_network_params(netLayers, jaxKey)\n",
    "\n",
    "# Append the parameter for the inverse problem (time delay 'lag' and system parameters 'a' and 'b') to the network parameters\n",
    "lag_and_system_params = jnp.array([0., 0., 0.], dtype=jnp.float64)\n",
    "params.append(lag_and_system_params)"
   ]
  },
  {
   "cell_type": "markdown",
   "id": "bf4eaa5b-e4ca-4cea-844f-da64c95bcd56",
   "metadata": {},
   "source": [
    "## Training"
   ]
  },
  {
   "cell_type": "code",
   "execution_count": 9,
   "id": "3c4c8c83-7a76-41d7-af24-374cf1c99160",
   "metadata": {
    "execution": {
     "iopub.execute_input": "2025-05-20T14:39:47.522878Z",
     "iopub.status.busy": "2025-05-20T14:39:47.522515Z",
     "iopub.status.idle": "2025-05-20T14:40:26.897755Z",
     "shell.execute_reply": "2025-05-20T14:40:26.896848Z",
     "shell.execute_reply.started": "2025-05-20T14:39:47.522852Z"
    },
    "scrolled": true,
    "tags": []
   },
   "outputs": [],
   "source": [
    "%%capture captured_output\n",
    "\n",
    "adam_epochs = config[\"step_epochs\"][0]\n",
    "lbfgs_epochs = config[\"step_epochs\"][1]\n",
    "stage1_epochs = adam_epochs + lbfgs_epochs\n",
    "\n",
    "record_info = config['record_info']\n",
    "\n",
    "start_time_nn = time.time()\n",
    "\n",
    "# 第一阶段adam训练\n",
    "params, hist1_epoch, hist1_loss, hist1_loss_items, hist1_lag, loss_components = train_adam(params, inPoints, conds, init_data, record_info, adam_epochs, start_epoch=0, log_interval=10, print_interval=1000)\n",
    "\n",
    "initial_weights = get_fixed_weights(loss_components)\n",
    "\n",
    "# 第二阶段lbfgs训练\n",
    "params, _ = train_lbfgs(params, inPoints, conds, init_data, initial_weights, record_info, num_epochs=lbfgs_epochs)\n",
    "\n",
    "end_time_nn = time.time()\n",
    "time_nn = end_time_nn - start_time_nn\n"
   ]
  },
  {
   "cell_type": "code",
   "execution_count": 10,
   "id": "b532122b-a84c-4608-b3cd-e0770b99c20b",
   "metadata": {
    "execution": {
     "iopub.execute_input": "2025-05-20T14:40:26.900992Z",
     "iopub.status.busy": "2025-05-20T14:40:26.900656Z",
     "iopub.status.idle": "2025-05-20T14:40:27.743754Z",
     "shell.execute_reply": "2025-05-20T14:40:27.742679Z",
     "shell.execute_reply.started": "2025-05-20T14:40:26.900969Z"
    },
    "scrolled": true
   },
   "outputs": [
    {
     "name": "stdout",
     "output_type": "stream",
     "text": [
      "未提取到任何数据！请检查日志格式。\r\n"
     ]
    },
    {
     "ename": "ValueError",
     "evalue": "all the input array dimensions except for the concatenation axis must match exactly, but along dimension 1, the array at index 0 has size 5 and the array at index 1 has size 1",
     "output_type": "error",
     "traceback": [
      "\u001b[0;31m---------------------------------------------------------------------------\u001b[0m",
      "\u001b[0;31mValueError\u001b[0m                                Traceback (most recent call last)",
      "Cell \u001b[0;32mIn[10], line 3\u001b[0m\n\u001b[1;32m      1\u001b[0m adam_arr \u001b[38;5;241m=\u001b[39m process_log\u001b[38;5;241m.\u001b[39mformat_adam_log(hist1_epoch, hist1_loss, hist1_lag)\n\u001b[1;32m      2\u001b[0m bfgs_arr, col_names \u001b[38;5;241m=\u001b[39m process_log\u001b[38;5;241m.\u001b[39mextract_bfgs_log_info(captured_output\u001b[38;5;241m.\u001b[39mstdout, adam_epochs, \u001b[38;5;241m5\u001b[39m)\n\u001b[0;32m----> 3\u001b[0m all_arr \u001b[38;5;241m=\u001b[39m \u001b[43mnp\u001b[49m\u001b[38;5;241;43m.\u001b[39;49m\u001b[43mvstack\u001b[49m\u001b[43m(\u001b[49m\u001b[43m[\u001b[49m\u001b[43madam_arr\u001b[49m\u001b[43m,\u001b[49m\u001b[43m \u001b[49m\u001b[43mbfgs_arr\u001b[49m\u001b[43m]\u001b[49m\u001b[43m)\u001b[49m\n\u001b[1;32m      5\u001b[0m epoch_history \u001b[38;5;241m=\u001b[39m all_arr[:, \u001b[38;5;241m0\u001b[39m]\n\u001b[1;32m      6\u001b[0m loss_history \u001b[38;5;241m=\u001b[39m all_arr[:, \u001b[38;5;241m1\u001b[39m]\n",
      "File \u001b[0;32m/opt/conda/envs/python35-paddle120-env/lib/python3.10/site-packages/numpy/core/shape_base.py:289\u001b[0m, in \u001b[0;36mvstack\u001b[0;34m(tup, dtype, casting)\u001b[0m\n\u001b[1;32m    287\u001b[0m \u001b[38;5;28;01mif\u001b[39;00m \u001b[38;5;129;01mnot\u001b[39;00m \u001b[38;5;28misinstance\u001b[39m(arrs, \u001b[38;5;28mlist\u001b[39m):\n\u001b[1;32m    288\u001b[0m     arrs \u001b[38;5;241m=\u001b[39m [arrs]\n\u001b[0;32m--> 289\u001b[0m \u001b[38;5;28;01mreturn\u001b[39;00m \u001b[43m_nx\u001b[49m\u001b[38;5;241;43m.\u001b[39;49m\u001b[43mconcatenate\u001b[49m\u001b[43m(\u001b[49m\u001b[43marrs\u001b[49m\u001b[43m,\u001b[49m\u001b[43m \u001b[49m\u001b[38;5;241;43m0\u001b[39;49m\u001b[43m,\u001b[49m\u001b[43m \u001b[49m\u001b[43mdtype\u001b[49m\u001b[38;5;241;43m=\u001b[39;49m\u001b[43mdtype\u001b[49m\u001b[43m,\u001b[49m\u001b[43m \u001b[49m\u001b[43mcasting\u001b[49m\u001b[38;5;241;43m=\u001b[39;49m\u001b[43mcasting\u001b[49m\u001b[43m)\u001b[49m\n",
      "\u001b[0;31mValueError\u001b[0m: all the input array dimensions except for the concatenation axis must match exactly, but along dimension 1, the array at index 0 has size 5 and the array at index 1 has size 1"
     ]
    }
   ],
   "source": [
    "adam_arr = process_log.format_adam_log(hist1_epoch, hist1_loss, hist1_lag)\n",
    "bfgs_arr, col_names = process_log.extract_bfgs_log_info(captured_output.stdout, adam_epochs, 5)\n",
    "all_arr = np.vstack([adam_arr, bfgs_arr])\n",
    "\n",
    "epoch_history = all_arr[:, 0]\n",
    "loss_history = all_arr[:, 1]\n",
    "lag_history = all_arr[:, 2:]"
   ]
  },
  {
   "cell_type": "markdown",
   "id": "424d542f-c599-41b7-916f-7268231a94a3",
   "metadata": {},
   "source": [
    "## Result visualization"
   ]
  },
  {
   "cell_type": "code",
   "execution_count": null,
   "id": "5266a53e-52aa-4f46-babd-8d17feb8d22f",
   "metadata": {
    "execution": {
     "iopub.status.busy": "2025-05-20T14:40:27.744302Z",
     "iopub.status.idle": "2025-05-20T14:40:27.744549Z",
     "shell.execute_reply": "2025-05-20T14:40:27.744433Z",
     "shell.execute_reply.started": "2025-05-20T14:40:27.744423Z"
    },
    "scrolled": true,
    "tags": []
   },
   "outputs": [],
   "source": [
    "# save path\n",
    "result_save_root_path = os.path.join(config['result_save_path'],f\"tau_{config['real_lag']}\")\n",
    "os.makedirs(result_save_root_path, exist_ok=True)"
   ]
  },
  {
   "cell_type": "markdown",
   "id": "15f5128d-0d3c-4af7-9e8a-50ccf674c242",
   "metadata": {},
   "source": [
    "### Sol"
   ]
  },
  {
   "cell_type": "code",
   "execution_count": 12,
   "id": "8de99392-a80b-4a75-8241-699f820ec040",
   "metadata": {
    "execution": {
     "iopub.execute_input": "2025-05-20T14:41:17.000640Z",
     "iopub.status.busy": "2025-05-20T14:41:17.000250Z",
     "iopub.status.idle": "2025-05-20T14:41:17.940249Z",
     "shell.execute_reply": "2025-05-20T14:41:17.939335Z",
     "shell.execute_reply.started": "2025-05-20T14:41:17.000615Z"
    },
    "scrolled": true,
    "tags": []
   },
   "outputs": [
    {
     "ename": "NameError",
     "evalue": "name 'result_save_root_path' is not defined",
     "output_type": "error",
     "traceback": [
      "\u001b[0;31m---------------------------------------------------------------------------\u001b[0m",
      "\u001b[0;31mNameError\u001b[0m                                 Traceback (most recent call last)",
      "Cell \u001b[0;32mIn[12], line 36\u001b[0m\n\u001b[1;32m     33\u001b[0m plt\u001b[38;5;241m.\u001b[39mgrid(\u001b[38;5;28;01mTrue\u001b[39;00m, which\u001b[38;5;241m=\u001b[39m\u001b[38;5;124m'\u001b[39m\u001b[38;5;124mmajor\u001b[39m\u001b[38;5;124m'\u001b[39m, axis\u001b[38;5;241m=\u001b[39m\u001b[38;5;124m'\u001b[39m\u001b[38;5;124mboth\u001b[39m\u001b[38;5;124m'\u001b[39m, linestyle\u001b[38;5;241m=\u001b[39m\u001b[38;5;124m'\u001b[39m\u001b[38;5;124m--\u001b[39m\u001b[38;5;124m'\u001b[39m, linewidth\u001b[38;5;241m=\u001b[39m\u001b[38;5;241m0.5\u001b[39m)\n\u001b[1;32m     35\u001b[0m \u001b[38;5;66;03m# Save the figure with high resolution\u001b[39;00m\n\u001b[0;32m---> 36\u001b[0m save_path \u001b[38;5;241m=\u001b[39m os\u001b[38;5;241m.\u001b[39mpath\u001b[38;5;241m.\u001b[39mjoin(\u001b[43mresult_save_root_path\u001b[49m, \u001b[38;5;124mf\u001b[39m\u001b[38;5;124m\"\u001b[39m\u001b[38;5;124mSol_ex4.2.2_netLayers_\u001b[39m\u001b[38;5;132;01m{\u001b[39;00mconfig[\u001b[38;5;124m'\u001b[39m\u001b[38;5;124mnetLayers\u001b[39m\u001b[38;5;124m'\u001b[39m]\u001b[38;5;132;01m}\u001b[39;00m\u001b[38;5;124m_tau_\u001b[39m\u001b[38;5;132;01m{\u001b[39;00mconfig[\u001b[38;5;124m'\u001b[39m\u001b[38;5;124mreal_lag\u001b[39m\u001b[38;5;124m'\u001b[39m]\u001b[38;5;132;01m}\u001b[39;00m\u001b[38;5;124m.png\u001b[39m\u001b[38;5;124m\"\u001b[39m)\n\u001b[1;32m     37\u001b[0m plt\u001b[38;5;241m.\u001b[39msavefig(save_path, dpi\u001b[38;5;241m=\u001b[39m\u001b[38;5;241m600\u001b[39m, bbox_inches\u001b[38;5;241m=\u001b[39m\u001b[38;5;124m'\u001b[39m\u001b[38;5;124mtight\u001b[39m\u001b[38;5;124m'\u001b[39m)\n\u001b[1;32m     39\u001b[0m \u001b[38;5;66;03m# Display the plot\u001b[39;00m\n\u001b[1;32m     40\u001b[0m \u001b[38;5;66;03m# plt.show()\u001b[39;00m\n",
      "\u001b[0;31mNameError\u001b[0m: name 'result_save_root_path' is not defined"
     ]
    },
    {
     "data": {
      "image/png": "[encoded data removed]",
      "text/plain": [
       "<Figure size 629.921x472.441 with 1 Axes>"
      ]
     },
     "metadata": {},
     "output_type": "display_data"
    }
   ],
   "source": [
    "# Generate a linearly spaced array of time points\n",
    "T = np.linspace(tmin, tmax, 10000).reshape(-1,1) \n",
    "\n",
    "# Evaluate the neural network at these time points\n",
    "nn_sol1 = DNNs(params, T)\n",
    "\n",
    "# Extract time points and real data from the dataset\n",
    "t_points = given_data.iloc[:, 0]\n",
    "y_real = given_data.iloc[:, 1]\n",
    "\n",
    "# Set the figure size in centimeters (4:3 aspect ratio)\n",
    "plt.figure(figsize=(16 / 2.54, 12 / 2.54))\n",
    "\n",
    "# Plot the given data as scatter points\n",
    "plt.scatter(t_points, y_real, label='Given Data of $y(t)$', color='blue', marker='x')\n",
    "\n",
    "# Plot the neural network's predictions as a line\n",
    "plt.plot(T, nn_sol1, 'k', label='PINN-DDEs Solution: $\\hat{y}(t)$')\n",
    "\n",
    "# Add a legend with custom font properties\n",
    "plt.legend(prop=prop)\n",
    "\n",
    "# Set the labels for the axes with custom font properties\n",
    "# plt.xlabel('$t$', fontproperties=prop)\n",
    "# plt.ylabel('$y(t)$', fontproperties=prop)\n",
    "\n",
    "# Get the current axes, set the font properties for ticks\n",
    "ax = plt.gca()\n",
    "for label in ax.get_xticklabels() + ax.get_yticklabels():\n",
    "    label.set_fontproperties(prop)\n",
    "\n",
    "# Add grid lines major only, with specific style and linewidth\n",
    "plt.grid(True, which='major', axis='both', linestyle='--', linewidth=0.5)\n",
    "\n",
    "# Save the figure with high resolution\n",
    "save_path = os.path.join(result_save_root_path, f\"Sol_ex4.2.2_netLayers_{config['netLayers']}_tau_{config['real_lag']}.png\")\n",
    "plt.savefig(save_path, dpi=600, bbox_inches='tight')\n",
    "\n",
    "# Display the plot\n",
    "# plt.show()"
   ]
  },
  {
   "cell_type": "markdown",
   "id": "9b7de17b-6456-47de-9a0d-18c214c7234f",
   "metadata": {},
   "source": [
    "### Loss"
   ]
  },
  {
   "cell_type": "code",
   "execution_count": null,
   "id": "1adb3c79-8dc1-4212-9314-9e0d17ff574c",
   "metadata": {
    "execution": {
     "iopub.status.busy": "2025-05-20T14:40:27.746529Z",
     "iopub.status.idle": "2025-05-20T14:40:27.746889Z",
     "shell.execute_reply": "2025-05-20T14:40:27.746770Z",
     "shell.execute_reply.started": "2025-05-20T14:40:27.746759Z"
    },
    "scrolled": true,
    "tags": []
   },
   "outputs": [],
   "source": [
    "# Set up the figure with a specific size (converted from cm to inches)\n",
    "plt.figure(figsize=(16 / 2.54, 12 / 2.54))\n",
    "\n",
    "# Plot the loss history over epochs\n",
    "plt.plot(epoch_history[:-50], loss_history[:-50], 'k', label='Loss')\n",
    "\n",
    "# Set the y-axis to a logarithmic scale\n",
    "plt.yscale('log')\n",
    "\n",
    "# Add a legend with a specific font\n",
    "plt.legend(prop=prop, loc='upper right')\n",
    "\n",
    "# Add axis labels with the specified font\n",
    "# plt.xlabel('Epoch', fontproperties=prop)\n",
    "# plt.ylabel('Loss', fontproperties=prop)\n",
    "\n",
    "# Get the current axis for further customizationa\n",
    "ax = plt.gca()\n",
    "\n",
    "# Set font properties for tick labels on both axes\n",
    "for label in ax.get_xticklabels() + ax.get_yticklabels():\n",
    "    label.set_fontproperties(prop)\n",
    "\n",
    "# Add a grid to the plot with dashed lines for major ticks on both axes\n",
    "plt.grid(True, which='major', axis='both', linestyle='--', linewidth=0.5)\n",
    "\n",
    "# Export the plot to a file with a DPI of 600 and tight bounding box\n",
    "save_path = os.path.join(result_save_root_path, f\"Loss_ex4.2.2_tau_{lag}.png\")\n",
    "plt.savefig(save_path, dpi=600, bbox_inches='tight')\n",
    "\n",
    "# Display the plot\n",
    "# plt.show()"
   ]
  },
  {
   "cell_type": "markdown",
   "id": "51f6d705-fd8f-42ef-accb-52ca1e9c086b",
   "metadata": {},
   "source": [
    "### Lag"
   ]
  },
  {
   "cell_type": "code",
   "execution_count": null,
   "id": "ea96941e-3cc3-45c7-b01b-5b1f664116d0",
   "metadata": {
    "execution": {
     "iopub.status.busy": "2025-05-20T14:40:27.747573Z",
     "iopub.status.idle": "2025-05-20T14:40:27.747905Z",
     "shell.execute_reply": "2025-05-20T14:40:27.747787Z",
     "shell.execute_reply.started": "2025-05-20T14:40:27.747775Z"
    },
    "scrolled": true,
    "tags": []
   },
   "outputs": [],
   "source": [
    "# Define a function to compute relative error bounds\n",
    "def relative_error_lines(real_value, error_percentage):\n",
    "    \"\"\" Calculate the lower and upper bounds of real_value considering a percentage error. \"\"\"\n",
    "    lower_bound = real_value * (1 - error_percentage / 100)\n",
    "    upper_bound = real_value * (1 + error_percentage / 100)\n",
    "    return lower_bound, upper_bound, error_percentage\n",
    "\n",
    "# Calculate error bounds for the given real_lag with a 3% error margin\n",
    "lower_bound, upper_bound, error_percentage = relative_error_lines(config['real_lag'], 3)\n",
    "\n",
    "# Set the figure size in a 4:3 aspect ratio\n",
    "plt.figure(figsize=(16 / 2.54, 12 / 2.54))\n",
    "\n",
    "# Plot the smoothed loss history\n",
    "plt.plot(lag_history[:,0], loss_history, 'k', label='Loss')\n",
    "\n",
    "# Draw vertical lines representing the 3% error range\n",
    "plt.axvline(x=lower_bound, color='red', linestyle='--', linewidth=1, label=f'{error_percentage}% Relative Error Line')\n",
    "plt.axvline(x=upper_bound, color='red', linestyle='--', linewidth=1)\n",
    "\n",
    "# Set the y-axis to logarithmic scale for better visualization of differences\n",
    "plt.yscale('log')\n",
    "\n",
    "# Add labels to the axes\n",
    "# plt.xlabel('$\\\\tau$', fontproperties=prop)\n",
    "# plt.ylabel('Loss', fontproperties=prop)\n",
    "\n",
    "# Customize the tick labels using font properties\n",
    "ax = plt.gca()\n",
    "for label in ax.get_xticklabels() + ax.get_yticklabels():\n",
    "    label.set_fontproperties(prop)\n",
    "\n",
    "# Add grid lines, major only, with specific style\n",
    "plt.grid(True, which='major', axis='both', linestyle='--', linewidth=0.5)\n",
    "\n",
    "# Display the legend with custom font properties\n",
    "plt.legend(prop=prop)\n",
    "\n",
    "# axins = inset_axes(\n",
    "#     ax,\n",
    "#     width=1.5, height=1.5,\n",
    "#     bbox_to_anchor=(300, 80), \n",
    "#     loc='lower left',\n",
    "#     borderpad=0\n",
    "# )\n",
    "\n",
    "axins = inset_axes(\n",
    "    ax,\n",
    "    width=1.5, height=1.5,\n",
    "    loc='lower left',\n",
    "    bbox_to_anchor=(0.5, 0.1), \n",
    "    bbox_transform=ax.transAxes,\n",
    "    borderpad=0\n",
    ")\n",
    "\n",
    "axins.plot(lag_history[:, 0], loss_history, 'k')\n",
    "axins.axvline(x=lower_bound, color='red', linestyle='--', linewidth=1)\n",
    "axins.axvline(x=upper_bound, color='red', linestyle='--', linewidth=1)\n",
    "\n",
    "axins.set_xlim(lag - 0.05, lag + 0.05)\n",
    "axins.set_ylim(1e-7, 1e-3)\n",
    "axins.set_yscale('log')\n",
    "axins.grid(True, linestyle='--', linewidth=0.4)\n",
    "axins.tick_params(labelleft=False, labelbottom=False)\n",
    "\n",
    "# Save the figure with high resolution\n",
    "save_path = os.path.join(result_save_root_path, f\"Lag_ex4.2.2_netLayers_{config['netLayers']}_tau_{config['real_lag']}.png\")\n",
    "plt.savefig(save_path, dpi=600, bbox_inches='tight')\n",
    "\n",
    "# Display the plot\n",
    "plt.show()"
   ]
  },
  {
   "cell_type": "markdown",
   "id": "b4e6e6eb-6a2d-472e-8cef-148d46d2c4e3",
   "metadata": {},
   "source": [
    "### a"
   ]
  },
  {
   "cell_type": "code",
   "execution_count": null,
   "id": "37c2f8d6-ce43-4ade-a072-c64509b1d729",
   "metadata": {
    "execution": {
     "iopub.status.busy": "2025-05-20T14:40:27.748570Z",
     "iopub.status.idle": "2025-05-20T14:40:27.748820Z",
     "shell.execute_reply": "2025-05-20T14:40:27.748695Z",
     "shell.execute_reply.started": "2025-05-20T14:40:27.748686Z"
    },
    "scrolled": true,
    "tags": []
   },
   "outputs": [],
   "source": [
    "# Define a function to compute relative error bounds\n",
    "def relative_error_lines(real_value, error_percentage):\n",
    "    \"\"\" Calculate the lower and upper bounds of real_value considering a percentage error. \"\"\"\n",
    "    lower_bound = real_value * (1 - error_percentage / 100)\n",
    "    upper_bound = real_value * (1 + error_percentage / 100)\n",
    "    return lower_bound, upper_bound, error_percentage\n",
    "\n",
    "# Calculate error bounds for the given real_lag with a 3% error margin\n",
    "lower_bound, upper_bound, error_percentage = relative_error_lines(config['real_a'], 3)\n",
    "\n",
    "# Set the figure size in a 4:3 aspect ratio\n",
    "plt.figure(figsize=(16 / 2.54, 12 / 2.54))\n",
    "\n",
    "# Plot the smoothed loss history\n",
    "plt.plot(lag_history[:, 1], loss_history, 'k', label='Loss')\n",
    "\n",
    "# Draw vertical lines representing the 3% error range\n",
    "plt.axvline(x=lower_bound, color='red', linestyle='--', linewidth=1, label=f'{error_percentage}% Relative Error Line')\n",
    "plt.axvline(x=upper_bound, color='red', linestyle='--', linewidth=1)\n",
    "\n",
    "# Set the y-axis to logarithmic scale for better visualization of differences\n",
    "plt.yscale('log')\n",
    "\n",
    "# Add labels to the axes\n",
    "# plt.xlabel('$a$', fontproperties=prop)\n",
    "# plt.ylabel('Loss', fontproperties=prop)\n",
    "\n",
    "# Customize the tick labels using font properties\n",
    "ax = plt.gca()\n",
    "for label in ax.get_xticklabels() + ax.get_yticklabels():\n",
    "    label.set_fontproperties(prop)\n",
    "\n",
    "# Add grid lines, major only, with specific style\n",
    "plt.grid(True, which='major', axis='both', linestyle='--', linewidth=0.5)\n",
    "\n",
    "# Display the legend with custom font properties\n",
    "plt.legend(prop=prop,loc='lower left')\n",
    "\n",
    "axins = inset_axes(\n",
    "    ax,\n",
    "    width=1.5, height=1.5,\n",
    "    loc='lower left',\n",
    "    bbox_to_anchor=(0.5, 0.1), \n",
    "    bbox_transform=ax.transAxes,\n",
    "    borderpad=0\n",
    ")\n",
    "\n",
    "axins.plot(lag_history[:, 1], loss_history, 'k')\n",
    "axins.axvline(x=lower_bound, color='red', linestyle='--', linewidth=1)\n",
    "axins.axvline(x=upper_bound, color='red', linestyle='--', linewidth=1)\n",
    "\n",
    "axins.set_xlim(a - 0.05, a + 0.05)\n",
    "axins.set_ylim(1e-7, 1e-3)\n",
    "axins.set_yscale('log')\n",
    "axins.grid(True, linestyle='--', linewidth=0.4)\n",
    "axins.tick_params(labelleft=False, labelbottom=False)\n",
    "\n",
    "# Save the figure with high resolution\n",
    "save_path = os.path.join(result_save_root_path, f\"a_ex2.2_netLayers_{config['netLayers']}_tau_{config['real_lag']}.png\")\n",
    "plt.savefig(save_path, dpi=600, bbox_inches='tight')\n",
    "\n",
    "# Display the plot\n",
    "# plt.show()"
   ]
  },
  {
   "cell_type": "markdown",
   "id": "a40fdc50-fa84-4460-b5c3-f2124640dc92",
   "metadata": {},
   "source": [
    "### b"
   ]
  },
  {
   "cell_type": "code",
   "execution_count": null,
   "id": "9ad6923e-8c7c-4be1-a79b-a64896493944",
   "metadata": {
    "execution": {
     "iopub.status.busy": "2025-05-20T14:40:27.749608Z",
     "iopub.status.idle": "2025-05-20T14:40:27.749859Z",
     "shell.execute_reply": "2025-05-20T14:40:27.749747Z",
     "shell.execute_reply.started": "2025-05-20T14:40:27.749736Z"
    },
    "scrolled": true,
    "tags": []
   },
   "outputs": [],
   "source": [
    "# Define a function to compute relative error bounds\n",
    "def relative_error_lines(real_value, error_percentage):\n",
    "    \"\"\" Calculate the lower and upper bounds of real_value considering a percentage error. \"\"\"\n",
    "    lower_bound = real_value * (1 - error_percentage / 100)\n",
    "    upper_bound = real_value * (1 + error_percentage / 100)\n",
    "    return lower_bound, upper_bound, error_percentage\n",
    "\n",
    "# Calculate error bounds for the given real_lag with a 3% error margin\n",
    "lower_bound, upper_bound, error_percentage = relative_error_lines(config['real_b'], 3)\n",
    "\n",
    "# Set the figure size in a 4:3 aspect ratio\n",
    "plt.figure(figsize=(16 / 2.54, 12 / 2.54))\n",
    "\n",
    "# Plot the smoothed loss history\n",
    "plt.plot(lag_history[:, 2], loss_history, 'k', label='Loss')\n",
    "\n",
    "# Draw vertical lines representing the 3% error range\n",
    "plt.axvline(x=lower_bound, color='red', linestyle='--', linewidth=1, label=f'{error_percentage}% Relative Error Line')\n",
    "plt.axvline(x=upper_bound, color='red', linestyle='--', linewidth=1)\n",
    "\n",
    "# Set the y-axis to logarithmic scale for better visualization of differences\n",
    "plt.yscale('log')\n",
    "\n",
    "# Add labels to the axes\n",
    "# plt.xlabel('$b$', fontproperties=prop)\n",
    "# plt.ylabel('Loss', fontproperties=prop)\n",
    "\n",
    "# Customize the tick labels using font properties\n",
    "ax = plt.gca()\n",
    "for label in ax.get_xticklabels() + ax.get_yticklabels():\n",
    "    label.set_fontproperties(prop)\n",
    "\n",
    "# Add grid lines, major only, with specific style\n",
    "plt.grid(True, which='major', axis='both', linestyle='--', linewidth=0.5)\n",
    "\n",
    "# Display the legend with custom font properties\n",
    "plt.legend(prop=prop,loc='lower left')\n",
    "\n",
    "axins = inset_axes(\n",
    "    ax,\n",
    "    width=1.5, height=1.5,\n",
    "    loc='lower left',\n",
    "    bbox_to_anchor=(0.5, 0.1), \n",
    "    bbox_transform=ax.transAxes,\n",
    "    borderpad=0\n",
    ")\n",
    "\n",
    "axins.plot(lag_history[:, 2], loss_history, 'k')\n",
    "axins.axvline(x=lower_bound, color='red', linestyle='--', linewidth=1)\n",
    "axins.axvline(x=upper_bound, color='red', linestyle='--', linewidth=1)\n",
    "\n",
    "axins.set_xlim(b - 0.0005, b + 0.0005)\n",
    "axins.set_ylim(1e-7, 1e-3)\n",
    "axins.set_yscale('log')\n",
    "axins.grid(True, linestyle='--', linewidth=0.4)\n",
    "axins.tick_params(labelleft=False, labelbottom=False)\n",
    "\n",
    "# Save the figure with high resolution\n",
    "save_path = os.path.join(result_save_root_path, f\"b_ex2.2_netLayers_{config['netLayers']}_tau_{config['real_lag']}.png\")\n",
    "plt.savefig(save_path, dpi=600, bbox_inches='tight')\n",
    "\n",
    "# Display the plot\n",
    "# plt.show()"
   ]
  },
  {
   "cell_type": "markdown",
   "id": "313f0c06-945e-490a-bf3f-dfe0d4fbfed5",
   "metadata": {},
   "source": [
    "## Calculating Error"
   ]
  },
  {
   "cell_type": "code",
   "execution_count": null,
   "id": "4aa35727-cdbd-431b-beca-9e009cb33bfb",
   "metadata": {
    "execution": {
     "iopub.status.busy": "2025-05-20T14:40:27.750493Z",
     "iopub.status.idle": "2025-05-20T14:40:27.750838Z",
     "shell.execute_reply": "2025-05-20T14:40:27.750719Z",
     "shell.execute_reply.started": "2025-05-20T14:40:27.750698Z"
    },
    "scrolled": true,
    "tags": []
   },
   "outputs": [],
   "source": [
    "# Calculate the absolute and relative errors for lag, a, and b\n",
    "absolute_error_lag = abs(params[-1][0] - config['real_lag'])\n",
    "relative_error_lag = absolute_error_lag / config['real_lag']\n",
    "\n",
    "absolute_error_a = abs(params[-1][1] - config['real_a'])\n",
    "relative_error_a = absolute_error_a / config['real_a']\n",
    "\n",
    "absolute_error_b = abs(params[-1][2] - config['real_b'])\n",
    "relative_error_b = absolute_error_b / config['real_b']\n",
    "\n",
    "# Print the calculated values for verification\n",
    "print(f\"Absolute Error (lag): {absolute_error_lag}\")\n",
    "print(f\"Relative Error (lag): {relative_error_lag}\")\n",
    "print(f\"Absolute Error (a): {absolute_error_a}\")\n",
    "print(f\"Relative Error (a): {relative_error_a}\")\n",
    "print(f\"Absolute Error (b): {absolute_error_b}\")\n",
    "print(f\"Relative Error (b): {relative_error_b}\")\n",
    "\n",
    "# Save the results to a text file for documentation purposes\n",
    "output_file = os.path.join(result_save_root_path, f\"Result_ex4.2.2_netLayers_{config['netLayers']}_tau_{config['real_lag']}.txt\")\n",
    "with open(output_file, \"w\") as file:\n",
    "    file.write(f\"Real Lag: {config['real_lag']}\\n\")\n",
    "    file.write(f\"netLayers: {config['netLayers']}\\n\")\n",
    "    file.write(f\"Absolute Error (lag): {absolute_error_lag}\\n\")\n",
    "    file.write(f\"Relative Error (lag): {relative_error_lag}\\n\")\n",
    "    file.write(f\"Absolute Error (a): {absolute_error_a}\\n\")\n",
    "    file.write(f\"Relative Error (a): {relative_error_a}\\n\")\n",
    "    file.write(f\"Absolute Error (b): {absolute_error_b}\\n\")\n",
    "    file.write(f\"Relative Error (b): {relative_error_b}\\n\")\n",
    "\n",
    "# Uncomment the line below to confirm that the results have been successfully saved\n",
    "# print(f\"Results have been saved to {output_file}\")\n"
   ]
  }
 ],
 "metadata": {
  "kernelspec": {
   "display_name": "Python 3",
   "language": "python",
   "name": "py35-paddle1.2.0"
  },
  "language_info": {
   "codemirror_mode": {
    "name": "ipython",
    "version": 3
   },
   "file_extension": ".py",
   "mimetype": "text/x-python",
   "name": "python",
   "nbconvert_exporter": "python",
   "pygments_lexer": "ipython3",
   "version": "3.10.10"
  }
 },
 "nbformat": 4,
 "nbformat_minor": 5
}
