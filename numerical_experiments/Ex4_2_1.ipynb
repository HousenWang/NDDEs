{
 "cells": [
  {
   "cell_type": "markdown",
   "id": "71733e7a-68c7-4c36-856f-6bf53574b809",
   "metadata": {},
   "source": [
    "## Importing required libraries"
   ]
  },
  {
   "cell_type": "code",
   "execution_count": 127,
   "id": "7c09f2af-2600-404c-8fdb-d5d4f0adcdf4",
   "metadata": {
    "execution": {
     "iopub.execute_input": "2025-05-15T09:38:21.135174Z",
     "iopub.status.busy": "2025-05-15T09:38:21.134760Z",
     "iopub.status.idle": "2025-05-15T09:38:21.140663Z",
     "shell.execute_reply": "2025-05-15T09:38:21.140024Z",
     "shell.execute_reply.started": "2025-05-15T09:38:21.135144Z"
    },
    "scrolled": true,
    "tags": []
   },
   "outputs": [],
   "source": [
    "import sys\n",
    "sys.path.append('/home/aistudio/external-libraries')\n",
    "\n",
    "import jax\n",
    "import jax.numpy as jnp\n",
    "import jax.random as random\n",
    "\n",
    "import time\n",
    "import math\n",
    "import numpy as np\n",
    "import pandas as pd\n",
    "\n",
    "import optax\n",
    "import jaxopt\n",
    "import matplotlib.pyplot as plt\n",
    "from matplotlib import font_manager\n",
    "import matplotlib.gridspec as gridspec\n",
    "from typing import Tuple\n",
    "\n",
    "import scipy.io\n",
    "from scipy.stats import qmc\n",
    "from scipy.special import factorial\n",
    "jax.config.update(\"jax_enable_x64\", True)\n",
    "\n",
    "font_path = '/home/aistudio/Times_New_Roman.ttf'\n",
    "prop = font_manager.FontProperties(fname=font_path)"
   ]
  },
  {
   "cell_type": "markdown",
   "id": "358dd82c-4570-4805-8902-bec646de7b4a",
   "metadata": {},
   "source": [
    "## Config for solving DDE"
   ]
  },
  {
   "cell_type": "code",
   "execution_count": 128,
   "id": "7818d1d3-95e3-4700-8f2d-9c9c25b200a8",
   "metadata": {
    "execution": {
     "iopub.execute_input": "2025-05-15T09:38:21.141865Z",
     "iopub.status.busy": "2025-05-15T09:38:21.141618Z",
     "iopub.status.idle": "2025-05-15T09:38:21.145693Z",
     "shell.execute_reply": "2025-05-15T09:38:21.145188Z",
     "shell.execute_reply.started": "2025-05-15T09:38:21.141845Z"
    },
    "scrolled": true,
    "tags": []
   },
   "outputs": [],
   "source": [
    "# config = {\n",
    "#     \"real_lag\": 0.5,\n",
    "#     \"init_lag\": 0.,\n",
    "#     \"noise_level\": 0.1,\n",
    "#     \"tmin\": 0.,\n",
    "#     \"tmax\": 10.,\n",
    "#     \"conds\": [0., 1.],\n",
    "#     \"initial_key\": 0,\n",
    "#     \"netLayers\": [1, 20, 40, 20, 1],\n",
    "#     \"record_info\": True,\n",
    "#     \"gap\": 100,\n",
    "#     \"N_f\": 5000,\n",
    "#     \"step_epochs\": [2000, 3000],\n",
    "#     \"initial_lr\" : 1e-3,\n",
    "#     \"cosine_decay_steps\": 1000,\n",
    "#     \"cosine_alpha\": 0.01,\n",
    "#     \"given_data_root_path\": \"/home/aistudio/DDE_2rd_revision/data/ex4.2.1\",\n",
    "#     \"result_save_path\": \"/home/aistudio/DDE_2rd_revision/result/ex4.2.1\"\n",
    "# }"
   ]
  },
  {
   "cell_type": "code",
   "execution_count": null,
   "id": "dc7d7059-6682-4931-89da-89aff3b2bd3c",
   "metadata": {
    "scrolled": true
   },
   "outputs": [],
   "source": [
    "# Retrieve the variable 'config' from IPython's storage space\n",
    "%store -r config"
   ]
  },
  {
   "cell_type": "markdown",
   "id": "724b2d0a-aff7-4a54-9a35-2e2b1f0f685b",
   "metadata": {},
   "source": [
    "## Defining the Delay Differential Equation\n",
    "Let $ y'(t) = -y(t-\\tau) $, for $ t \\leq 0 $, where $ y(t) = 1 $."
   ]
  },
  {
   "cell_type": "code",
   "execution_count": 129,
   "id": "1e287f32-2af2-4945-a7fe-8de8473ffd8e",
   "metadata": {
    "execution": {
     "iopub.execute_input": "2025-05-15T09:38:21.146620Z",
     "iopub.status.busy": "2025-05-15T09:38:21.146263Z",
     "iopub.status.idle": "2025-05-15T09:38:21.150451Z",
     "shell.execute_reply": "2025-05-15T09:38:21.149958Z",
     "shell.execute_reply.started": "2025-05-15T09:38:21.146601Z"
    },
    "scrolled": true,
    "tags": []
   },
   "outputs": [],
   "source": [
    "# Define the differential equation\n",
    "def DDE(t, u, lag):\n",
    "    # Define u'(t)\n",
    "    u_t = lambda t: jax.grad(lambda t: jnp.sum(u(t)))(t)\n",
    "\n",
    "    # Define the right-hand side of the DDE\n",
    "    rhs = -jnp.where(t > lag, u(t - lag), 1)\n",
    "    return u_t(t) - rhs"
   ]
  },
  {
   "cell_type": "markdown",
   "id": "08fd805a-49c2-46a1-984d-871a6a8308f8",
   "metadata": {},
   "source": [
    "## Construct the DNNs and initialize parameters"
   ]
  },
  {
   "cell_type": "code",
   "execution_count": 130,
   "id": "dc01c2c3-6edc-46c1-a5ed-7fe66796d7ed",
   "metadata": {
    "execution": {
     "iopub.execute_input": "2025-05-15T09:38:21.151243Z",
     "iopub.status.busy": "2025-05-15T09:38:21.151029Z",
     "iopub.status.idle": "2025-05-15T09:38:21.156472Z",
     "shell.execute_reply": "2025-05-15T09:38:21.155939Z",
     "shell.execute_reply.started": "2025-05-15T09:38:21.151225Z"
    },
    "scrolled": true,
    "tags": []
   },
   "outputs": [],
   "source": [
    "# Define the DNNs model\n",
    "def DNNs(params, x):\n",
    "    for w, b in params[:-2]:\n",
    "        x = jnp.dot(x, w) + b\n",
    "        x = jnp.tanh(x)\n",
    "\n",
    "    w, b = params[-2]\n",
    "    x = jnp.dot(x, w) + b\n",
    "    return x\n",
    "\n",
    "# Xavier initialization for the layer parameters\n",
    "def random_layer_params_xavier(m, n, key):\n",
    "    xavier_stddev = jnp.sqrt(2.0 / (m + n))\n",
    "\n",
    "    w_key, b_key = jax.random.split(key)\n",
    "\n",
    "    weights = xavier_stddev * jax.random.truncated_normal(\n",
    "        w_key, lower=-2.0, upper=2.0, shape=(m, n)\n",
    "    )\n",
    "    biases = jnp.zeros((n,))\n",
    "\n",
    "    return weights, biases\n",
    "\n",
    "# Initialize parameters for all layers in a fully-connected neural network with the specified sizes\n",
    "def init_network_params(sizes, key):\n",
    "    keys = jax.random.split(key, len(sizes))\n",
    "    return [random_layer_params_xavier(m, n, k) for m, n, k in zip(sizes[:-1], sizes[1:], keys)]"
   ]
  },
  {
   "cell_type": "markdown",
   "id": "267af29b-4991-4e5a-9e85-2aeb03831ef5",
   "metadata": {},
   "source": [
    "## Define the loss function"
   ]
  },
  {
   "cell_type": "code",
   "execution_count": 131,
   "id": "89bd118f-9faf-42db-a88d-0393187e63a5",
   "metadata": {
    "execution": {
     "iopub.execute_input": "2025-05-15T09:38:21.158105Z",
     "iopub.status.busy": "2025-05-15T09:38:21.157742Z",
     "iopub.status.idle": "2025-05-15T09:38:21.168048Z",
     "shell.execute_reply": "2025-05-15T09:38:21.167560Z",
     "shell.execute_reply.started": "2025-05-15T09:38:21.158085Z"
    },
    "scrolled": true,
    "tags": []
   },
   "outputs": [],
   "source": [
    "@jax.jit\n",
    "def loss_fun1(params, inPoints, conds, init_data):\n",
    "    lag = params[-1]\n",
    "    t_c = inPoints[:, [0]]\n",
    "    ufunc = lambda t: DNNs(params, t)\n",
    "\n",
    "    # Compute the loss from the differential equation\n",
    "    loss_f = jnp.mean(DDE(t_c, ufunc, lag)**2)\n",
    "\n",
    "    # Compute the loss from the initial conditions\n",
    "    t_0, u_0 = conds[:, [0]], conds[:, [1]]\n",
    "    loss_init = jnp.mean((ufunc(t_0) - u_0)**2)\n",
    "\n",
    "    # Compute the loss from the gaven data\n",
    "    t_g, u_g = init_data[:,0].reshape(-1,1), init_data[:,1].reshape(-1,1)\n",
    "    loss_g = jnp.mean((u_g - ufunc(t_g))**2)\n",
    "\n",
    "    # Compute the sum of loss from all components\n",
    "    loss_sum = loss_f + loss_g + loss_init\n",
    "\n",
    "    # Gather all loss terms\n",
    "    all_losses = jnp.array([loss_f, loss_g, loss_init])\n",
    "    total_loss = jnp.sum(all_losses)\n",
    "\n",
    "    # Dynamic weights\n",
    "    weights = all_losses / total_loss\n",
    "\n",
    "    # Weighted total loss\n",
    "    loss_weighted = jnp.sum(all_losses * weights)\n",
    "\n",
    "    return loss_weighted, all_losses\n",
    "\n",
    "\n",
    "@jax.jit\n",
    "def loss_fun2(params, inPoints, conds, init_data, initial_weights):\n",
    "    lag = params[-1]\n",
    "    t_c = inPoints[:, [0]]\n",
    "    ufunc = lambda t: DNNs(params, t)\n",
    "\n",
    "    # Compute the loss from the differential equation\n",
    "    loss_f = jnp.mean(DDE(t_c, ufunc, lag)**2)\n",
    "\n",
    "    # Compute the loss from the initial conditions\n",
    "    t_0, u_0 = conds[:, [0]], conds[:, [1]]\n",
    "    loss_init = jnp.mean((ufunc(t_0) - u_0)**2)\n",
    "\n",
    "    # Compute the loss from the gaven data\n",
    "    t_g, u_g = init_data[:,0].reshape(-1,1), init_data[:,1].reshape(-1,1)\n",
    "    loss_g = jnp.mean((u_g - ufunc(t_g))**2)\n",
    "\n",
    "    # Gather all loss terms\n",
    "    all_losses = jnp.array([loss_f, loss_g, loss_init])\n",
    "\n",
    "    # Weighted total loss\n",
    "    loss_weighted = jnp.sum(all_losses * initial_weights)\n",
    "\n",
    "    return loss_weighted, all_losses"
   ]
  },
  {
   "cell_type": "markdown",
   "id": "11aa6c1c-3e51-448c-bcad-8af6c66a617d",
   "metadata": {},
   "source": [
    "## Two-step neural network training"
   ]
  },
  {
   "cell_type": "code",
   "execution_count": 132,
   "id": "359daebb-e2a0-4cf4-aca7-a9fd3888d142",
   "metadata": {
    "execution": {
     "iopub.execute_input": "2025-05-15T09:38:21.169085Z",
     "iopub.status.busy": "2025-05-15T09:38:21.168723Z",
     "iopub.status.idle": "2025-05-15T09:38:21.179973Z",
     "shell.execute_reply": "2025-05-15T09:38:21.179472Z",
     "shell.execute_reply.started": "2025-05-15T09:38:21.169066Z"
    },
    "scrolled": true,
    "tags": []
   },
   "outputs": [],
   "source": [
    "# First Step：Adam Optimizer\n",
    "def train_adam(params, inPoints, conds, init_data, record_info, num_epochs, start_epoch=0, log_interval=100, print_interval=1000):\n",
    "    phase_epochs = []\n",
    "    phase_losses = []\n",
    "    phase_loss_terms = []\n",
    "    phase_lag = []\n",
    "\n",
    "    scheduler = optax.cosine_decay_schedule(\n",
    "        init_value=config['initial_lr'],\n",
    "        decay_steps=config['cosine_decay_steps'],\n",
    "        alpha=config['cosine_alpha']\n",
    "    )\n",
    "    optimizer = optax.adam(learning_rate=scheduler)\n",
    "    opt_state = optimizer.init(params)\n",
    "\n",
    "    @jax.jit\n",
    "    def update_adam(params, inPoints, conds, init_data, opt_state):\n",
    "        (loss, all_losses), grads = jax.value_and_grad(loss_fun1, has_aux=True)(\n",
    "            params, inPoints, conds, init_data\n",
    "        )\n",
    "        updates, opt_state = optimizer.update(grads, opt_state, params)\n",
    "        params = optax.apply_updates(params, updates)\n",
    "        return params, opt_state, (loss, all_losses)\n",
    "\n",
    "    if record_info:\n",
    "        for epoch in range(num_epochs):\n",
    "            params, opt_state, (loss, all_losses) = update_adam(\n",
    "                params, inPoints, conds, init_data, opt_state\n",
    "            )\n",
    "            current_epoch = start_epoch + epoch\n",
    "\n",
    "            if record_info and current_epoch % log_interval == 0:\n",
    "                phase_epochs.append(current_epoch)\n",
    "                phase_losses.append(loss)\n",
    "                phase_loss_terms.append(all_losses)\n",
    "                phase_lag.append(params[-1])\n",
    "\n",
    "            if record_info and current_epoch % print_interval == 0:\n",
    "                print(f\"Epoch {current_epoch}, Total Loss: {loss:.3e}\")\n",
    "        \n",
    "        return params, phase_epochs, phase_losses, phase_loss_terms, phase_lag, all_losses\n",
    "    else:\n",
    "        now_epoch = 0\n",
    "        while now_epoch < num_epochs:\n",
    "            params, opt_state, (loss, all_losses) = update_adam(\n",
    "                params, inPoints, conds, init_data, opt_state\n",
    "            )\n",
    "            now_epoch += 1\n",
    "        return params, None, None, None, None, all_losses\n",
    "\n",
    "\n",
    "# Second Step：L-BFGS Optimizer\n",
    "def train_lbfgs(params, inPoints, conds, init_data, initial_weights,\n",
    "                record_info, num_epochs=10000, gap=100, start_epoch=0):\n",
    "\n",
    "    phase_epochs = []\n",
    "    phase_losses = []\n",
    "    phase_loss_terms = []\n",
    "    phase_lag = []\n",
    "\n",
    "    current_params = params\n",
    "\n",
    "    if record_info:\n",
    "        solver = jaxopt.BFGS(\n",
    "            fun=loss_fun2,\n",
    "            tol=1e-16,\n",
    "            maxiter=gap,\n",
    "            has_aux=True,\n",
    "            verbose=False\n",
    "        )\n",
    "\n",
    "        for epoch in range(start_epoch, start_epoch + num_epochs + 1, gap):\n",
    "            sol = solver.run(current_params, inPoints, conds, init_data, initial_weights)\n",
    "            current_params = sol.params\n",
    "            loss, all_losses = sol.state.value, sol.state.aux\n",
    "\n",
    "            phase_losses.append(loss)\n",
    "            phase_loss_terms.append(all_losses)\n",
    "            phase_epochs.append(epoch + gap)\n",
    "            phase_lag.append(current_params[-1])\n",
    "\n",
    "            # print(f\"Epoch {epoch+gap}, Total Loss: {loss:.3e}\")\n",
    "            print(f\"Epoch {epoch+gap}, Total Loss: {loss:.3e}, Lag: {phase_lag[-1]}\")\n",
    "\n",
    "        return current_params, phase_epochs, phase_losses, phase_loss_terms, phase_lag, all_losses\n",
    "\n",
    "    else:\n",
    "        solver = jaxopt.BFGS(\n",
    "            fun=loss_fun2,\n",
    "            tol=1e-16,\n",
    "            maxiter=num_epochs,\n",
    "            has_aux=True,\n",
    "            verbose=False\n",
    "        )\n",
    "        sol = solver.run(current_params, inPoints, conds, init_data, initial_weights)\n",
    "        current_params = sol.params\n",
    "        return current_params, None, None, None, None, sol.state.aux\n",
    "\n",
    "def get_fixed_weights(loss_jnp):\n",
    "    losses = jax.lax.stop_gradient(loss_jnp)\n",
    "    return losses / jnp.sum(losses)"
   ]
  },
  {
   "cell_type": "markdown",
   "id": "e29047f1-9d6d-4eb9-9b3a-3048cd81fd25",
   "metadata": {},
   "source": [
    "## Boundary Condition Initialization and Random Sampling Strategy for Solving DDE"
   ]
  },
  {
   "cell_type": "code",
   "execution_count": 133,
   "id": "ca92374e-f27a-4ffb-a8b5-44e838892726",
   "metadata": {
    "execution": {
     "iopub.execute_input": "2025-05-15T09:38:21.180805Z",
     "iopub.status.busy": "2025-05-15T09:38:21.180568Z",
     "iopub.status.idle": "2025-05-15T09:38:21.201569Z",
     "shell.execute_reply": "2025-05-15T09:38:21.200965Z",
     "shell.execute_reply.started": "2025-05-15T09:38:21.180786Z"
    },
    "scrolled": true,
    "tags": []
   },
   "outputs": [],
   "source": [
    "lag = config[\"real_lag\"]\n",
    "\n",
    "# conds represents the initial condition y(0) = 1\n",
    "conds = jnp.array(config['conds']).reshape(1,-1)\n",
    "\n",
    "# Initial key for random number generator\n",
    "ik = config['initial_key']\n",
    "\n",
    "# Number of internal random points\n",
    "N_f = config['N_f']\n",
    "\n",
    "# Range for sampling points\n",
    "tmin, tmax = config['tmin'], config['tmax']\n",
    "\n",
    "# Generate random points within the specified range\n",
    "jaxKey = jax.random.PRNGKey(ik)\n",
    "\n",
    "sampler = qmc.LatinHypercube(d=1)\n",
    "\n",
    "sample = sampler.random(n=N_f)\n",
    "Inn_T = qmc.scale(sample, tmin, tmax)\n",
    "inPoints = jnp.array(Inn_T)\n",
    "\n",
    "# Load the dataset with the given real lag value\n",
    "given_data_path = os.path.join(config['given_data_root_path'], f\"DDE23_ex4.2.1_tau_{lag}.csv\")\n",
    "given_data = pd.read_csv(given_data_path)\n",
    "\n",
    "t_g_data = jnp.array(given_data.iloc[:, [0]].to_numpy())\n",
    "y_g_data = jnp.array(given_data.iloc[:, [1]].to_numpy())\n",
    "\n",
    "noise = config[\"noise_level\"] * jax.random.normal(jaxKey, shape=t_g_data.shape)\n",
    "y_g_noise_data = y_g_data*(1+noise)\n",
    "\n",
    "# Extract given data points from the dataset and convert to JAX-compatible numpy array\n",
    "init_data = jnp.column_stack((t_g_data, y_g_noise_data))\n",
    "\n",
    "# Network architecture\n",
    "netLayers = config['netLayers']\n",
    "\n",
    "# Initialize network parameters\n",
    "params = init_network_params(netLayers, jaxKey)\n",
    "\n",
    "# Append the parameter for the inverse problem (time delay 'lag') to the network parameters\n",
    "lag_params = jnp.array(config['init_lag'], dtype=jnp.float64)\n",
    "params.append(lag_params)"
   ]
  },
  {
   "cell_type": "markdown",
   "id": "bf4eaa5b-e4ca-4cea-844f-da64c95bcd56",
   "metadata": {},
   "source": [
    "## Training"
   ]
  },
  {
   "cell_type": "code",
   "execution_count": 134,
   "id": "3c4c8c83-7a76-41d7-af24-374cf1c99160",
   "metadata": {
    "execution": {
     "iopub.execute_input": "2025-05-15T09:38:21.202477Z",
     "iopub.status.busy": "2025-05-15T09:38:21.202211Z",
     "iopub.status.idle": "2025-05-15T09:48:09.657398Z",
     "shell.execute_reply": "2025-05-15T09:48:09.656072Z",
     "shell.execute_reply.started": "2025-05-15T09:38:21.202456Z"
    },
    "scrolled": true,
    "tags": []
   },
   "outputs": [
    {
     "name": "stdout",
     "output_type": "stream",
     "text": [
      "Epoch 0, Total Loss: 7.792e-01\r\n",
      "Epoch 1000, Total Loss: 2.855e-04\r\n",
      "Epoch 2025, Total Loss: 8.548e-05, Lag: 0.45271690950469573\r\n",
      "Epoch 2050, Total Loss: 5.072e-05, Lag: 0.47480416894393385\r\n",
      "Epoch 2075, Total Loss: 3.929e-05, Lag: 0.47966945285146756\r\n",
      "Epoch 2100, Total Loss: 3.412e-05, Lag: 0.48436335482170034\r\n",
      "Epoch 2125, Total Loss: 3.201e-05, Lag: 0.4865046481810931\r\n",
      "Epoch 2150, Total Loss: 3.045e-05, Lag: 0.4837017070973981\r\n",
      "Epoch 2175, Total Loss: 2.890e-05, Lag: 0.488041371528917\r\n",
      "Epoch 2200, Total Loss: 2.744e-05, Lag: 0.487032394722046\r\n",
      "Epoch 2225, Total Loss: 2.638e-05, Lag: 0.4882870273083457\r\n",
      "Epoch 2250, Total Loss: 2.542e-05, Lag: 0.48549194934990475\r\n",
      "Epoch 2275, Total Loss: 2.453e-05, Lag: 0.4893238756481816\r\n",
      "Epoch 2300, Total Loss: 2.288e-05, Lag: 0.48426051795367425\r\n",
      "Epoch 2325, Total Loss: 2.133e-05, Lag: 0.49118315944341084\r\n",
      "Epoch 2350, Total Loss: 2.073e-05, Lag: 0.4918601245473147\r\n",
      "Epoch 2375, Total Loss: 2.019e-05, Lag: 0.4919976235034538\r\n",
      "Epoch 2400, Total Loss: 1.975e-05, Lag: 0.4925471345381356\r\n",
      "Epoch 2425, Total Loss: 1.936e-05, Lag: 0.49203977415372946\r\n",
      "Epoch 2450, Total Loss: 1.852e-05, Lag: 0.490726961073252\r\n",
      "Epoch 2475, Total Loss: 1.782e-05, Lag: 0.49316350903572037\r\n",
      "Epoch 2500, Total Loss: 1.664e-05, Lag: 0.4900242081590588\r\n",
      "Epoch 2525, Total Loss: 1.544e-05, Lag: 0.4948148642033297\r\n",
      "Epoch 2550, Total Loss: 1.436e-05, Lag: 0.4918831609226685\r\n",
      "Epoch 2575, Total Loss: 1.341e-05, Lag: 0.49626529705990996\r\n",
      "Epoch 2600, Total Loss: 1.283e-05, Lag: 0.4924914693074893\r\n",
      "Epoch 2625, Total Loss: 1.252e-05, Lag: 0.4954926993952292\r\n",
      "Epoch 2650, Total Loss: 1.241e-05, Lag: 0.49554103573798364\r\n",
      "Epoch 2675, Total Loss: 1.232e-05, Lag: 0.4964614056451858\r\n",
      "Epoch 2700, Total Loss: 1.219e-05, Lag: 0.49603735128546766\r\n",
      "Epoch 2725, Total Loss: 1.209e-05, Lag: 0.49673105723654526\r\n",
      "Epoch 2750, Total Loss: 1.199e-05, Lag: 0.4957469641263401\r\n",
      "Epoch 2775, Total Loss: 1.176e-05, Lag: 0.4980091423974096\r\n",
      "Epoch 2800, Total Loss: 1.159e-05, Lag: 0.4965102542953053\r\n",
      "Epoch 2825, Total Loss: 1.138e-05, Lag: 0.4988281380840387\r\n",
      "Epoch 2850, Total Loss: 1.120e-05, Lag: 0.4962790675008747\r\n",
      "Epoch 2875, Total Loss: 1.113e-05, Lag: 0.497422062415336\r\n",
      "Epoch 2900, Total Loss: 1.107e-05, Lag: 0.49624589339303693\r\n",
      "Epoch 2925, Total Loss: 1.089e-05, Lag: 0.4959868502905327\r\n",
      "Epoch 2950, Total Loss: 1.074e-05, Lag: 0.49724542063893445\r\n",
      "Epoch 2975, Total Loss: 1.070e-05, Lag: 0.49653182550683234\r\n",
      "Epoch 3000, Total Loss: 1.066e-05, Lag: 0.4974056252757118\r\n",
      "Epoch 3025, Total Loss: 1.060e-05, Lag: 0.4973523673947528\r\n",
      "Epoch 3050, Total Loss: 9.761e-06, Lag: 0.49611828343422365\r\n",
      "Epoch 3075, Total Loss: 9.700e-06, Lag: 0.4978800869313774\r\n",
      "Epoch 3100, Total Loss: 9.631e-06, Lag: 0.4961234762505464\r\n",
      "Epoch 3125, Total Loss: 9.581e-06, Lag: 0.49730692684446\r\n",
      "Epoch 3150, Total Loss: 9.399e-06, Lag: 0.4968044454599208\r\n",
      "Epoch 3175, Total Loss: 9.228e-06, Lag: 0.4978060321631303\r\n",
      "Epoch 3200, Total Loss: 9.183e-06, Lag: 0.4971360088476974\r\n",
      "Epoch 3225, Total Loss: 9.138e-06, Lag: 0.49820286085643706\r\n",
      "Epoch 3250, Total Loss: 9.088e-06, Lag: 0.4967249462580022\r\n",
      "Epoch 3275, Total Loss: 9.026e-06, Lag: 0.49718764085237305\r\n",
      "Epoch 3300, Total Loss: 8.731e-06, Lag: 0.49421500633009613\r\n",
      "Epoch 3325, Total Loss: 8.346e-06, Lag: 0.4975747973302549\r\n",
      "Epoch 3350, Total Loss: 8.086e-06, Lag: 0.5002647341018807\r\n",
      "Epoch 3375, Total Loss: 7.779e-06, Lag: 0.49761645297214735\r\n",
      "Epoch 3400, Total Loss: 6.883e-06, Lag: 0.5006317737952616\r\n",
      "Epoch 3425, Total Loss: 6.676e-06, Lag: 0.4981384903427739\r\n",
      "Epoch 3450, Total Loss: 6.408e-06, Lag: 0.4967311601647257\r\n",
      "Epoch 3475, Total Loss: 6.225e-06, Lag: 0.49918273862637086\r\n",
      "Epoch 3500, Total Loss: 6.145e-06, Lag: 0.49752178668009966\r\n",
      "Epoch 3525, Total Loss: 6.064e-06, Lag: 0.49822552760522776\r\n",
      "Epoch 3550, Total Loss: 5.861e-06, Lag: 0.4983346940324705\r\n",
      "Epoch 3575, Total Loss: 5.681e-06, Lag: 0.49916982887971884\r\n",
      "Epoch 3600, Total Loss: 5.431e-06, Lag: 0.500130204487609\r\n",
      "Epoch 3625, Total Loss: 5.260e-06, Lag: 0.49992276301340755\r\n",
      "Epoch 3650, Total Loss: 5.130e-06, Lag: 0.49867676055122157\r\n",
      "Epoch 3675, Total Loss: 5.011e-06, Lag: 0.5003071443861932\r\n",
      "Epoch 3700, Total Loss: 4.958e-06, Lag: 0.49899312178030275\r\n",
      "Epoch 3725, Total Loss: 4.720e-06, Lag: 0.5005160034803148\r\n",
      "Epoch 3750, Total Loss: 4.530e-06, Lag: 0.4994651935191457\r\n",
      "Epoch 3775, Total Loss: 4.411e-06, Lag: 0.49933208519423206\r\n",
      "Epoch 3800, Total Loss: 4.338e-06, Lag: 0.5011603368766623\r\n",
      "Epoch 3825, Total Loss: 4.283e-06, Lag: 0.4997415856056003\r\n",
      "Epoch 3850, Total Loss: 4.236e-06, Lag: 0.5014902067803038\r\n",
      "Epoch 3875, Total Loss: 4.162e-06, Lag: 0.5011970498054021\r\n",
      "Epoch 3900, Total Loss: 4.096e-06, Lag: 0.5014048806656116\r\n",
      "Epoch 3925, Total Loss: 3.915e-06, Lag: 0.5017491338959096\r\n",
      "Epoch 3950, Total Loss: 3.789e-06, Lag: 0.5022239547804328\r\n",
      "Epoch 3975, Total Loss: 3.752e-06, Lag: 0.5008631729301678\r\n",
      "Epoch 4000, Total Loss: 3.713e-06, Lag: 0.5022053383357914\r\n",
      "Epoch 4025, Total Loss: 3.687e-06, Lag: 0.5012111381624914\r\n"
     ]
    }
   ],
   "source": [
    "epoch_history = []\n",
    "loss_history = []\n",
    "loss_items_hostory = []\n",
    "lag_history = []\n",
    "\n",
    "adam_epochs = config[\"step_epochs\"][0]\n",
    "lbfgs_epochs = config[\"step_epochs\"][1]\n",
    "stage1_epochs = adam_epochs + lbfgs_epochs\n",
    "\n",
    "record_info = config['record_info']\n",
    "gap = config['gap']\n",
    "\n",
    "start_time_nn = time.time()\n",
    "\n",
    "# 第一阶段adam训练\n",
    "params, hist1_epoch, hist1_loss, hist1_loss_items, hist1_lag, loss_components = train_adam(params, inPoints, conds, init_data, record_info, adam_epochs, start_epoch=0, log_interval=50, print_interval=1000)\n",
    "\n",
    "initial_weights = get_fixed_weights(loss_components)\n",
    "\n",
    "# 第二阶段lbfgs训练\n",
    "params, hist2_epoch, hist2_loss, hist2_loss_items, hist2_lag, _ = train_lbfgs(params, inPoints, conds, init_data, initial_weights, record_info, num_epochs=lbfgs_epochs, gap=gap, start_epoch=adam_epochs)\n",
    "\n",
    "end_time_nn = time.time()\n",
    "time_nn = end_time_nn - start_time_nn\n",
    "\n",
    "# 合并训练记录\n",
    "if record_info:\n",
    "    epoch_history.extend(hist1_epoch + hist2_epoch)\n",
    "    loss_history.extend(hist1_loss + hist2_loss)\n",
    "    loss_items_hostory.extend(hist1_loss_items + hist2_loss_items)\n",
    "    loss_items_history_array = jnp.stack(loss_items_hostory)\n",
    "    lag_history.extend(hist1_lag + hist2_lag)\n"
   ]
  },
  {
   "cell_type": "markdown",
   "id": "424d542f-c599-41b7-916f-7268231a94a3",
   "metadata": {},
   "source": [
    "## Result visualization"
   ]
  },
  {
   "cell_type": "code",
   "execution_count": 140,
   "id": "5266a53e-52aa-4f46-babd-8d17feb8d22f",
   "metadata": {
    "execution": {
     "iopub.execute_input": "2025-05-15T09:54:40.128391Z",
     "iopub.status.busy": "2025-05-15T09:54:40.127951Z",
     "iopub.status.idle": "2025-05-15T09:54:40.132061Z",
     "shell.execute_reply": "2025-05-15T09:54:40.131418Z",
     "shell.execute_reply.started": "2025-05-15T09:54:40.128365Z"
    },
    "scrolled": true,
    "tags": []
   },
   "outputs": [],
   "source": [
    "# save path\n",
    "result_save_root_path = os.path.join(config['result_save_path'],f\"tau_{config['real_lag']}\")\n",
    "os.makedirs(result_save_root_path, exist_ok=True)"
   ]
  },
  {
   "cell_type": "markdown",
   "id": "926b724b-8ff3-42a5-be62-7c5a8c755e03",
   "metadata": {},
   "source": [
    "### Calculating Error"
   ]
  },
  {
   "cell_type": "code",
   "execution_count": 143,
   "id": "cb35b89d-f4ec-4be1-8305-205ae8380655",
   "metadata": {
    "execution": {
     "iopub.execute_input": "2025-05-15T09:55:29.625273Z",
     "iopub.status.busy": "2025-05-15T09:55:29.624860Z",
     "iopub.status.idle": "2025-05-15T09:55:29.633331Z",
     "shell.execute_reply": "2025-05-15T09:55:29.632524Z",
     "shell.execute_reply.started": "2025-05-15T09:55:29.625245Z"
    },
    "scrolled": true,
    "tags": []
   },
   "outputs": [
    {
     "name": "stdout",
     "output_type": "stream",
     "text": [
      "Absolute Error (lag): 0.0012111381624914097\r\n",
      "Relative Error (lag): 0.0024222763249828194\r\n",
      "0.5012111381624914\r\n"
     ]
    }
   ],
   "source": [
    "# Calculate the absolute and relative errors for lag\n",
    "# absolute_error_lag = abs(jnp.exp(params[-1]) - config['real_lag'])\n",
    "absolute_error_lag = abs(params[-1] - config['real_lag'])\n",
    "relative_error_lag = absolute_error_lag / config['real_lag']\n",
    "\n",
    "# Print the calculated values for verification\n",
    "print(f\"Absolute Error (lag): {absolute_error_lag}\")\n",
    "print(f\"Relative Error (lag): {relative_error_lag}\")\n",
    "\n",
    "print(params[-1])\n",
    "\n",
    "# Save the results to a text file for documentation purposes\n",
    "output_file = os.path.join(result_save_root_path, f\"Result_ex4.2.1_tau_{lag}_noise_level_{config['noise_level']}.txt\")\n",
    "with open(output_file, \"w\") as file:\n",
    "    file.write(f\"Real Lag: {config['real_lag']}\\n\")\n",
    "    file.write(f\"Noise Level: {config['noise_level']}\\n\")\n",
    "    file.write(f\"Predict Lag: {params[-1]}\\n\")\n",
    "    file.write(f\"Absolute Error (lag): {absolute_error_lag}\\n\")\n",
    "    file.write(f\"Relative Error (lag): {relative_error_lag}\\n\")\n",
    "\n",
    "# Uncomment the line below to confirm that the results have been successfully saved\n",
    "# print(f\"Results have been saved to {output_file}\")"
   ]
  },
  {
   "cell_type": "markdown",
   "id": "15f5128d-0d3c-4af7-9e8a-50ccf674c242",
   "metadata": {},
   "source": [
    "### Sol"
   ]
  },
  {
   "cell_type": "code",
   "execution_count": 144,
   "id": "8de99392-a80b-4a75-8241-699f820ec040",
   "metadata": {
    "execution": {
     "iopub.execute_input": "2025-05-15T09:55:43.027779Z",
     "iopub.status.busy": "2025-05-15T09:55:43.027371Z",
     "iopub.status.idle": "2025-05-15T09:55:43.737848Z",
     "shell.execute_reply": "2025-05-15T09:55:43.737212Z",
     "shell.execute_reply.started": "2025-05-15T09:55:43.027753Z"
    },
    "scrolled": true,
    "tags": []
   },
   "outputs": [
    {
     "data": {
      "image/png": "[encoded data removed]",
      "text/plain": [
       "<Figure size 629.921x472.441 with 1 Axes>"
      ]
     },
     "metadata": {},
     "output_type": "display_data"
    }
   ],
   "source": [
    "# MATLAB solution\n",
    "dde_solve_path = os.path.join(config['given_data_root_path'], f\"DDE23_ex4.2.1_tau_{lag}.csv\")\n",
    "dde_sol = pd.read_csv(dde_solve_path).to_numpy().reshape(-1, 2)\n",
    "\n",
    "# Extract time points and real values from the data for three different series\n",
    "t_points = dde_sol[:, 0]\n",
    "y_real = dde_sol[:, 1]\n",
    "\n",
    "# Generate a set of 10,000 evenly spaced time points between tmin and tmax\n",
    "T = np.linspace(tmin, tmax, 10000).reshape(-1, 1)\n",
    "\n",
    "# Evaluate the neural network for three sets of parameters to get predictions for each set\n",
    "nn_sol = DNNs(params, T)\n",
    "\n",
    "# Set the figure size to 16 cm wide by 12 cm tall (4:3 aspect ratio)\n",
    "plt.figure(figsize=(16 / 2.54, 12 / 2.54))\n",
    "\n",
    "# Plot real and predicted values for three series using different styles and colors\n",
    "plt.scatter(t_points, y_real, label='Given Data of  $y(t)$', color='blue', marker='x')\n",
    "\n",
    "plt.plot(T, nn_sol, 'k', label='NDDEs Solution: $\\hat{y}(t)$')\n",
    "\n",
    "# Add a legend with font properties\n",
    "plt.legend(prop=prop)\n",
    "\n",
    "# Set labels for the x and y axes with font properties\n",
    "# plt.xlabel('$t$', fontproperties=prop)\n",
    "# plt.ylabel('$y(t)$', fontproperties=prop)\n",
    "\n",
    "# Customize the appearance of the axis tick labels using font properties\n",
    "ax = plt.gca()\n",
    "for label in ax.get_xticklabels() + ax.get_yticklabels():\n",
    "    label.set_fontproperties(prop)\n",
    "\n",
    "# Enable grid lines for major axes with specified style and line width\n",
    "plt.grid(True, which='major', axis='both', linestyle='--', linewidth=0.5)\n",
    "\n",
    "# Optionally save the figure with high resolution\n",
    "save_path = os.path.join(result_save_root_path, f\"Sol_ex4.2.1_tau_{lag}_noise_level_{config['noise_level']}.png\")\n",
    "plt.savefig(save_path, dpi=600, bbox_inches='tight')\n",
    "\n",
    "# Display the plot\n",
    "# plt.show()\n"
   ]
  },
  {
   "cell_type": "markdown",
   "id": "51f6d705-fd8f-42ef-accb-52ca1e9c086b",
   "metadata": {},
   "source": [
    "### Lag"
   ]
  },
  {
   "cell_type": "code",
   "execution_count": 145,
   "id": "ea96941e-3cc3-45c7-b01b-5b1f664116d0",
   "metadata": {
    "execution": {
     "iopub.execute_input": "2025-05-15T09:55:59.586257Z",
     "iopub.status.busy": "2025-05-15T09:55:59.585826Z",
     "iopub.status.idle": "2025-05-15T09:56:00.636192Z",
     "shell.execute_reply": "2025-05-15T09:56:00.635501Z",
     "shell.execute_reply.started": "2025-05-15T09:55:59.586228Z"
    },
    "scrolled": true,
    "tags": []
   },
   "outputs": [
    {
     "data": {
      "image/png": "[encoded data removed]",
      "text/plain": [
       "<Figure size 629.921x472.441 with 1 Axes>"
      ]
     },
     "metadata": {},
     "output_type": "display_data"
    }
   ],
   "source": [
    "# Define a function to compute relative error bounds\n",
    "def relative_error_lines(real_value, error_percentage):\n",
    "    \"\"\" Calculate the lower and upper bounds of real_value considering a percentage error. \"\"\"\n",
    "    lower_bound = real_value * (1 - error_percentage / 100)\n",
    "    upper_bound = real_value * (1 + error_percentage / 100)\n",
    "    return lower_bound, upper_bound, error_percentage\n",
    "\n",
    "lag_history = jnp.stack(lag_history)\n",
    "\n",
    "loss_history_tem = loss_history\n",
    "\n",
    "# Calculate error bounds for the given real_lag with a 3% error margin\n",
    "lower_bound, upper_bound, error_percentage = relative_error_lines(config['real_lag'], 1)\n",
    "\n",
    "# Set the figure size in a 4:3 aspect ratio\n",
    "plt.figure(figsize=(16 / 2.54, 12 / 2.54))\n",
    "\n",
    "# Plot the smoothed loss history\n",
    "plt.plot(lag_history, loss_history_tem, 'k', label='Loss')\n",
    "\n",
    "# Draw vertical lines representing the 3% error range\n",
    "plt.axvline(x=lower_bound, color='red', linestyle='--', linewidth=1, label=f'{error_percentage}% Relative Error Line')\n",
    "plt.axvline(x=upper_bound, color='red', linestyle='--', linewidth=1)\n",
    "\n",
    "# Set the y-axis to logarithmic scale for better visualization of differences\n",
    "plt.yscale('log')\n",
    "\n",
    "# Add labels to the axes\n",
    "# plt.xlabel(f'$\\\\tau$', fontproperties=prop)\n",
    "# plt.ylabel('Loss', fontproperties=prop)\n",
    "\n",
    "# Customize the tick labels using font properties\n",
    "ax = plt.gca()\n",
    "for label in ax.get_xticklabels() + ax.get_yticklabels():\n",
    "    label.set_fontproperties(prop)\n",
    "\n",
    "# Add grid lines, major only, with specific style\n",
    "plt.grid(True, which='major', axis='both', linestyle='--', linewidth=0.5)\n",
    "\n",
    "# Display the legend with custom font properties\n",
    "plt.legend(prop=prop)\n",
    "\n",
    "# Save the figure with high resolution\n",
    "save_path = os.path.join(result_save_root_path, f\"Lag_ex4.2.1_tau_{lag}_noise_level_{config['noise_level']}.png\")\n",
    "plt.savefig(save_path, dpi=600, bbox_inches='tight')\n",
    "\n",
    "# Display the plot\n",
    "# plt.show()"
   ]
  }
 ],
 "metadata": {
  "kernelspec": {
   "display_name": "Python 3",
   "language": "python",
   "name": "py35-paddle1.2.0"
  },
  "language_info": {
   "codemirror_mode": {
    "name": "ipython",
    "version": 3
   },
   "file_extension": ".py",
   "mimetype": "text/x-python",
   "name": "python",
   "nbconvert_exporter": "python",
   "pygments_lexer": "ipython3",
   "version": "3.10.10"
  }
 },
 "nbformat": 4,
 "nbformat_minor": 5
}
