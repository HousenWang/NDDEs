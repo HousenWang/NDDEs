{
 "cells": [
  {
   "cell_type": "markdown",
   "id": "71733e7a-68c7-4c36-856f-6bf53574b809",
   "metadata": {},
   "source": [
    "## Importing required libraries"
   ]
  },
  {
   "cell_type": "code",
   "execution_count": 1,
   "id": "7c09f2af-2600-404c-8fdb-d5d4f0adcdf4",
   "metadata": {
    "execution": {
     "iopub.execute_input": "2025-05-20T16:24:17.237685Z",
     "iopub.status.busy": "2025-05-20T16:24:17.237400Z",
     "iopub.status.idle": "2025-05-20T16:24:19.313679Z",
     "shell.execute_reply": "2025-05-20T16:24:19.313072Z",
     "shell.execute_reply.started": "2025-05-20T16:24:17.237664Z"
    },
    "scrolled": true,
    "tags": []
   },
   "outputs": [],
   "source": [
    "import sys\n",
    "sys.path.append('/home/aistudio/external-libraries')\n",
    "\n",
    "import jax\n",
    "import jax.numpy as jnp\n",
    "import jax.random as random\n",
    "\n",
    "import time\n",
    "import math\n",
    "import numpy as np\n",
    "import pandas as pd\n",
    "\n",
    "import optax\n",
    "import jaxopt\n",
    "import matplotlib.pyplot as plt\n",
    "from matplotlib import font_manager\n",
    "import matplotlib.gridspec as gridspec\n",
    "from typing import Tuple\n",
    "\n",
    "import process_log\n",
    "\n",
    "import scipy.io\n",
    "from scipy.stats import qmc\n",
    "from scipy.special import factorial\n",
    "jax.config.update(\"jax_enable_x64\", True)\n",
    "\n",
    "font_path = '/home/aistudio/Times_New_Roman.ttf'\n",
    "prop = font_manager.FontProperties(fname=font_path)"
   ]
  },
  {
   "cell_type": "markdown",
   "id": "358dd82c-4570-4805-8902-bec646de7b4a",
   "metadata": {},
   "source": [
    "## Config for solving DDE"
   ]
  },
  {
   "cell_type": "code",
   "execution_count": 2,
   "id": "7818d1d3-95e3-4700-8f2d-9c9c25b200a8",
   "metadata": {
    "execution": {
     "iopub.execute_input": "2025-05-20T16:24:19.314824Z",
     "iopub.status.busy": "2025-05-20T16:24:19.314381Z",
     "iopub.status.idle": "2025-05-20T16:24:19.317813Z",
     "shell.execute_reply": "2025-05-20T16:24:19.317328Z",
     "shell.execute_reply.started": "2025-05-20T16:24:19.314802Z"
    },
    "scrolled": true,
    "tags": []
   },
   "outputs": [],
   "source": [
    "# config = {\n",
    "#     \"real_lag\": [0.2, 0.3, 0.4, 0.5],\n",
    "#     \"init_lag\": [0., 0., 0., 0.],\n",
    "#     \"tmin\": 0.,\n",
    "#     \"tmax\": 1.,\n",
    "#     \"initial_key\": 0,\n",
    "#     \"noise_level\": 0.,\n",
    "#     \"conds\": [0., 1., 1., 1.],\n",
    "#     \"netLayers\": [1, 20, 40, 20, 1],\n",
    "#     \"record_info\": True,\n",
    "#     \"N_f\": 5000,\n",
    "#     \"loss_threshold\": 1e-10,\n",
    "#     \"step_epochs\": [20000, 1500],\n",
    "#     \"initial_lr\" : 1e-3,\n",
    "#     \"cosine_decay_steps\": 1000,\n",
    "#     \"cosine_alpha\": 0.01,\n",
    "#     \"given_data_root_path\": \"/home/aistudio/DDE_2rd_revision/data/ex4.4.1\",\n",
    "#     \"result_save_path\": \"/home/aistudio/DDE_2rd_revision/result/ex4.4.1\"\n",
    "# }"
   ]
  },
  {
   "cell_type": "code",
   "execution_count": 3,
   "id": "cc675b21-aa49-4f83-9e7d-cd35989442cb",
   "metadata": {
    "execution": {
     "iopub.execute_input": "2025-05-20T16:24:19.318638Z",
     "iopub.status.busy": "2025-05-20T16:24:19.318396Z",
     "iopub.status.idle": "2025-05-20T16:24:19.323232Z",
     "shell.execute_reply": "2025-05-20T16:24:19.322751Z",
     "shell.execute_reply.started": "2025-05-20T16:24:19.318619Z"
    },
    "scrolled": true
   },
   "outputs": [],
   "source": [
    "# config = {\n",
    "#     \"real_lag\": [0.1, 0.2, 0.3, 0.4],\n",
    "#     \"init_lag\": [0., 0., 0., 0.],\n",
    "#     \"tmin\": 0.,\n",
    "#     \"tmax\": 1.,\n",
    "#     \"initial_key\": 0,\n",
    "#     \"noise_level\": 0.,\n",
    "#     \"conds\": [0., 1., 1., 1.],\n",
    "#     \"netLayers\": [1, 20, 40, 20, 1],\n",
    "#     \"record_info\": True,\n",
    "#     \"N_f\": 5000,\n",
    "#     \"loss_threshold\": 1e-10,\n",
    "#     \"step_epochs\": [20000, 1500],\n",
    "#     \"initial_lr\" : 1e-3,\n",
    "#     \"cosine_decay_steps\": 1000,\n",
    "#     \"cosine_alpha\": 0.01,\n",
    "#     \"given_data_root_path\": \"/home/aistudio/DDE_2rd_revision/data/ex4.4.1\",\n",
    "#     \"result_save_path\": \"/home/aistudio/DDE_2rd_revision/result/ex4.4.1\"\n",
    "# }"
   ]
  },
  {
   "cell_type": "markdown",
   "id": "724b2d0a-aff7-4a54-9a35-2e2b1f0f685b",
   "metadata": {},
   "source": [
    "## Defining the System of Delay Differential Equation\n",
    "\n",
    "Consider the system of delay differential equations with quadruple delays on the solution interval $[0,100]$:\n",
    "\n",
    "\\begin{equation}\n",
    "    \\begin{cases}\n",
    "    \\begin{aligned}\n",
    "    y_1'(t) ={} & y_1(t-0.2)\\\\\n",
    "    y_2'(t) ={} & y_1(t-0.3) \\cdot y_2(t-0.4)\\\\\n",
    "    y_3'(t) ={} & y_2(t-0.5)\n",
    "    \\end{aligned}\n",
    "    \\end{cases}.\n",
    "\\end{equation}\n",
    "\n",
    "\n",
    "The initial conditions are given by\n",
    "\n",
    "\\begin{equation}\n",
    "    y_j(t) = 1,~\\mathrm{for}\\; t \\neq 0,\\; j=1:3.\n",
    "\\end{equation}"
   ]
  },
  {
   "cell_type": "code",
   "execution_count": 5,
   "id": "1e287f32-2af2-4945-a7fe-8de8473ffd8e",
   "metadata": {
    "execution": {
     "iopub.execute_input": "2025-05-20T16:24:19.330324Z",
     "iopub.status.busy": "2025-05-20T16:24:19.329820Z",
     "iopub.status.idle": "2025-05-20T16:24:19.336681Z",
     "shell.execute_reply": "2025-05-20T16:24:19.336189Z",
     "shell.execute_reply.started": "2025-05-20T16:24:19.330293Z"
    },
    "scrolled": true,
    "tags": []
   },
   "outputs": [],
   "source": [
    "def DDEs(t, u, lag):\n",
    "    rhs = [\n",
    "        jnp.where(t > lag[0], u(t - lag[0])[0], 1),\n",
    "        jnp.where(t > lag[1], u(t - lag[1])[0], 1) * jnp.where(t > lag[2], u(t - lag[2])[1], 1),\n",
    "        jnp.where(t > lag[3], u(t - lag[3])[1], 1)\n",
    "    ]\n",
    "    tem_list = []\n",
    "\n",
    "    for i in range(3):\n",
    "        u_t = lambda t: jax.grad(lambda t: jnp.sum(u(t)[i]))(t)\n",
    "        tem_i = u_t(t) - rhs[i]\n",
    "        tem_list.append(tem_i.reshape(-1, 1))\n",
    "\n",
    "    tem = jnp.hstack(tem_list)\n",
    "    \n",
    "    return tem"
   ]
  },
  {
   "cell_type": "markdown",
   "id": "08fd805a-49c2-46a1-984d-871a6a8308f8",
   "metadata": {},
   "source": [
    "## Construct the DNNs and initialize parameters"
   ]
  },
  {
   "cell_type": "code",
   "execution_count": 6,
   "id": "dc01c2c3-6edc-46c1-a5ed-7fe66796d7ed",
   "metadata": {
    "execution": {
     "iopub.execute_input": "2025-05-20T16:24:19.337494Z",
     "iopub.status.busy": "2025-05-20T16:24:19.337260Z",
     "iopub.status.idle": "2025-05-20T16:24:19.342536Z",
     "shell.execute_reply": "2025-05-20T16:24:19.342035Z",
     "shell.execute_reply.started": "2025-05-20T16:24:19.337476Z"
    },
    "scrolled": true,
    "tags": []
   },
   "outputs": [],
   "source": [
    "# Define the DNNs model\n",
    "def DNNs(params, x):\n",
    "    for w, b in params[0:-1]:\n",
    "        x = jnp.dot(x, w) + b\n",
    "        x = jnp.tanh(x)\n",
    "\n",
    "    w, b = params[-1]\n",
    "    x = jnp.dot(x, w) + b\n",
    "    return x\n",
    "\n",
    "# Xavier initialization for the layer parameters\n",
    "def random_layer_params_xavier(m, n, key):\n",
    "    xavier_stddev = jnp.sqrt(2.0 / (m + n))\n",
    "\n",
    "    w_key, b_key = jax.random.split(key)\n",
    "\n",
    "    weights = xavier_stddev * jax.random.truncated_normal(\n",
    "        w_key, lower=-2.0, upper=2.0, shape=(m, n)\n",
    "    )\n",
    "    biases = jnp.zeros((n,))\n",
    "\n",
    "    return weights, biases\n",
    "\n",
    "# Initialize parameters for all layers in a fully-connected neural network with the specified sizes\n",
    "def init_network_params(sizes, key):\n",
    "    keys = jax.random.split(key, len(sizes))\n",
    "    return [random_layer_params_xavier(m, n, k) for m, n, k in zip(sizes[:-1], sizes[1:], keys)]"
   ]
  },
  {
   "cell_type": "markdown",
   "id": "267af29b-4991-4e5a-9e85-2aeb03831ef5",
   "metadata": {},
   "source": [
    "## Define the loss function"
   ]
  },
  {
   "cell_type": "code",
   "execution_count": 7,
   "id": "89bd118f-9faf-42db-a88d-0393187e63a5",
   "metadata": {
    "execution": {
     "iopub.execute_input": "2025-05-20T16:24:19.343428Z",
     "iopub.status.busy": "2025-05-20T16:24:19.343200Z",
     "iopub.status.idle": "2025-05-20T16:24:19.356881Z",
     "shell.execute_reply": "2025-05-20T16:24:19.356375Z",
     "shell.execute_reply.started": "2025-05-20T16:24:19.343410Z"
    },
    "scrolled": true,
    "tags": []
   },
   "outputs": [],
   "source": [
    "@jax.jit\n",
    "def loss_fun1(params, inPoints, conds, init_data):\n",
    "    lag = params[-1]\n",
    "    t_c = inPoints[:, [0]]\n",
    "\n",
    "    ufunc1 = lambda t: DNNs(params[0], t)\n",
    "    ufunc2 = lambda t: DNNs(params[1], t)\n",
    "    ufunc3 = lambda t: DNNs(params[2], t)\n",
    "\n",
    "    def u(t):\n",
    "        return [ufunc1(t), ufunc2(t), ufunc3(t)]\n",
    "\n",
    "    # Differential equation residual losses\n",
    "    res = DDEs(t_c, u, lag)\n",
    "    loss_f1 = jnp.mean((res[:, 0])**2)\n",
    "    loss_f2 = jnp.mean((res[:, 1])**2)\n",
    "    loss_f3 = jnp.mean((res[:, 2])**2)\n",
    "\n",
    "    # Initial condition losses\n",
    "    t_0, u1_0, u2_0, u3_0 = conds[:, [0]], conds[:, [1]], conds[:, [2]], conds[:, [3]]\n",
    "    loss_i1 = jnp.mean((ufunc1(t_0) - u1_0)**2)\n",
    "    loss_i2 = jnp.mean((ufunc2(t_0) - u2_0)**2)\n",
    "    loss_i3 = jnp.mean((ufunc3(t_0) - u3_0)**2)\n",
    "\n",
    "    # Calculate the loss due to known data points\n",
    "    t_1, u_1 = init_data[:,0].reshape(-1,1), init_data[:,1].reshape(-1,1)\n",
    "    loss_g1 = jnp.mean((u_1 - ufunc1(t_1))**2)\n",
    "\n",
    "    t_2, u_2 = init_data[:,2].reshape(-1,1), init_data[:,3].reshape(-1,1)\n",
    "    loss_g2 = jnp.mean((u_2 - ufunc2(t_2))**2)\n",
    "\n",
    "    t_3, u_3 = init_data[:,4].reshape(-1,1), init_data[:,5].reshape(-1,1)\n",
    "    loss_g3 = jnp.mean((u_3 - ufunc3(t_3))**2)\n",
    "\n",
    "    # Compute the sum of loss from all components\n",
    "    loss_sum = loss_f1 + loss_f2 + loss_f3 + loss_i1 + loss_i2 + loss_i3 + loss_g1 + loss_g2 + loss_g3\n",
    "\n",
    "    # Gather all loss terms\n",
    "    all_losses = jnp.array([loss_f1, loss_f2, loss_f3, loss_i1, loss_i2, loss_i3, loss_g1, loss_g2, loss_g3])\n",
    "    total_loss = jnp.sum(all_losses)\n",
    "\n",
    "    # Dynamic weights\n",
    "    weights = all_losses / total_loss\n",
    "\n",
    "    # Weighted total loss\n",
    "    loss_weighted = jnp.sum(all_losses * weights)\n",
    "\n",
    "    return loss_weighted, all_losses\n",
    "\n",
    "\n",
    "@jax.jit\n",
    "def loss_fun2(params, inPoints, conds, init_data, initial_weights):\n",
    "    lag = params[-1]\n",
    "    t_c = inPoints[:, [0]]\n",
    "\n",
    "    ufunc1 = lambda t: DNNs(params[0], t)\n",
    "    ufunc2 = lambda t: DNNs(params[1], t)\n",
    "    ufunc3 = lambda t: DNNs(params[2], t)\n",
    "\n",
    "    def u(t):\n",
    "        return [ufunc1(t), ufunc2(t), ufunc3(t)]\n",
    "\n",
    "    # Differential equation residual losses\n",
    "    res = DDEs(t_c, u, lag)\n",
    "    loss_f1 = jnp.mean((res[:, 0])**2)\n",
    "    loss_f2 = jnp.mean((res[:, 1])**2)\n",
    "    loss_f3 = jnp.mean((res[:, 2])**2)\n",
    "\n",
    "    # Initial condition losses\n",
    "    t_0, u1_0, u2_0, u3_0 = conds[:, [0]], conds[:, [1]], conds[:, [2]], conds[:, [3]]\n",
    "    loss_i1 = jnp.mean((ufunc1(t_0) - u1_0)**2)\n",
    "    loss_i2 = jnp.mean((ufunc2(t_0) - u2_0)**2)\n",
    "    loss_i3 = jnp.mean((ufunc3(t_0) - u3_0)**2)\n",
    "\n",
    "    # Calculate the loss due to known data points\n",
    "    t_1, u_1 = init_data[:,0].reshape(-1,1), init_data[:,1].reshape(-1,1)\n",
    "    loss_g1 = jnp.mean((u_1 - ufunc1(t_1))**2)\n",
    "\n",
    "    t_2, u_2 = init_data[:,2].reshape(-1,1), init_data[:,3].reshape(-1,1)\n",
    "    loss_g2 = jnp.mean((u_2 - ufunc2(t_2))**2)\n",
    "\n",
    "    t_3, u_3 = init_data[:,4].reshape(-1,1), init_data[:,5].reshape(-1,1)\n",
    "    loss_g3 = jnp.mean((u_3 - ufunc3(t_3))**2)\n",
    "\n",
    "    # Gather all loss terms\n",
    "    all_losses = jnp.array([loss_f1, loss_f2, loss_f3, loss_i1, loss_i2, loss_i3, loss_g1, loss_g2, loss_g3])\n",
    "    total_loss = jnp.sum(all_losses)\n",
    "\n",
    "    # Weighted total loss\n",
    "    loss_weighted = jnp.sum(all_losses * initial_weights)\n",
    "\n",
    "    return loss_weighted, all_losses"
   ]
  },
  {
   "cell_type": "markdown",
   "id": "11aa6c1c-3e51-448c-bcad-8af6c66a617d",
   "metadata": {},
   "source": [
    "## Two-step neural network training"
   ]
  },
  {
   "cell_type": "code",
   "execution_count": 8,
   "id": "359daebb-e2a0-4cf4-aca7-a9fd3888d142",
   "metadata": {
    "execution": {
     "iopub.execute_input": "2025-05-20T16:24:19.357769Z",
     "iopub.status.busy": "2025-05-20T16:24:19.357528Z",
     "iopub.status.idle": "2025-05-20T16:24:19.365779Z",
     "shell.execute_reply": "2025-05-20T16:24:19.365292Z",
     "shell.execute_reply.started": "2025-05-20T16:24:19.357751Z"
    },
    "scrolled": true,
    "tags": []
   },
   "outputs": [],
   "source": [
    "# First Step：Adam Optimizer\n",
    "def train_adam(params, inPoints, conds, init_data, record_info, num_epochs, start_epoch=0, log_interval=100, print_interval=1000):\n",
    "    phase_epochs = []\n",
    "    phase_losses = []\n",
    "    phase_loss_terms = []\n",
    "    phase_lag = []\n",
    "\n",
    "    scheduler = optax.cosine_decay_schedule(\n",
    "        init_value=config['initial_lr'],\n",
    "        decay_steps=config['cosine_decay_steps'],\n",
    "        alpha=config['cosine_alpha']\n",
    "    )\n",
    "    optimizer = optax.adam(learning_rate=scheduler)\n",
    "    opt_state = optimizer.init(params)\n",
    "\n",
    "    @jax.jit\n",
    "    def update_adam(params, inPoints, conds, init_data, opt_state):\n",
    "        (loss, all_losses), grads = jax.value_and_grad(loss_fun1, has_aux=True)(\n",
    "            params, inPoints, conds, init_data\n",
    "        )\n",
    "        updates, opt_state = optimizer.update(grads, opt_state, params)\n",
    "        params = optax.apply_updates(params, updates)\n",
    "        return params, opt_state, (loss, all_losses)\n",
    "\n",
    "    if record_info:\n",
    "        for epoch in range(num_epochs):\n",
    "            params, opt_state, (loss, all_losses) = update_adam(\n",
    "                params, inPoints, conds, init_data, opt_state\n",
    "            )\n",
    "            current_epoch = start_epoch + epoch\n",
    "\n",
    "            if record_info and current_epoch % log_interval == 0:\n",
    "                phase_epochs.append(current_epoch)\n",
    "                phase_losses.append(loss)\n",
    "                phase_loss_terms.append(all_losses)\n",
    "                phase_lag.append(params[-1])\n",
    "\n",
    "            if record_info and current_epoch % print_interval == 0:\n",
    "                print(f\"Epoch {current_epoch}, Total Loss: {loss:.3e}\")\n",
    "        \n",
    "        return params, phase_epochs, phase_losses, phase_loss_terms, phase_lag, all_losses\n",
    "    else:\n",
    "        now_epoch = 0\n",
    "        while now_epoch < num_epochs:\n",
    "            params, opt_state, (loss, all_losses) = update_adam(\n",
    "                params, inPoints, conds, init_data, opt_state\n",
    "            )\n",
    "            now_epoch += 1\n",
    "        return params, None, None, None, None, all_losses\n",
    "\n",
    "\n",
    "# Second Step：BFGS Optimizer\n",
    "def train_lbfgs(params, inPoints, conds, init_data, initial_weights,\n",
    "                record_info, num_epochs=10000):\n",
    "    current_params = params\n",
    "\n",
    "    solver = jaxopt.My_BFGS(\n",
    "        fun=loss_fun2,\n",
    "        tol=1e-16,\n",
    "        maxiter=num_epochs,\n",
    "        has_aux=True,\n",
    "        verbose=record_info\n",
    "    )\n",
    "\n",
    "    sol = solver.run(current_params, inPoints, conds, init_data, initial_weights)\n",
    "    current_params = sol.params\n",
    "    return current_params, sol.state.aux\n",
    "\n",
    "def get_fixed_weights(loss_jnp):\n",
    "    losses = jax.lax.stop_gradient(loss_jnp)\n",
    "    return losses / jnp.sum(losses)"
   ]
  },
  {
   "cell_type": "markdown",
   "id": "e29047f1-9d6d-4eb9-9b3a-3048cd81fd25",
   "metadata": {},
   "source": [
    "## Boundary Condition Initialization and Random Sampling Strategy for Solving DDE"
   ]
  },
  {
   "cell_type": "code",
   "execution_count": 9,
   "id": "ca92374e-f27a-4ffb-a8b5-44e838892726",
   "metadata": {
    "execution": {
     "iopub.execute_input": "2025-05-20T16:24:19.366685Z",
     "iopub.status.busy": "2025-05-20T16:24:19.366448Z",
     "iopub.status.idle": "2025-05-20T16:24:24.312898Z",
     "shell.execute_reply": "2025-05-20T16:24:24.312008Z",
     "shell.execute_reply.started": "2025-05-20T16:24:19.366667Z"
    },
    "scrolled": true,
    "tags": []
   },
   "outputs": [],
   "source": [
    "lag = config[\"real_lag\"]\n",
    "\n",
    "# conds represents the initial condition y(0) = 1\n",
    "conds = jnp.array(config['conds']).reshape(1,-1)\n",
    "\n",
    "# Initial key for random number generator\n",
    "ik = config['initial_key']\n",
    "\n",
    "# Number of internal random points\n",
    "N_f = config['N_f']\n",
    "\n",
    "# Range for sampling points\n",
    "tmin, tmax = config['tmin'], config['tmax']\n",
    "\n",
    "# Generate random points within the specified range\n",
    "jaxKey = jax.random.PRNGKey(ik)\n",
    "\n",
    "sampler = qmc.LatinHypercube(d=1)\n",
    "\n",
    "sample = sampler.random(n=N_f)\n",
    "Inn_T = qmc.scale(sample, tmin, tmax)\n",
    "inPoints = jnp.array(Inn_T)\n",
    "\n",
    "# Convert the list of real_lag values to a string with values separated by underscores\n",
    "lag_string = '_'.join(str(lag) for lag in config['real_lag'])\n",
    "\n",
    "# Load the dataset with the given real lag value\n",
    "given_data_path = os.path.join(config['given_data_root_path'], f\"DDE23_ex4.4.1_tau_{lag_string}.csv\")\n",
    "given_data = pd.read_csv(given_data_path)\n",
    "\n",
    "t_g_data_1 = jnp.array(given_data.iloc[:, [0]].to_numpy())\n",
    "y_g_data_1 = jnp.array(given_data.iloc[:, [1]].to_numpy())\n",
    "t_g_data_2 = jnp.array(given_data.iloc[:, [2]].to_numpy())\n",
    "y_g_data_2 = jnp.array(given_data.iloc[:, [3]].to_numpy())\n",
    "t_g_data_3 = jnp.array(given_data.iloc[:, [4]].to_numpy())\n",
    "y_g_data_3 = jnp.array(given_data.iloc[:, [5]].to_numpy())\n",
    "\n",
    "noise = config[\"noise_level\"] * jax.random.normal(jaxKey, shape=t_g_data_1.shape)\n",
    "y_g_noise_data_1 = y_g_data_1*(1+noise)\n",
    "y_g_noise_data_2 = y_g_data_2*(1+noise)\n",
    "y_g_noise_data_3 = y_g_data_3*(1+noise)\n",
    "\n",
    "# Extract given data points from the dataset and convert to JAX-compatible numpy array\n",
    "init_data = jnp.column_stack((t_g_data_1, y_g_noise_data_1, t_g_data_2, y_g_noise_data_2, t_g_data_3, y_g_noise_data_3))\n",
    "\n",
    "# Network architecture\n",
    "netLayers = config['netLayers']\n",
    "\n",
    "# Initialize network parameters\n",
    "params = [init_network_params(netLayers, jaxKey)]*3\n",
    "\n",
    "# Append the parameter for the inverse problem (time delay 'lag1', 'lag2', 'lag3' and 'lag4') to the network parameters\n",
    "lag_params = jnp.array(config['init_lag'], dtype=jnp.float64)\n",
    "params.append(lag_params)"
   ]
  },
  {
   "cell_type": "markdown",
   "id": "bf4eaa5b-e4ca-4cea-844f-da64c95bcd56",
   "metadata": {},
   "source": [
    "## Training"
   ]
  },
  {
   "cell_type": "code",
   "execution_count": 10,
   "id": "3c4c8c83-7a76-41d7-af24-374cf1c99160",
   "metadata": {
    "execution": {
     "iopub.execute_input": "2025-05-20T16:24:24.315968Z",
     "iopub.status.busy": "2025-05-20T16:24:24.315656Z",
     "iopub.status.idle": "2025-05-20T16:28:59.457515Z",
     "shell.execute_reply": "2025-05-20T16:28:59.456443Z",
     "shell.execute_reply.started": "2025-05-20T16:24:24.315944Z"
    },
    "scrolled": true,
    "tags": []
   },
   "outputs": [],
   "source": [
    "# %%capture captured_output\n",
    "\n",
    "adam_epochs = config[\"step_epochs\"][0]\n",
    "lbfgs_epochs = config[\"step_epochs\"][1]\n",
    "stage1_epochs = adam_epochs + lbfgs_epochs\n",
    "\n",
    "record_info = config['record_info']\n",
    "\n",
    "start_time_nn = time.time()\n",
    "\n",
    "# 第一阶段adam训练\n",
    "params, hist1_epoch, hist1_loss, hist1_loss_items, hist1_lag, loss_components = train_adam(params, inPoints, conds, init_data, record_info, adam_epochs, start_epoch=0, log_interval=10, print_interval=1000)\n",
    "\n",
    "initial_weights = get_fixed_weights(loss_components)\n",
    "\n",
    "# 第二阶段lbfgs训练\n",
    "params, _ = train_lbfgs(params, inPoints, conds, init_data, initial_weights, record_info, num_epochs=lbfgs_epochs)\n",
    "\n",
    "end_time_nn = time.time()\n",
    "time_nn = end_time_nn - start_time_nn\n"
   ]
  },
  {
   "cell_type": "code",
   "execution_count": 11,
   "id": "2b345129-4ddd-4981-a0c3-f8542787fe25",
   "metadata": {
    "execution": {
     "iopub.execute_input": "2025-05-20T16:28:59.459124Z",
     "iopub.status.busy": "2025-05-20T16:28:59.458748Z",
     "iopub.status.idle": "2025-05-20T16:28:59.462655Z",
     "shell.execute_reply": "2025-05-20T16:28:59.461989Z",
     "shell.execute_reply.started": "2025-05-20T16:28:59.459092Z"
    },
    "scrolled": true,
    "tags": []
   },
   "outputs": [],
   "source": [
    "# adam_arr = process_log.format_adam_log(hist1_epoch, hist1_loss, hist1_lag)\n",
    "# bfgs_arr, col_names = process_log.extract_bfgs_log_info(captured_output.stdout, adam_epochs, 5)\n",
    "# all_arr = np.vstack([adam_arr, bfgs_arr])\n",
    "\n",
    "# epoch_history = all_arr[:, 0]\n",
    "# loss_history = all_arr[:, 1]\n",
    "# lag_history = all_arr[:, 2:]"
   ]
  },
  {
   "cell_type": "markdown",
   "id": "424d542f-c599-41b7-916f-7268231a94a3",
   "metadata": {},
   "source": [
    "## Result visualization"
   ]
  },
  {
   "cell_type": "code",
   "execution_count": 12,
   "id": "5266a53e-52aa-4f46-babd-8d17feb8d22f",
   "metadata": {
    "execution": {
     "iopub.execute_input": "2025-05-20T16:28:59.463866Z",
     "iopub.status.busy": "2025-05-20T16:28:59.463417Z",
     "iopub.status.idle": "2025-05-20T16:28:59.467956Z",
     "shell.execute_reply": "2025-05-20T16:28:59.467318Z",
     "shell.execute_reply.started": "2025-05-20T16:28:59.463838Z"
    },
    "scrolled": true,
    "tags": []
   },
   "outputs": [],
   "source": [
    "# Convert the list of real_lag values to a string with values separated by underscores\n",
    "lag_string = '_'.join(str(lag) for lag in config['real_lag'])\n",
    "\n",
    "result_save_root_path = os.path.join(config['result_save_path'],f\"tau_{lag_string}\")\n",
    "os.makedirs(result_save_root_path, exist_ok=True)"
   ]
  },
  {
   "cell_type": "markdown",
   "id": "df84a4f3-d78b-4c81-8b59-265f83706907",
   "metadata": {},
   "source": [
    "### Sol"
   ]
  },
  {
   "cell_type": "code",
   "execution_count": 13,
   "id": "7e008839-ac29-41ed-a779-fc1336760275",
   "metadata": {
    "execution": {
     "iopub.execute_input": "2025-05-20T16:28:59.469730Z",
     "iopub.status.busy": "2025-05-20T16:28:59.469109Z",
     "iopub.status.idle": "2025-05-20T16:29:01.135109Z",
     "shell.execute_reply": "2025-05-20T16:29:01.134094Z",
     "shell.execute_reply.started": "2025-05-20T16:28:59.469696Z"
    },
    "scrolled": true,
    "tags": []
   },
   "outputs": [
    {
     "data": {
      "image/png": "[encoded data removed]",
      "text/plain": [
       "<Figure size 629.921x472.441 with 1 Axes>"
      ]
     },
     "metadata": {},
     "output_type": "display_data"
    }
   ],
   "source": [
    "# MATLAB solution\n",
    "dde_solve_path = os.path.join(config['given_data_root_path'], f\"DDE23_ex4.4.1_tau_{lag_string}.csv\")\n",
    "dde_sol = pd.read_csv(dde_solve_path).to_numpy().reshape(-1, 6)\n",
    "\n",
    "# Extract time points and real values from the data for three different series\n",
    "t_points_1 = dde_sol[:, 0]\n",
    "y1_real = dde_sol[:, 1]\n",
    "t_points_2 = dde_sol[:, 2]\n",
    "y2_real = dde_sol[:, 3]\n",
    "t_points_3 = dde_sol[:, 4]\n",
    "y3_real = dde_sol[:, 5]\n",
    "\n",
    "# Generate a set of 10,000 evenly spaced time points between tmin and tmax\n",
    "T = np.linspace(tmin, tmax, 10000).reshape(-1, 1)\n",
    "\n",
    "# Evaluate the neural network for three sets of parameters to get predictions for each set\n",
    "nn_sol1 = DNNs(params[0], T)\n",
    "nn_sol2 = DNNs(params[1], T)\n",
    "nn_sol3 = DNNs(params[2], T)\n",
    "\n",
    "# Set the figure size to 16 cm wide by 12 cm tall (4:3 aspect ratio)\n",
    "plt.figure(figsize=(16 / 2.54, 12 / 2.54))\n",
    "\n",
    "# Plot real and predicted values for three series using different styles and colors\n",
    "plt.scatter(t_points_1, y1_real, label='Given Data of  $y_1(t)$', color='blue', marker='x')\n",
    "plt.scatter(t_points_2, y2_real, label='Given Data of  $y_2(t)$', color='red', marker='x')\n",
    "plt.scatter(t_points_3, y3_real, label='Given Data of  $y_3(t)$', color='green', marker='x')\n",
    "\n",
    "plt.plot(T, nn_sol1, 'k', label='PINN-DDEs Solution: $\\hat{y_1}(t)$')\n",
    "plt.plot(T, nn_sol2, 'c', label='PINN-DDEs Solution: $\\hat{y_2}(t)$')\n",
    "plt.plot(T, nn_sol3, 'm', label='PINN-DDEs Solution: $\\hat{y_3}(t)$')\n",
    "\n",
    "# Add a legend with font properties\n",
    "plt.legend(prop=prop)\n",
    "\n",
    "# Set labels for the x and y axes with font properties\n",
    "# plt.xlabel('$t$', fontproperties=prop)\n",
    "# plt.ylabel('$y(t)$', fontproperties=prop)\n",
    "\n",
    "# Customize the appearance of the axis tick labels using font properties\n",
    "ax = plt.gca()\n",
    "for label in ax.get_xticklabels() + ax.get_yticklabels():\n",
    "    label.set_fontproperties(prop)\n",
    "\n",
    "# Enable grid lines for major axes with specified style and line width\n",
    "plt.grid(True, which='major', axis='both', linestyle='--', linewidth=0.5)\n",
    "\n",
    "# Optionally save the figure with high resolution\n",
    "save_path = os.path.join(result_save_root_path, f\"Sol_ex4.4.1_tau_{lag_string}.png\")\n",
    "plt.savefig(save_path, dpi=600, bbox_inches='tight')\n",
    "\n",
    "# Display the plot\n",
    "# plt.show()"
   ]
  },
  {
   "cell_type": "markdown",
   "id": "05a31eff-acda-4410-be26-6c1a46755c41",
   "metadata": {},
   "source": [
    "### Loss"
   ]
  },
  {
   "cell_type": "code",
   "execution_count": 14,
   "id": "5f60da00-a51c-4fa1-8896-dc0e189951c8",
   "metadata": {
    "execution": {
     "iopub.execute_input": "2025-05-20T16:29:01.136655Z",
     "iopub.status.busy": "2025-05-20T16:29:01.136227Z",
     "iopub.status.idle": "2025-05-20T16:29:01.141394Z",
     "shell.execute_reply": "2025-05-20T16:29:01.140475Z",
     "shell.execute_reply.started": "2025-05-20T16:29:01.136619Z"
    },
    "scrolled": true,
    "tags": []
   },
   "outputs": [],
   "source": [
    "# Set up the figure with a specific size (converted from cm to inches)\n",
    "plt.figure(figsize=(16 / 2.54, 12 / 2.54))\n",
    "\n",
    "# Plot the loss history over epochs\n",
    "plt.plot(epoch_history[:-50], loss_history[:-50], 'k', label='Loss')\n",
    "\n",
    "# Set the y-axis to a logarithmic scale\n",
    "plt.yscale('log')\n",
    "\n",
    "# Add a legend with a specific font\n",
    "plt.legend(prop=prop, loc='upper right')\n",
    "\n",
    "# Add axis labels with the specified font\n",
    "# plt.xlabel('Epoch', fontproperties=prop)\n",
    "# plt.ylabel('Loss', fontproperties=prop)\n",
    "\n",
    "# Get the current axis for further customizationa\n",
    "ax = plt.gca()\n",
    "\n",
    "# Set font properties for tick labels on both axes\n",
    "for label in ax.get_xticklabels() + ax.get_yticklabels():\n",
    "    label.set_fontproperties(prop)\n",
    "\n",
    "# Add a grid to the plot with dashed lines for major ticks on both axes\n",
    "plt.grid(True, which='major', axis='both', linestyle='--', linewidth=0.5)\n",
    "\n",
    "# Export the plot to a file with a DPI of 600 and tight bounding box\n",
    "save_path = os.path.join(result_save_root_path, f\"Loss_ex4.4.1_tau_{lag_string}.png\")\n",
    "plt.savefig(save_path, dpi=600, bbox_inches='tight')\n",
    "\n",
    "# Display the plot\n",
    "# plt.show()"
   ]
  },
  {
   "cell_type": "markdown",
   "id": "55617994-403f-4c6b-a66b-5a188a99560e",
   "metadata": {},
   "source": [
    "### Lag"
   ]
  },
  {
   "cell_type": "code",
   "execution_count": 15,
   "id": "b208847f-bbca-45f0-b9c7-49e4abbb3f6b",
   "metadata": {
    "execution": {
     "iopub.execute_input": "2025-05-20T16:29:01.143059Z",
     "iopub.status.busy": "2025-05-20T16:29:01.142511Z",
     "iopub.status.idle": "2025-05-20T16:29:01.148524Z",
     "shell.execute_reply": "2025-05-20T16:29:01.147721Z",
     "shell.execute_reply.started": "2025-05-20T16:29:01.143026Z"
    },
    "scrolled": true,
    "tags": []
   },
   "outputs": [],
   "source": [
    "# Define a function to compute relative error bounds\n",
    "def relative_error_lines(real_value, error_percentage):\n",
    "    \"\"\" Calculate the lower and upper bounds of real_value considering a percentage error. \"\"\"\n",
    "    lower_bound = real_value * (1 - error_percentage / 100)\n",
    "    upper_bound = real_value * (1 + error_percentage / 100)\n",
    "    return lower_bound, upper_bound, error_percentage\n",
    "\n",
    "\n",
    "for i in range(4):\n",
    "    loss_history_tem = loss_history[:-150]\n",
    "    lag_history_tem = lag_history[:-150,i]\n",
    "\n",
    "    # Calculate error bounds for the given real_lag with a 3% error margin\n",
    "    lower_bound, upper_bound, error_percentage = relative_error_lines(config['real_lag'][i], 3)\n",
    "\n",
    "    # Set the figure size in a 4:3 aspect ratio\n",
    "    plt.figure(figsize=(16 / 2.54, 12 / 2.54))\n",
    "\n",
    "    # Plot the smoothed loss history\n",
    "    plt.plot(lag_history_tem, loss_history_tem, 'k', label='Loss')\n",
    "\n",
    "    # Draw vertical lines representing the 3% error range\n",
    "    plt.axvline(x=lower_bound, color='red', linestyle='--', linewidth=1, label=f'{error_percentage}% Relative Error Line')\n",
    "    plt.axvline(x=upper_bound, color='red', linestyle='--', linewidth=1)\n",
    "\n",
    "    # Set the y-axis to logarithmic scale for better visualization of differences\n",
    "    plt.yscale('log')\n",
    "\n",
    "    # Add labels to the axes\n",
    "    # plt.xlabel(f'$\\\\tau_{i+1}$', fontproperties=prop)\n",
    "    # plt.ylabel('Loss', fontproperties=prop)\n",
    "\n",
    "    # Customize the tick labels using font properties\n",
    "    ax = plt.gca()\n",
    "    for label in ax.get_xticklabels() + ax.get_yticklabels():\n",
    "        label.set_fontproperties(prop)\n",
    "\n",
    "    # Add grid lines, major only, with specific style\n",
    "    plt.grid(True, which='major', axis='both', linestyle='--', linewidth=0.5)\n",
    "\n",
    "    # Display the legend with custom font properties\n",
    "    plt.legend(prop=prop)\n",
    "\n",
    "    # Save the figure with high resolution\n",
    "    save_path = os.path.join(result_save_root_path, f\"Lag_{i+1}_ex4.4.1_tau_{lag_string}.png\")\n",
    "    plt.savefig(save_path, dpi=600, bbox_inches='tight')\n",
    "\n",
    "    # Display the plot\n",
    "    # plt.show()"
   ]
  },
  {
   "cell_type": "markdown",
   "id": "44ee8edc-7b39-4e7f-9fce-ca8d86e6b49f",
   "metadata": {},
   "source": [
    "## Calculating Error"
   ]
  },
  {
   "cell_type": "code",
   "execution_count": 16,
   "id": "b25b7ebb-8d10-4676-bf8b-2af78dd9a3cf",
   "metadata": {
    "execution": {
     "iopub.execute_input": "2025-05-20T16:29:01.149789Z",
     "iopub.status.busy": "2025-05-20T16:29:01.149461Z",
     "iopub.status.idle": "2025-05-20T16:29:01.154587Z",
     "shell.execute_reply": "2025-05-20T16:29:01.153662Z",
     "shell.execute_reply.started": "2025-05-20T16:29:01.149768Z"
    },
    "scrolled": true,
    "tags": []
   },
   "outputs": [],
   "source": [
    "absolute_error_lag_list = []\n",
    "relative_error_lag_list = []\n",
    "\n",
    "\n",
    "\n",
    "# Calculate the absolute and relative errors for lag\n",
    "for i in range(4):\n",
    "    # absolute_error_lag = abs(params[-1][i] - config['real_lag'][i])\n",
    "    absolute_error_lag = abs(lag_history[-20,i] - config['real_lag'][i])\n",
    "    relative_error_lag = absolute_error_lag / config['real_lag'][i]\n",
    "\n",
    "    absolute_error_lag_list.append(absolute_error_lag)\n",
    "    relative_error_lag_list.append(relative_error_lag)\n",
    "\n",
    "    # Print the calculated values for verification\n",
    "    print(f\"Absolute Error (lag_{i+1}): {absolute_error_lag}\")\n",
    "    print(f\"Relative Error (lag_{i+1}): {relative_error_lag}\")\n",
    "\n",
    "print(params[-1])\n",
    "\n",
    "# Save the results to a text file for documentation purposes\n",
    "output_file = os.path.join(result_save_root_path, f\"Result_ex4.4.1_tau_{lag_string}.txt\")\n",
    "with open(output_file, \"w\") as file:\n",
    "    file.write(f\"Real Lag: {config['real_lag']}\\n\")\n",
    "    file.write(f\"netLayers: {config['netLayers']}\\n\")\n",
    "    file.write(f\"Predict Lag: {params[-1]}\\n\")\n",
    "    for i in range(4):\n",
    "        file.write(f\"Absolute Error (lag_{i+1}): {absolute_error_lag_list[i]}\\n\")\n",
    "        file.write(f\"Relative Error (lag_{i+1}): {relative_error_lag_list[i]}\\n\")\n",
    "\n",
    "# Uncomment the line below to confirm that the results have been successfully saved\n",
    "# print(f\"Results have been saved to {output_file}\")\n"
   ]
  }
 ],
 "metadata": {
  "kernelspec": {
   "display_name": "Python 3",
   "language": "python",
   "name": "py35-paddle1.2.0"
  },
  "language_info": {
   "codemirror_mode": {
    "name": "ipython",
    "version": 3
   },
   "file_extension": ".py",
   "mimetype": "text/x-python",
   "name": "python",
   "nbconvert_exporter": "python",
   "pygments_lexer": "ipython3",
   "version": "3.10.10"
  }
 },
 "nbformat": 4,
 "nbformat_minor": 5
}
