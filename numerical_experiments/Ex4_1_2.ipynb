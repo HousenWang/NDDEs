{
 "cells": [
  {
   "cell_type": "markdown",
   "id": "71733e7a-68c7-4c36-856f-6bf53574b809",
   "metadata": {},
   "source": [
    "## Importing required libraries"
   ]
  },
  {
   "cell_type": "code",
   "execution_count": 112,
   "id": "7c09f2af-2600-404c-8fdb-d5d4f0adcdf4",
   "metadata": {
    "execution": {
     "iopub.execute_input": "2025-05-15T04:07:32.566686Z",
     "iopub.status.busy": "2025-05-15T04:07:32.565893Z",
     "iopub.status.idle": "2025-05-15T04:07:32.573539Z",
     "shell.execute_reply": "2025-05-15T04:07:32.572460Z",
     "shell.execute_reply.started": "2025-05-15T04:07:32.566647Z"
    },
    "scrolled": true,
    "tags": []
   },
   "outputs": [],
   "source": [
    "import sys\n",
    "sys.path.append('/home/aistudio/external-libraries')\n",
    "\n",
    "import jax\n",
    "import jax.numpy as jnp\n",
    "import jax.random as random\n",
    "\n",
    "import time\n",
    "import math\n",
    "import numpy as np\n",
    "import pandas as pd\n",
    "\n",
    "import optax\n",
    "import jaxopt\n",
    "import matplotlib.pyplot as plt\n",
    "from matplotlib import font_manager\n",
    "import matplotlib.gridspec as gridspec\n",
    "from typing import Tuple\n",
    "import spectral_method_2 as sm\n",
    "\n",
    "import scipy.io\n",
    "from scipy.stats import qmc\n",
    "from scipy.special import factorial\n",
    "jax.config.update(\"jax_enable_x64\", True)\n",
    "\n",
    "font_path = '/home/aistudio/Times_New_Roman.ttf'\n",
    "prop = font_manager.FontProperties(fname=font_path)"
   ]
  },
  {
   "cell_type": "markdown",
   "id": "358dd82c-4570-4805-8902-bec646de7b4a",
   "metadata": {},
   "source": [
    "## Config for solving DDE"
   ]
  },
  {
   "cell_type": "code",
   "execution_count": 113,
   "id": "7818d1d3-95e3-4700-8f2d-9c9c25b200a8",
   "metadata": {
    "execution": {
     "iopub.execute_input": "2025-05-15T04:07:32.575190Z",
     "iopub.status.busy": "2025-05-15T04:07:32.574831Z",
     "iopub.status.idle": "2025-05-15T04:07:32.579961Z",
     "shell.execute_reply": "2025-05-15T04:07:32.579251Z",
     "shell.execute_reply.started": "2025-05-15T04:07:32.575166Z"
    },
    "scrolled": true,
    "tags": []
   },
   "outputs": [],
   "source": [
    "config = {\n",
    "    \"path_lag\": 0.0625,\n",
    "    \"real_k\": 0.1,\n",
    "    \"tmin\": 0.,\n",
    "    \"tmax\": 10.,\n",
    "    \"initial_key\": 0,\n",
    "    \"conds\": [0., 0.],\n",
    "    \"netLayers\": [1, 20,40, 20, 1],\n",
    "    \"activation_function\": 1,\n",
    "    \"record_info\": False,\n",
    "    \"gap\": 2000,\n",
    "    \"N_f\": 5000,\n",
    "    \"loss_threshold\": 1e-10,\n",
    "    \"step_epochs\": [2000, 10000],\n",
    "    \"initial_lr\" : 1e-3,\n",
    "    \"cosine_decay_steps\": 1000,\n",
    "    \"cosine_alpha\": 0.01,\n",
    "    \"DDE23_data_root_path\": \"/home/aistudio/DDE_2rd_revision/data/ex4.1.2\",\n",
    "    \"result_save_path\": \"/home/aistudio/DDE_2rd_revision/result/ex4.1.2\"\n",
    "}\n",
    "config[\"real_lag\"] = config[\"path_lag\"] * jnp.pi"
   ]
  },
  {
   "cell_type": "markdown",
   "id": "724b2d0a-aff7-4a54-9a35-2e2b1f0f685b",
   "metadata": {},
   "source": [
    "## Defining the Delay Differential Equation\n",
    "Let $ y'(t) = k\\cdot y(t) - \\frac{\\pi}{2\\tau} e^{k \\tau} y(t-\\tau) $, for $ t \\leq 0 $, where $ y(t) = e^{kt}\\sin(\\frac{\\pi t}{2\\tau}) $."
   ]
  },
  {
   "cell_type": "code",
   "execution_count": 114,
   "id": "1e287f32-2af2-4945-a7fe-8de8473ffd8e",
   "metadata": {
    "execution": {
     "iopub.execute_input": "2025-05-15T04:07:32.581086Z",
     "iopub.status.busy": "2025-05-15T04:07:32.580748Z",
     "iopub.status.idle": "2025-05-15T04:07:32.586083Z",
     "shell.execute_reply": "2025-05-15T04:07:32.585243Z",
     "shell.execute_reply.started": "2025-05-15T04:07:32.581063Z"
    },
    "scrolled": true,
    "tags": []
   },
   "outputs": [],
   "source": [
    "# Define the differential equation\n",
    "def DDE(t, u, lag, k):\n",
    "    # Derivative of u at time t\n",
    "    u_t = jax.grad(lambda s: jnp.sum(u(s)))(t)\n",
    "\n",
    "    # Evaluate the DDE right-hand side\n",
    "    delayed_term = jnp.where(\n",
    "        t >= lag,\n",
    "        u(t - lag),\n",
    "        -jnp.cos(jnp.pi * t / (2*lag)) * jnp.exp(k * (t-lag))\n",
    "    )\n",
    "    \n",
    "    coeff = (jnp.pi / (2 * lag)) * jnp.exp(k * lag)\n",
    "    rhs = k*u(t) - coeff * delayed_term\n",
    "\n",
    "    return u_t - rhs"
   ]
  },
  {
   "cell_type": "markdown",
   "id": "08fd805a-49c2-46a1-984d-871a6a8308f8",
   "metadata": {},
   "source": [
    "## Construct the DNNs and initialize parameters"
   ]
  },
  {
   "cell_type": "code",
   "execution_count": 115,
   "id": "dc01c2c3-6edc-46c1-a5ed-7fe66796d7ed",
   "metadata": {
    "execution": {
     "iopub.execute_input": "2025-05-15T04:07:32.587373Z",
     "iopub.status.busy": "2025-05-15T04:07:32.586844Z",
     "iopub.status.idle": "2025-05-15T04:07:32.593750Z",
     "shell.execute_reply": "2025-05-15T04:07:32.592929Z",
     "shell.execute_reply.started": "2025-05-15T04:07:32.587348Z"
    },
    "scrolled": true,
    "tags": []
   },
   "outputs": [],
   "source": [
    "# Define the DNNs model\n",
    "def DNNs(params, x, activation_function=config['activation_function']):\n",
    "    kappa = jnp.exp(params[-1])\n",
    "\n",
    "    w, b = params[0]\n",
    "    x = kappa * jnp.dot(x, w) + b\n",
    "    x = jnp.sin(x)\n",
    "\n",
    "    for w, b in params[1:-2]:\n",
    "        x = jnp.dot(x, w) + b\n",
    "        x = jnp.tanh(x)\n",
    "\n",
    "    w, b = params[-2]\n",
    "    x = jnp.dot(x, w) + b\n",
    "    return x\n",
    "\n",
    "# Xavier initialization for the layer parameters\n",
    "def random_layer_params_xavier(m, n, key):\n",
    "    xavier_stddev = jnp.sqrt(2.0 / (m + n))\n",
    "\n",
    "    w_key, b_key = jax.random.split(key)\n",
    "\n",
    "    weights = xavier_stddev * jax.random.truncated_normal(\n",
    "        w_key, lower=-2.0, upper=2.0, shape=(m, n)\n",
    "    )\n",
    "    biases = jnp.zeros((n,))\n",
    "\n",
    "    return weights, biases\n",
    "\n",
    "# Initialize parameters for all layers in a fully-connected neural network with the specified sizes\n",
    "def init_network_params(sizes, key):\n",
    "    keys = jax.random.split(key, len(sizes))\n",
    "    return [random_layer_params_xavier(m, n, k) for m, n, k in zip(sizes[:-1], sizes[1:], keys)]"
   ]
  },
  {
   "cell_type": "markdown",
   "id": "267af29b-4991-4e5a-9e85-2aeb03831ef5",
   "metadata": {},
   "source": [
    "## Define the loss function"
   ]
  },
  {
   "cell_type": "code",
   "execution_count": 116,
   "id": "89bd118f-9faf-42db-a88d-0393187e63a5",
   "metadata": {
    "execution": {
     "iopub.execute_input": "2025-05-15T04:07:32.595871Z",
     "iopub.status.busy": "2025-05-15T04:07:32.595320Z",
     "iopub.status.idle": "2025-05-15T04:07:32.604714Z",
     "shell.execute_reply": "2025-05-15T04:07:32.603907Z",
     "shell.execute_reply.started": "2025-05-15T04:07:32.595847Z"
    },
    "scrolled": true,
    "tags": []
   },
   "outputs": [],
   "source": [
    "@jax.jit\n",
    "def loss_fun1(params, lag, k, inPoints, conds):\n",
    "    t_c = inPoints[:, [0]]\n",
    "    ufunc = lambda t: DNNs(params, t)\n",
    "\n",
    "    # Compute the loss from the differential equation\n",
    "    loss_f = jnp.mean(DDE(t_c, ufunc, lag, k)**2)\n",
    "\n",
    "    # Compute the loss from the initial conditions\n",
    "    t_0, u_0 = conds[:, [0]], conds[:, [1]]\n",
    "    loss_init = jnp.mean((ufunc(t_0) - u_0)**2)\n",
    "\n",
    "    # Total loss\n",
    "    loss_total = loss_f + loss_init\n",
    "\n",
    "    w_f = loss_f / loss_total\n",
    "    w_init = loss_init / loss_total\n",
    "\n",
    "    loss_weighted = loss_f * w_f + loss_init * w_init\n",
    "\n",
    "    return loss_weighted, (loss_f, loss_init)\n",
    "\n",
    "@jax.jit\n",
    "def loss_fun2(params, lag, k, inPoints, conds, initial_weights):\n",
    "    t_c = inPoints[:, [0]]\n",
    "    ufunc = lambda t: DNNs(params, t)\n",
    "\n",
    "    # Compute the loss from the differential equation\n",
    "    loss_f = jnp.mean(DDE(t_c, ufunc, lag, k)**2)\n",
    "\n",
    "    # Compute the loss from the initial conditions\n",
    "    t_0, u_0 = conds[:, [0]], conds[:, [1]]\n",
    "    loss_init = jnp.mean((ufunc(t_0) - u_0)**2)\n",
    "\n",
    "    w_f, w_init = initial_weights[0], initial_weights[1]\n",
    "\n",
    "    loss_weighted = loss_f * w_f + loss_init * w_init\n",
    "\n",
    "    return loss_weighted, (loss_f, loss_init)"
   ]
  },
  {
   "cell_type": "markdown",
   "id": "11aa6c1c-3e51-448c-bcad-8af6c66a617d",
   "metadata": {},
   "source": [
    "## Two-step neural network training"
   ]
  },
  {
   "cell_type": "code",
   "execution_count": 117,
   "id": "359daebb-e2a0-4cf4-aca7-a9fd3888d142",
   "metadata": {
    "execution": {
     "iopub.execute_input": "2025-05-15T04:07:32.606047Z",
     "iopub.status.busy": "2025-05-15T04:07:32.605602Z",
     "iopub.status.idle": "2025-05-15T04:07:32.619337Z",
     "shell.execute_reply": "2025-05-15T04:07:32.618464Z",
     "shell.execute_reply.started": "2025-05-15T04:07:32.606021Z"
    },
    "scrolled": true,
    "tags": []
   },
   "outputs": [],
   "source": [
    "# First Step：Adam Optimizer\n",
    "def train_adam(params, lag, k, inPoints, conds, record_info, num_epochs, start_epoch=0, log_interval=100, print_interval=1000):\n",
    "    phase_epochs = []\n",
    "    phase_losses = []\n",
    "    phase_loss_f = []\n",
    "    phase_loss_init = []\n",
    "\n",
    "    scheduler = optax.cosine_decay_schedule(\n",
    "        init_value=config['initial_lr'],\n",
    "        decay_steps=config['cosine_decay_steps'],\n",
    "        alpha=config['cosine_alpha']\n",
    "    )\n",
    "    optimizer = optax.adam(learning_rate=scheduler)\n",
    "    opt_state = optimizer.init(params)\n",
    "\n",
    "    @jax.jit\n",
    "    def update_adam(params, lag, k, inPoints, conds, opt_state):\n",
    "        (loss, (loss_f, loss_init)), grads = jax.value_and_grad(loss_fun1, has_aux=True)(\n",
    "            params, lag, k, inPoints, conds\n",
    "        )\n",
    "        updates, opt_state = optimizer.update(grads, opt_state, params)\n",
    "        params = optax.apply_updates(params, updates)\n",
    "        return params, opt_state, (loss, (loss_f, loss_init))\n",
    "\n",
    "    if record_info:\n",
    "        for epoch in range(num_epochs):\n",
    "            params, opt_state, (loss, (loss_f, loss_init)) = update_adam(\n",
    "                params, lag, k, inPoints, conds, opt_state\n",
    "            )\n",
    "            current_epoch = start_epoch + epoch\n",
    "\n",
    "            if record_info and current_epoch % log_interval == 0:\n",
    "                phase_epochs.append(current_epoch)\n",
    "                phase_losses.append(loss)\n",
    "                phase_loss_f.append(loss_f)\n",
    "                phase_loss_init.append(loss_init)\n",
    "\n",
    "            if record_info and current_epoch % print_interval == 0:\n",
    "                print(f\"Epoch {current_epoch}, Total Loss: {loss:.3e}, DDE Loss: {loss_f:.3e}, IC Loss: {loss_init:.3e}\")\n",
    "        \n",
    "        return params, phase_epochs, phase_losses, phase_loss_f, phase_loss_init, (loss_f, loss_init)\n",
    "    else:\n",
    "        now_epoch = 0\n",
    "        while now_epoch < num_epochs:\n",
    "            params, opt_state, (loss, (loss_f, loss_init)) = update_adam(\n",
    "                params, lag, k, inPoints, conds, opt_state\n",
    "            )\n",
    "            now_epoch += 1\n",
    "        return params, None, None, None, None, (loss_f, loss_init)\n",
    "\n",
    "\n",
    "# Second Step：L-BFGS Optimizer\n",
    "def train_lbfgs(params, lag, k, inPoints, conds, initial_weights,\n",
    "                record_info, num_epochs=10000, gap=100, start_epoch=0):\n",
    "\n",
    "    phase_epochs = []\n",
    "    phase_losses = []\n",
    "    phase_loss_f = []\n",
    "    phase_loss_init = []\n",
    "\n",
    "    current_params = params\n",
    "\n",
    "    if record_info:\n",
    "        solver = jaxopt.BFGS(\n",
    "            fun=loss_fun2,\n",
    "            tol=1e-16,\n",
    "            maxiter=gap,\n",
    "            has_aux=True,\n",
    "            verbose=False\n",
    "        )\n",
    "\n",
    "        for epoch in range(start_epoch, start_epoch + num_epochs + 1, gap):\n",
    "            sol = solver.run(current_params, lag, k, inPoints, conds, initial_weights)\n",
    "            current_params = sol.params\n",
    "            loss, (loss_f, loss_init) = sol.state.value, sol.state.aux\n",
    "\n",
    "            phase_losses.append(loss)\n",
    "            phase_loss_f.append(loss_f)\n",
    "            phase_loss_init.append(loss_init)\n",
    "            phase_epochs.append(epoch + gap)\n",
    "\n",
    "            print(f\"Epoch {epoch+gap}, Total Loss: {loss:.3e}, DDE Loss: {loss_f:.3e}, IC Loss: {loss_init:.3e}\")\n",
    "\n",
    "        return current_params, phase_epochs, phase_losses, phase_loss_f, phase_loss_init, (loss_f, loss_init)\n",
    "\n",
    "    else:\n",
    "        solver = jaxopt.BFGS(\n",
    "            fun=loss_fun2,\n",
    "            tol=1e-16,\n",
    "            maxiter=num_epochs,\n",
    "            has_aux=True,\n",
    "            verbose=False\n",
    "        )\n",
    "        sol = solver.run(current_params, lag, k, inPoints, conds, initial_weights)\n",
    "        current_params = sol.params\n",
    "        return current_params, None, None, None, None, sol.state.aux\n",
    "\n",
    "\n",
    "# Get the weights from the fist step\n",
    "def get_fixed_weights(loss_tuple):\n",
    "    losses = jnp.array([jax.lax.stop_gradient(l) for l in loss_tuple])\n",
    "    return losses / jnp.sum(losses)"
   ]
  },
  {
   "cell_type": "markdown",
   "id": "e29047f1-9d6d-4eb9-9b3a-3048cd81fd25",
   "metadata": {},
   "source": [
    "## Boundary Condition Initialization and Random Sampling Strategy for Solving DDE"
   ]
  },
  {
   "cell_type": "code",
   "execution_count": 118,
   "id": "ca92374e-f27a-4ffb-a8b5-44e838892726",
   "metadata": {
    "execution": {
     "iopub.execute_input": "2025-05-15T04:07:32.620680Z",
     "iopub.status.busy": "2025-05-15T04:07:32.620075Z",
     "iopub.status.idle": "2025-05-15T04:07:32.636682Z",
     "shell.execute_reply": "2025-05-15T04:07:32.636035Z",
     "shell.execute_reply.started": "2025-05-15T04:07:32.620655Z"
    },
    "scrolled": true,
    "tags": []
   },
   "outputs": [],
   "source": [
    "lag = config[\"real_lag\"]\n",
    "k = config['real_k']\n",
    "\n",
    "# conds represents the initial condition y(0) = 1\n",
    "conds = jnp.array(config['conds']).reshape(1,-1)\n",
    "\n",
    "# Initial key for random number generator\n",
    "ik = config['initial_key']\n",
    "\n",
    "# Number of internal random points\n",
    "N_f = config['N_f']\n",
    "\n",
    "# Range for sampling points\n",
    "tmin, tmax = config['tmin'], config['tmax']\n",
    "\n",
    "# Generate random points within the specified range\n",
    "jaxKey = jax.random.PRNGKey(ik)\n",
    "\n",
    "sampler = qmc.LatinHypercube(d=1)\n",
    "\n",
    "sample = sampler.random(n=N_f)\n",
    "Inn_T = qmc.scale(sample, tmin, tmax)\n",
    "inPoints = jnp.array(Inn_T)\n",
    "\n",
    "# Network architecture\n",
    "netLayers = config['netLayers']\n",
    "\n",
    "# Initialize network parameters\n",
    "params = init_network_params(netLayers, jaxKey)\n",
    "params.append(jnp.array([0.]))"
   ]
  },
  {
   "cell_type": "markdown",
   "id": "bf4eaa5b-e4ca-4cea-844f-da64c95bcd56",
   "metadata": {},
   "source": [
    "## Training"
   ]
  },
  {
   "cell_type": "code",
   "execution_count": 119,
   "id": "3c4c8c83-7a76-41d7-af24-374cf1c99160",
   "metadata": {
    "execution": {
     "iopub.execute_input": "2025-05-15T04:07:32.637990Z",
     "iopub.status.busy": "2025-05-15T04:07:32.637423Z",
     "iopub.status.idle": "2025-05-15T04:08:40.287710Z",
     "shell.execute_reply": "2025-05-15T04:08:40.286652Z",
     "shell.execute_reply.started": "2025-05-15T04:07:32.637964Z"
    },
    "scrolled": true,
    "tags": []
   },
   "outputs": [],
   "source": [
    "epoch_history = []\n",
    "loss_history = []\n",
    "loss_f_history = []\n",
    "loss_init_history = []\n",
    "\n",
    "adam_epochs = config[\"step_epochs\"][0]\n",
    "lbfgs_epochs = config[\"step_epochs\"][1]\n",
    "stage1_epochs = adam_epochs + lbfgs_epochs\n",
    "\n",
    "record_info = config['record_info']\n",
    "gap = config['gap']\n",
    "\n",
    "start_time_nn = time.time()\n",
    "\n",
    "# 第一阶段adam训练\n",
    "params, hist1_epoch, hist1_loss, hist1_loss_f, hist1_loss_init, loss_components = train_adam(params, lag, k, inPoints, conds, record_info, adam_epochs, start_epoch=0, log_interval=100, print_interval=1000)\n",
    "\n",
    "initial_weights = get_fixed_weights(loss_components)\n",
    "\n",
    "# 第二阶段lbfgs训练\n",
    "params, hist2_epoch, hist2_loss, hist2_loss_f, hist2_loss_init, _ = train_lbfgs(params, lag, k, inPoints, conds, initial_weights, record_info, num_epochs=lbfgs_epochs, gap=gap, start_epoch=adam_epochs)\n",
    "\n",
    "end_time_nn = time.time()\n",
    "time_nn = end_time_nn - start_time_nn\n",
    "\n",
    "# 合并训练记录\n",
    "if record_info:\n",
    "    epoch_history.extend(hist1_epoch + hist2_epoch)\n",
    "    loss_history.extend(hist1_loss + hist2_loss)"
   ]
  },
  {
   "cell_type": "markdown",
   "id": "424d542f-c599-41b7-916f-7268231a94a3",
   "metadata": {},
   "source": [
    "## Result visualization"
   ]
  },
  {
   "cell_type": "code",
   "execution_count": 120,
   "id": "5266a53e-52aa-4f46-babd-8d17feb8d22f",
   "metadata": {
    "execution": {
     "iopub.execute_input": "2025-05-15T04:08:40.289288Z",
     "iopub.status.busy": "2025-05-15T04:08:40.288770Z",
     "iopub.status.idle": "2025-05-15T04:08:40.293765Z",
     "shell.execute_reply": "2025-05-15T04:08:40.293068Z",
     "shell.execute_reply.started": "2025-05-15T04:08:40.289260Z"
    },
    "scrolled": true,
    "tags": []
   },
   "outputs": [],
   "source": [
    "# save path\n",
    "result_save_root_path = os.path.join(config['result_save_path'],f\"tau_{config['path_lag']}pi\")\n",
    "os.makedirs(result_save_root_path, exist_ok=True)"
   ]
  },
  {
   "cell_type": "markdown",
   "id": "df84a4f3-d78b-4c81-8b59-265f83706907",
   "metadata": {},
   "source": [
    "### DDE23 solution"
   ]
  },
  {
   "cell_type": "code",
   "execution_count": 121,
   "id": "3d5b936d-2dba-4a7d-9192-836d70b158b7",
   "metadata": {
    "execution": {
     "iopub.execute_input": "2025-05-15T04:08:40.295384Z",
     "iopub.status.busy": "2025-05-15T04:08:40.294812Z",
     "iopub.status.idle": "2025-05-15T04:08:40.304812Z",
     "shell.execute_reply": "2025-05-15T04:08:40.304170Z",
     "shell.execute_reply.started": "2025-05-15T04:08:40.295359Z"
    },
    "scrolled": true,
    "tags": []
   },
   "outputs": [],
   "source": [
    "# MATLAB solution\r\n",
    "dde_solve_path = os.path.join(config['DDE23_data_root_path'], f\"DDE23_ex4.1.2_tau_{config['path_lag']}pi.csv\")\r\n",
    "data = pd.read_csv(dde_solve_path)\r\n",
    "data_sorted = data.sort_values(by=data.columns[0])\r\n",
    "dde_t = data_sorted.iloc[:, 0].to_numpy().reshape(-1, 1)\r\n",
    "dde_sol = data_sorted.iloc[:, 1].to_numpy().reshape(-1, 1)"
   ]
  },
  {
   "cell_type": "markdown",
   "id": "8bb0d893-3b15-45ed-ab94-e4fe1265bd41",
   "metadata": {},
   "source": [
    "### Analytical solution\n",
    "The delay differential equation has an explicit analytical solution, which can be specifically expressed as\n",
    "\\begin{equation}  \n",
    "    y(t) = e^{kt}\\cdot \\sin(\\frac{\\pi t}{2\\tau})\n",
    "\\end{equation}"
   ]
  },
  {
   "cell_type": "code",
   "execution_count": 122,
   "id": "17f12e38-6303-49d1-9fbc-3e989cee316f",
   "metadata": {
    "execution": {
     "iopub.execute_input": "2025-05-15T04:08:40.306075Z",
     "iopub.status.busy": "2025-05-15T04:08:40.305555Z",
     "iopub.status.idle": "2025-05-15T04:08:40.310248Z",
     "shell.execute_reply": "2025-05-15T04:08:40.309553Z",
     "shell.execute_reply.started": "2025-05-15T04:08:40.306050Z"
    },
    "scrolled": true,
    "tags": []
   },
   "outputs": [],
   "source": [
    "T = dde_t\n",
    "rr_sol = jnp.exp(k*T) * jnp.sin(jnp.pi * T / (2*lag))"
   ]
  },
  {
   "cell_type": "markdown",
   "id": "dde20a95-3938-4dde-a5fc-73640f3ef38d",
   "metadata": {},
   "source": [
    "### spectral solution"
   ]
  },
  {
   "cell_type": "code",
   "execution_count": 123,
   "id": "4603a1dd-23e2-4816-bfca-90cd40a623df",
   "metadata": {
    "execution": {
     "iopub.execute_input": "2025-05-15T04:08:40.311580Z",
     "iopub.status.busy": "2025-05-15T04:08:40.311013Z",
     "iopub.status.idle": "2025-05-15T04:08:40.329615Z",
     "shell.execute_reply": "2025-05-15T04:08:40.328977Z",
     "shell.execute_reply.started": "2025-05-15T04:08:40.311555Z"
    },
    "scrolled": true,
    "tags": []
   },
   "outputs": [],
   "source": [
    "start_time_sm = time.time()\n",
    "_, _, subintervals = sm.main(config['real_k'],config['real_lag'], config['tmax'], 5)\n",
    "sm_sol = sm.get_interpolated_y(T, subintervals, k=config['real_k'], tau=config['real_lag'])\n",
    "end_time_sm = time.time()\n",
    "time_sm = end_time_sm - start_time_sm"
   ]
  },
  {
   "cell_type": "markdown",
   "id": "f67120b2-3326-400f-982b-603a29fd93ec",
   "metadata": {},
   "source": [
    "### Sol"
   ]
  },
  {
   "cell_type": "code",
   "execution_count": 124,
   "id": "4e9941c9-be15-4a35-810f-8d3b2b4f7dbd",
   "metadata": {
    "execution": {
     "iopub.execute_input": "2025-05-15T04:08:40.330980Z",
     "iopub.status.busy": "2025-05-15T04:08:40.330395Z",
     "iopub.status.idle": "2025-05-15T04:08:40.344245Z",
     "shell.execute_reply": "2025-05-15T04:08:40.343592Z",
     "shell.execute_reply.started": "2025-05-15T04:08:40.330956Z"
    },
    "scrolled": true,
    "tags": []
   },
   "outputs": [],
   "source": [
    "# Neural network solution\n",
    "nn_sol = DNNs(params, T.reshape(-1, 1))\n",
    "\n",
    "# Absolute and relative errors between nn_sol and rr_sol\n",
    "abs_error_nn_rr = np.abs(nn_sol - rr_sol)\n",
    "rel_error_nn_rr = np.linalg.norm(nn_sol - rr_sol, ord=2) / np.linalg.norm(rr_sol, ord=2)\n",
    "mae_nn_rr = np.mean(abs_error_nn_rr)  # Calculate Mean Absolute Error (MAE)\n",
    "\n",
    "# # Absolute and relative errors between rr_sol and dde_sol\n",
    "abs_error_dde_rr = np.abs(dde_sol - rr_sol)\n",
    "rel_error_dde_rr = np.linalg.norm(dde_sol - rr_sol, ord=2) / np.linalg.norm(rr_sol, ord=2)\n",
    "mae_dde_rr = np.mean(abs_error_dde_rr)  # Calculate Mean Absolute Error (MAE)\n",
    "\n",
    "# Absolute and relative errors between sm_sol and rr_sol\n",
    "abs_error_sm_rr = np.abs(sm_sol - rr_sol)\n",
    "rel_error_sm_rr = np.linalg.norm(sm_sol - rr_sol, ord=2) / np.linalg.norm(rr_sol, ord=2)\n",
    "mae_sm_rr = np.mean(abs_error_sm_rr)  # Calculate Mean Absolute Error (MAE)\n",
    "\n",
    "# Save results to a txt file\n",
    "save_path = os.path.join(result_save_root_path, f\"Results_ex4.1.2_tau_{config['path_lag']}pi.txt\")\n",
    "results_path = os.path.join(os.getcwd(), save_path)\n",
    "with open(results_path, \"w\") as file:\n",
    "    file.write(f\"Real Lag: {config['real_lag']}\\n\")\n",
    "    file.write(\"Relative and Mean Absolute Errors\\n\")\n",
    "    file.write(\"=================================\\n\")\n",
    "    file.write(f\"Relative error between nn_sol and rr_sol: {rel_error_nn_rr}\\n\")\n",
    "    file.write(f\"Mean Absolute Error (MAE) between nn_sol and rr_sol: {mae_nn_rr}\\n\")\n",
    "    file.write(f\"Running time: {time_nn}\\n\")\n",
    "    file.write(\"\\n\")\n",
    "    file.write(f\"Relative error between sm_sol and rr_sol: {rel_error_sm_rr}\\n\")\n",
    "    file.write(f\"Mean Absolute Error (MAE) between sm_sol and rr_sol: {mae_sm_rr}\\n\")\n",
    "    file.write(f\"Running time: {time_sm}\\n\")\n",
    "\n",
    "# print(f\"Results have been saved to {results_path}\")"
   ]
  },
  {
   "cell_type": "code",
   "execution_count": 125,
   "id": "7861d623-9ad2-49c4-9b59-dbe30ee390df",
   "metadata": {
    "execution": {
     "iopub.execute_input": "2025-05-15T04:08:40.347080Z",
     "iopub.status.busy": "2025-05-15T04:08:40.346481Z",
     "iopub.status.idle": "2025-05-15T04:08:41.261617Z",
     "shell.execute_reply": "2025-05-15T04:08:41.260777Z",
     "shell.execute_reply.started": "2025-05-15T04:08:40.347055Z"
    },
    "scrolled": true,
    "tags": []
   },
   "outputs": [
    {
     "data": {
      "image/png": "[encoded data removed]",
      "text/plain": [
       "<Figure size 629.921x472.441 with 1 Axes>"
      ]
     },
     "metadata": {},
     "output_type": "display_data"
    }
   ],
   "source": [
    "plt.figure(figsize=(16 / 2.54, 12 / 2.54))\n",
    "\n",
    "plt.plot(T,rr_sol,'-r',label='Analytical Solution: $y(t)$')\n",
    "plt.plot(dde_t,dde_sol,'-.b',label='DDE23 Solution: $\\\\tilde{y}(t)$')\n",
    "plt.plot(T,nn_sol,'--k',label='NDDEs Solution: $\\hat{y}(t)$')\n",
    "plt.plot(T,sm_sol,':g',label='Spectral Method Solution: $\\dot{y}(t)$')\n",
    "\n",
    "plt.legend(prop=prop, loc='upper right')\n",
    "\n",
    "# plt.xlabel('$t$')\n",
    "# plt.ylabel('$y$')\n",
    "\n",
    "ax = plt.gca()\n",
    "\n",
    "for label in ax.get_xticklabels() + ax.get_yticklabels():\n",
    "    label.set_fontproperties(prop)\n",
    "\n",
    "ax.tick_params(direction='in')\n",
    "\n",
    "plt.grid(True, which='major', axis='both', linestyle='--', linewidth=0.5)\n",
    "\n",
    "save_path = os.path.join(result_save_root_path, f\"Sol_ex4.1.2_tau_{config['path_lag']}pi.png\")\n",
    "\n",
    "plt.savefig(save_path, dpi=600, bbox_inches='tight')\n",
    "\n",
    "plt.show()"
   ]
  }
 ],
 "metadata": {
  "kernelspec": {
   "display_name": "Python 3",
   "language": "python",
   "name": "py35-paddle1.2.0"
  },
  "language_info": {
   "codemirror_mode": {
    "name": "ipython",
    "version": 3
   },
   "file_extension": ".py",
   "mimetype": "text/x-python",
   "name": "python",
   "nbconvert_exporter": "python",
   "pygments_lexer": "ipython3",
   "version": "3.10.10"
  }
 },
 "nbformat": 4,
 "nbformat_minor": 5
}
