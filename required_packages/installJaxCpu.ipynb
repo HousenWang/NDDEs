{
 "cells": [
  {
   "cell_type": "markdown",
   "id": "5b0fb71c-c454-42d9-853b-d5bf2c303df8",
   "metadata": {},
   "source": [
    "# 安装 JAX-CPU"
   ]
  },
  {
   "cell_type": "code",
   "execution_count": 1,
   "id": "56e12649-6a4f-455d-8c71-a99b68ae7ccf",
   "metadata": {
    "execution": {
     "iopub.execute_input": "2023-03-11T03:01:00.452363Z",
     "iopub.status.busy": "2023-03-11T03:01:00.451680Z",
     "iopub.status.idle": "2023-03-11T03:02:00.927660Z",
     "shell.execute_reply": "2023-03-11T03:02:00.926238Z",
     "shell.execute_reply.started": "2023-03-11T03:01:00.452329Z"
    },
    "scrolled": true,
    "tags": []
   },
   "outputs": [
    {
     "name": "stdout",
     "output_type": "stream",
     "text": [
      "Looking in indexes: https://pypi.tuna.tsinghua.edu.cn/simple\r\n",
      "Requirement already satisfied: pip in /opt/conda/envs/python35-paddle120-env/lib/python3.7/site-packages (22.1.2)\r\n",
      "Collecting pip\r\n",
      "  Downloading https://pypi.tuna.tsinghua.edu.cn/packages/07/51/2c0959c5adf988c44d9e1e0d940f5b074516ecc87e96b1af25f59de9ba38/pip-23.0.1-py3-none-any.whl (2.1 MB)\r\n",
      "\u001b[2K     \u001b[90m━━━━━━━━━━━━━━━━━━━━━━━━━━━━━━━━━━━━━━━━\u001b[0m \u001b[32m2.1/2.1 MB\u001b[0m \u001b[31m3.7 MB/s\u001b[0m eta \u001b[36m0:00:00\u001b[0m00:01\u001b[0m00:01\u001b[0m\r\n",
      "\u001b[?25hInstalling collected packages: pip\r\n",
      "  Attempting uninstall: pip\r\n",
      "    Found existing installation: pip 22.1.2\r\n",
      "    Uninstalling pip-22.1.2:\r\n",
      "      Successfully uninstalled pip-22.1.2\r\n",
      "Successfully installed pip-23.0.1\r\n",
      "Looking in indexes: https://pypi.tuna.tsinghua.edu.cn/simple\r\n",
      "Collecting jax\r\n",
      "  Downloading https://pypi.tuna.tsinghua.edu.cn/packages/4b/0e/c57d1b4c9ddc27e8498c9e2b0628666c11d9d6911f1d2f975a91e1215595/jax-0.3.25.tar.gz (1.1 MB)\r\n",
      "\u001b[2K     \u001b[90m━━━━━━━━━━━━━━━━━━━━━━━━━━━━━━━━━━━━━━━━\u001b[0m \u001b[32m1.1/1.1 MB\u001b[0m \u001b[31m5.8 MB/s\u001b[0m eta \u001b[36m0:00:00\u001b[0ma \u001b[36m0:00:01\u001b[0m\r\n",
      "\u001b[?25h  Preparing metadata (setup.py) ... \u001b[?25ldone\r\n",
      "\u001b[?25hCollecting numpy>=1.20\r\n",
      "  Downloading https://pypi.tuna.tsinghua.edu.cn/packages/6d/ad/ff3b21ebfe79a4d25b4a4f8e5cf9fd44a204adb6b33c09010f566f51027a/numpy-1.21.6-cp37-cp37m-manylinux_2_12_x86_64.manylinux2010_x86_64.whl (15.7 MB)\r\n",
      "\u001b[2K     \u001b[90m━━━━━━━━━━━━━━━━━━━━━━━━━━━━━━━━━━━━━━━━\u001b[0m \u001b[32m15.7/15.7 MB\u001b[0m \u001b[31m3.9 MB/s\u001b[0m eta \u001b[36m0:00:00\u001b[0m00:01\u001b[0m00:01\u001b[0m\r\n",
      "\u001b[?25hRequirement already satisfied: opt_einsum in /opt/conda/envs/python35-paddle120-env/lib/python3.7/site-packages (from jax) (3.3.0)\r\n",
      "Collecting scipy>=1.5\r\n",
      "  Downloading https://pypi.tuna.tsinghua.edu.cn/packages/58/4f/11f34cfc57ead25752a7992b069c36f5d18421958ebd6466ecd849aeaf86/scipy-1.7.3-cp37-cp37m-manylinux_2_12_x86_64.manylinux2010_x86_64.whl (38.1 MB)\r\n",
      "\u001b[2K     \u001b[90m━━━━━━━━━━━━━━━━━━━━━━━━━━━━━━━━━━━━━━━━\u001b[0m \u001b[32m38.1/38.1 MB\u001b[0m \u001b[31m4.3 MB/s\u001b[0m eta \u001b[36m0:00:00\u001b[0m00:01\u001b[0m00:01\u001b[0m\r\n",
      "\u001b[?25hRequirement already satisfied: typing_extensions in /opt/conda/envs/python35-paddle120-env/lib/python3.7/site-packages (from jax) (4.3.0)\r\n",
      "Building wheels for collected packages: jax\r\n",
      "  Building wheel for jax (setup.py) ... \u001b[?25ldone\r\n",
      "\u001b[?25h  Created wheel for jax: filename=jax-0.3.25-py3-none-any.whl size=1308486 sha256=f94ef3a1c331c37d28bb61668b1598bf8e467ce202ee23ed98d1fd4d6dba687d\r\n",
      "  Stored in directory: /home/aistudio/.cache/pip/wheels/bd/a1/1e/fdf4325c10de3c45c99210b89ce3dc8b382f33bc4a3abd82cf\r\n",
      "Successfully built jax\r\n",
      "Installing collected packages: numpy, scipy, jax\r\n",
      "  Attempting uninstall: numpy\r\n",
      "    Found existing installation: numpy 1.19.5\r\n",
      "    Uninstalling numpy-1.19.5:\r\n",
      "      Successfully uninstalled numpy-1.19.5\r\n",
      "  Attempting uninstall: scipy\r\n",
      "    Found existing installation: scipy 1.3.0\r\n",
      "    Uninstalling scipy-1.3.0:\r\n",
      "      Successfully uninstalled scipy-1.3.0\r\n",
      "\u001b[31mERROR: pip's dependency resolver does not currently take into account all the packages that are installed. This behaviour is the source of the following dependency conflicts.\r\n",
      "parl 1.4.1 requires pyzmq==18.1.1, but you have pyzmq 23.2.1 which is incompatible.\u001b[0m\u001b[31m\r\n",
      "\u001b[0mSuccessfully installed jax-0.3.25 numpy-1.21.6 scipy-1.7.3\r\n",
      "Looking in indexes: https://pypi.tuna.tsinghua.edu.cn/simple\r\n",
      "Collecting jaxlib\r\n",
      "  Downloading https://pypi.tuna.tsinghua.edu.cn/packages/7b/01/230b6c557fe8c7c9393b0a71e84154f100f23240aa69bade663300d0785a/jaxlib-0.3.25-cp37-cp37m-manylinux2014_x86_64.whl (71.2 MB)\r\n",
      "\u001b[2K     \u001b[90m━━━━━━━━━━━━━━━━━━━━━━━━━━━━━━━━━━━━━━━━\u001b[0m \u001b[32m71.2/71.2 MB\u001b[0m \u001b[31m2.8 MB/s\u001b[0m eta \u001b[36m0:00:00\u001b[0m00:01\u001b[0m00:01\u001b[0mm\r\n",
      "\u001b[?25hRequirement already satisfied: scipy>=1.5 in /opt/conda/envs/python35-paddle120-env/lib/python3.7/site-packages (from jaxlib) (1.7.3)\r\n",
      "Requirement already satisfied: numpy>=1.20 in /opt/conda/envs/python35-paddle120-env/lib/python3.7/site-packages (from jaxlib) (1.21.6)\r\n",
      "Installing collected packages: jaxlib\r\n",
      "Successfully installed jaxlib-0.3.25\r\n",
      "Looking in indexes: https://pypi.tuna.tsinghua.edu.cn/simple\r\n",
      "Collecting optax\r\n",
      "  Downloading https://pypi.tuna.tsinghua.edu.cn/packages/2e/7a/53ab156dd30acd9b4039603ebe623e81783de33b33ed14bcd52a29c2eeef/optax-0.1.4-py3-none-any.whl (154 kB)\r\n",
      "\u001b[2K     \u001b[90m━━━━━━━━━━━━━━━━━━━━━━━━━━━━━━━━━━━━━━━\u001b[0m \u001b[32m154.9/154.9 kB\u001b[0m \u001b[31m8.4 MB/s\u001b[0m eta \u001b[36m0:00:00\u001b[0m\r\n",
      "\u001b[?25hRequirement already satisfied: numpy>=1.18.0 in /opt/conda/envs/python35-paddle120-env/lib/python3.7/site-packages (from optax) (1.21.6)\r\n",
      "Requirement already satisfied: jax>=0.1.55 in /opt/conda/envs/python35-paddle120-env/lib/python3.7/site-packages (from optax) (0.3.25)\r\n",
      "Requirement already satisfied: jaxlib>=0.1.37 in /opt/conda/envs/python35-paddle120-env/lib/python3.7/site-packages (from optax) (0.3.25)\r\n",
      "Requirement already satisfied: absl-py>=0.7.1 in /opt/conda/envs/python35-paddle120-env/lib/python3.7/site-packages (from optax) (0.8.1)\r\n",
      "Collecting chex>=0.1.5\r\n",
      "  Downloading https://pypi.tuna.tsinghua.edu.cn/packages/38/ee/bce278eceda025e8f7d1939b5a5fd8ebfe4f3307fe33dab7c243b2bc3668/chex-0.1.5-py3-none-any.whl (85 kB)\r\n",
      "\u001b[2K     \u001b[90m━━━━━━━━━━━━━━━━━━━━━━━━━━━━━━━━━━━━━━━━\u001b[0m \u001b[32m85.3/85.3 kB\u001b[0m \u001b[31m2.4 MB/s\u001b[0m eta \u001b[36m0:00:00\u001b[0m\r\n",
      "\u001b[?25hRequirement already satisfied: typing-extensions>=3.10.0 in /opt/conda/envs/python35-paddle120-env/lib/python3.7/site-packages (from optax) (4.3.0)\r\n",
      "Requirement already satisfied: six in /opt/conda/envs/python35-paddle120-env/lib/python3.7/site-packages (from absl-py>=0.7.1->optax) (1.16.0)\r\n",
      "Collecting dm-tree>=0.1.5\r\n",
      "  Downloading https://pypi.tuna.tsinghua.edu.cn/packages/89/42/1115cf34bb6cc5baba40e959382f8251012e97382a89801390679d79212f/dm_tree-0.1.8-cp37-cp37m-manylinux_2_17_x86_64.manylinux2014_x86_64.whl (153 kB)\r\n",
      "\u001b[2K     \u001b[90m━━━━━━━━━━━━━━━━━━━━━━━━━━━━━━━━━━━━━━━\u001b[0m \u001b[32m153.8/153.8 kB\u001b[0m \u001b[31m1.3 MB/s\u001b[0m eta \u001b[36m0:00:00\u001b[0ma \u001b[36m0:00:01\u001b[0m\r\n",
      "\u001b[?25hRequirement already satisfied: toolz>=0.9.0 in /opt/conda/envs/python35-paddle120-env/lib/python3.7/site-packages (from chex>=0.1.5->optax) (0.12.0)\r\n",
      "Collecting absl-py>=0.7.1\r\n",
      "  Downloading https://pypi.tuna.tsinghua.edu.cn/packages/dd/87/de5c32fa1b1c6c3305d576e299801d8655c175ca9557019906247b994331/absl_py-1.4.0-py3-none-any.whl (126 kB)\r\n",
      "\u001b[2K     \u001b[90m━━━━━━━━━━━━━━━━━━━━━━━━━━━━━━━━━━━━━\u001b[0m \u001b[32m126.5/126.5 kB\u001b[0m \u001b[31m495.4 kB/s\u001b[0m eta \u001b[36m0:00:00\u001b[0ma \u001b[36m0:00:01\u001b[0m\r\n",
      "\u001b[?25hRequirement already satisfied: scipy>=1.5 in /opt/conda/envs/python35-paddle120-env/lib/python3.7/site-packages (from jax>=0.1.55->optax) (1.7.3)\r\n",
      "Requirement already satisfied: opt-einsum in /opt/conda/envs/python35-paddle120-env/lib/python3.7/site-packages (from jax>=0.1.55->optax) (3.3.0)\r\n",
      "Installing collected packages: dm-tree, absl-py, chex, optax\r\n",
      "  Attempting uninstall: absl-py\r\n",
      "    Found existing installation: absl-py 0.8.1\r\n",
      "    Uninstalling absl-py-0.8.1:\r\n",
      "      Successfully uninstalled absl-py-0.8.1\r\n",
      "\u001b[31mERROR: pip's dependency resolver does not currently take into account all the packages that are installed. This behaviour is the source of the following dependency conflicts.\r\n",
      "parl 1.4.1 requires pyzmq==18.1.1, but you have pyzmq 23.2.1 which is incompatible.\u001b[0m\u001b[31m\r\n",
      "\u001b[0mSuccessfully installed absl-py-1.4.0 chex-0.1.5 dm-tree-0.1.8 optax-0.1.4\r\n"
     ]
    }
   ],
   "source": [
    "!pip install --upgrade pip\n",
    "\n",
    "# install jax-cpu \n",
    "!pip3 install jax  \n",
    "\n",
    "!pip install jaxlib\n",
    "!pip install optax"
   ]
  },
  {
   "cell_type": "code",
   "execution_count": null,
   "id": "8bef1463-b424-4999-9729-8eaea88d474f",
   "metadata": {
    "scrolled": true
   },
   "outputs": [],
   "source": []
  }
 ],
 "metadata": {
  "kernelspec": {
   "display_name": "Python 3",
   "language": "python",
   "name": "py35-paddle1.2.0"
  },
  "language_info": {
   "codemirror_mode": {
    "name": "ipython",
    "version": 3
   },
   "file_extension": ".py",
   "mimetype": "text/x-python",
   "name": "python",
   "nbconvert_exporter": "python",
   "pygments_lexer": "ipython3",
   "version": "3.7.4"
  }
 },
 "nbformat": 4,
 "nbformat_minor": 5
}
