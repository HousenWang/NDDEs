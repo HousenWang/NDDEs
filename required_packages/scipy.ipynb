{
 "cells": [
  {
   "cell_type": "code",
   "execution_count": 1,
   "id": "bff742dc-89f0-4606-aa5f-a37ae1bb89de",
   "metadata": {
    "execution": {
     "iopub.execute_input": "2024-08-14T14:05:30.441253Z",
     "iopub.status.busy": "2024-08-14T14:05:30.440510Z",
     "iopub.status.idle": "2024-08-14T14:06:15.346576Z",
     "shell.execute_reply": "2024-08-14T14:06:15.344967Z",
     "shell.execute_reply.started": "2024-08-14T14:05:30.441193Z"
    },
    "scrolled": true,
    "tags": []
   },
   "outputs": [
    {
     "name": "stdout",
     "output_type": "stream",
     "text": [
      "Looking in indexes: https://mirror.baidu.com/pypi/simple/, https://mirrors.aliyun.com/pypi/simple/\r\n",
      "\u001b[33mWARNING: Skipping page https://mirror.baidu.com/pypi/simple/scipy/ because the GET request got Content-Type: application/octet-stream.The only supported Content-Type is text/html\u001b[0m\u001b[33m\r\n",
      "\u001b[0mCollecting scipy\r\n",
      "  Downloading https://mirrors.aliyun.com/pypi/packages/58/4f/11f34cfc57ead25752a7992b069c36f5d18421958ebd6466ecd849aeaf86/scipy-1.7.3-cp37-cp37m-manylinux_2_12_x86_64.manylinux2010_x86_64.whl (38.1 MB)\r\n",
      "\u001b[2K     \u001b[90m━━━━━━━━━━━━━━━━━━━━━━━━━━━━━━━━━━━━━━━━\u001b[0m \u001b[32m38.1/38.1 MB\u001b[0m \u001b[31m1.7 MB/s\u001b[0m eta \u001b[36m0:00:00\u001b[0m00:01\u001b[0m00:01\u001b[0mm\r\n",
      "\u001b[?25h\u001b[33mWARNING: Skipping page https://mirror.baidu.com/pypi/simple/numpy/ because the GET request got Content-Type: application/octet-stream.The only supported Content-Type is text/html\u001b[0m\u001b[33m\r\n",
      "\u001b[0mCollecting numpy<1.23.0,>=1.16.5\r\n",
      "  Downloading https://mirrors.aliyun.com/pypi/packages/6d/ad/ff3b21ebfe79a4d25b4a4f8e5cf9fd44a204adb6b33c09010f566f51027a/numpy-1.21.6-cp37-cp37m-manylinux_2_12_x86_64.manylinux2010_x86_64.whl (15.7 MB)\r\n",
      "\u001b[2K     \u001b[90m━━━━━━━━━━━━━━━━━━━━━━━━━━━━━━━━━━━━━━━━\u001b[0m \u001b[32m15.7/15.7 MB\u001b[0m \u001b[31m1.8 MB/s\u001b[0m eta \u001b[36m0:00:00\u001b[0m00:01\u001b[0m00:01\u001b[0m\r\n",
      "\u001b[?25hInstalling collected packages: numpy, scipy\r\n",
      "\u001b[31mERROR: pip's dependency resolver does not currently take into account all the packages that are installed. This behaviour is the source of the following dependency conflicts.\r\n",
      "parl 1.4.1 requires pyzmq==18.1.1, but you have pyzmq 23.2.1 which is incompatible.\u001b[0m\u001b[31m\r\n",
      "\u001b[0mSuccessfully installed numpy-1.21.6 scipy-1.7.3\r\n",
      "\u001b[33mWARNING: Target directory /home/aistudio/external-libraries/numpy-1.21.6.dist-info already exists. Specify --upgrade to force replacement.\u001b[0m\u001b[33m\r\n",
      "\u001b[0m\u001b[33mWARNING: Target directory /home/aistudio/external-libraries/scipy already exists. Specify --upgrade to force replacement.\u001b[0m\u001b[33m\r\n",
      "\u001b[0m\u001b[33mWARNING: Target directory /home/aistudio/external-libraries/scipy.libs already exists. Specify --upgrade to force replacement.\u001b[0m\u001b[33m\r\n",
      "\u001b[0m\u001b[33mWARNING: Target directory /home/aistudio/external-libraries/scipy-1.7.3.dist-info already exists. Specify --upgrade to force replacement.\u001b[0m\u001b[33m\r\n",
      "\u001b[0m\u001b[33mWARNING: Target directory /home/aistudio/external-libraries/numpy.libs already exists. Specify --upgrade to force replacement.\u001b[0m\u001b[33m\r\n",
      "\u001b[0m\u001b[33mWARNING: Target directory /home/aistudio/external-libraries/numpy already exists. Specify --upgrade to force replacement.\u001b[0m\u001b[33m\r\n",
      "\u001b[0m\u001b[33mWARNING: Target directory /home/aistudio/external-libraries/bin already exists. Specify --upgrade to force replacement.\u001b[0m\u001b[33m\r\n",
      "\u001b[0m\u001b[33mWARNING: Skipping page https://mirror.baidu.com/pypi/simple/pip/ because the GET request got Content-Type: application/octet-stream.The only supported Content-Type is text/html\u001b[0m\u001b[33m\r\n",
      "\u001b[0m\r\n",
      "\u001b[1m[\u001b[0m\u001b[34;49mnotice\u001b[0m\u001b[1;39;49m]\u001b[0m\u001b[39;49m A new release of pip available: \u001b[0m\u001b[31;49m22.1.2\u001b[0m\u001b[39;49m -> \u001b[0m\u001b[32;49m24.0\u001b[0m\r\n",
      "\u001b[1m[\u001b[0m\u001b[34;49mnotice\u001b[0m\u001b[1;39;49m]\u001b[0m\u001b[39;49m To update, run: \u001b[0m\u001b[32;49mpip install --upgrade pip\u001b[0m\r\n"
     ]
    }
   ],
   "source": [
    "!pip install scipy -t /home/aistudio/external-libraries"
   ]
  },
  {
   "cell_type": "code",
   "execution_count": 1,
   "id": "c7346047-040a-4e94-af84-8c879b1aaec4",
   "metadata": {
    "execution": {
     "iopub.execute_input": "2024-08-14T14:08:58.735747Z",
     "iopub.status.busy": "2024-08-14T14:08:58.734708Z",
     "iopub.status.idle": "2024-08-14T14:09:09.033867Z",
     "shell.execute_reply": "2024-08-14T14:09:09.032610Z",
     "shell.execute_reply.started": "2024-08-14T14:08:58.735597Z"
    },
    "scrolled": true,
    "tags": []
   },
   "outputs": [
    {
     "name": "stdout",
     "output_type": "stream",
     "text": [
      "Looking in indexes: https://mirror.baidu.com/pypi/simple/, https://mirrors.aliyun.com/pypi/simple/\r\n",
      "\u001b[33mWARNING: Skipping page https://mirror.baidu.com/pypi/simple/scipy/ because the GET request got Content-Type: application/octet-stream.The only supported Content-Type is text/html\u001b[0m\u001b[33m\r\n",
      "\u001b[0mCollecting scipy\r\n",
      "  Using cached https://mirrors.aliyun.com/pypi/packages/58/4f/11f34cfc57ead25752a7992b069c36f5d18421958ebd6466ecd849aeaf86/scipy-1.7.3-cp37-cp37m-manylinux_2_12_x86_64.manylinux2010_x86_64.whl (38.1 MB)\r\n",
      "\u001b[33mWARNING: Skipping page https://mirror.baidu.com/pypi/simple/numpy/ because the GET request got Content-Type: application/octet-stream.The only supported Content-Type is text/html\u001b[0m\u001b[33m\r\n",
      "\u001b[0mCollecting numpy<1.23.0,>=1.16.5\r\n",
      "  Using cached https://mirrors.aliyun.com/pypi/packages/6d/ad/ff3b21ebfe79a4d25b4a4f8e5cf9fd44a204adb6b33c09010f566f51027a/numpy-1.21.6-cp37-cp37m-manylinux_2_12_x86_64.manylinux2010_x86_64.whl (15.7 MB)\r\n",
      "Installing collected packages: numpy, scipy\r\n",
      "\u001b[31mERROR: pip's dependency resolver does not currently take into account all the packages that are installed. This behaviour is the source of the following dependency conflicts.\r\n",
      "parl 1.4.1 requires pyzmq==18.1.1, but you have pyzmq 23.2.1 which is incompatible.\u001b[0m\u001b[31m\r\n",
      "\u001b[0mSuccessfully installed numpy-1.21.6 scipy-1.7.3\r\n",
      "\r\n",
      "\u001b[1m[\u001b[0m\u001b[34;49mnotice\u001b[0m\u001b[1;39;49m]\u001b[0m\u001b[39;49m A new release of pip available: \u001b[0m\u001b[31;49m22.1.2\u001b[0m\u001b[39;49m -> \u001b[0m\u001b[32;49m24.0\u001b[0m\r\n",
      "\u001b[1m[\u001b[0m\u001b[34;49mnotice\u001b[0m\u001b[1;39;49m]\u001b[0m\u001b[39;49m To update, run: \u001b[0m\u001b[32;49mpip install --upgrade pip\u001b[0m\r\n"
     ]
    }
   ],
   "source": [
    "!pip install --upgrade scipy -t /home/aistudio/external-libraries"
   ]
  },
  {
   "cell_type": "code",
   "execution_count": 1,
   "id": "b4aa6252-8718-4f53-80e4-a0d459cdfd38",
   "metadata": {
    "execution": {
     "iopub.execute_input": "2024-08-14T14:16:53.666923Z",
     "iopub.status.busy": "2024-08-14T14:16:53.665416Z",
     "iopub.status.idle": "2024-08-14T14:16:53.848146Z",
     "shell.execute_reply": "2024-08-14T14:16:53.846792Z",
     "shell.execute_reply.started": "2024-08-14T14:16:53.666856Z"
    },
    "scrolled": true,
    "tags": []
   },
   "outputs": [
    {
     "name": "stdout",
     "output_type": "stream",
     "text": [
      "1.6.3\r\n"
     ]
    }
   ],
   "source": [
    "import sys \r\n",
    "sys.path.append('/home/aistudio/external-libraries')\r\n",
    "\r\n",
    "import scipy\r\n",
    "print(scipy.__version__)"
   ]
  }
 ],
 "metadata": {
  "kernelspec": {
   "display_name": "Python 3",
   "language": "python",
   "name": "py35-paddle1.2.0"
  },
  "language_info": {
   "codemirror_mode": {
    "name": "ipython",
    "version": 3
   },
   "file_extension": ".py",
   "mimetype": "text/x-python",
   "name": "python",
   "nbconvert_exporter": "python",
   "pygments_lexer": "ipython3",
   "version": "3.7.4"
  }
 },
 "nbformat": 4,
 "nbformat_minor": 5
}
